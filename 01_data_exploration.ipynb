{
 "cells": [
  {
   "cell_type": "code",
   "execution_count": 2,
   "metadata": {},
   "outputs": [],
   "source": [
    "import pandas as pd\n",
    "import numpy as np\n",
    "import seaborn as sns\n",
    "from matplotlib import pyplot as plt\n",
    "import warnings\n",
    "warnings.filterwarnings(action = 'ignore')"
   ]
  },
  {
   "cell_type": "markdown",
   "metadata": {},
   "source": [
    "# 1 Data Exploration"
   ]
  },
  {
   "cell_type": "markdown",
   "metadata": {},
   "source": [
    "## 1.1 Kernel Density Estimation\n",
    "- Application: Kernel Density Estimation (KDE) is used to find the true distribution of the data and can be used to generate new data points once those parameters are found\n",
    "- Description: KDE is a non-parametric way of estimation to get probability density function to understand the distribution of the underlying data\n",
    "- Functionality:\n",
    "    * We start by selecting a kernel function (i.e. Gaussian, triangle) and generate such function for each data point; we usually apply Gaussian\n",
    "    * To get a true representation of our data, we then aggregate those functions acorss data points\n",
    "    * The resulting kernel density estimate is hence the aggregation of all individual kernel functions\n",
    "    * The first parameter to specify is the bandwith, determining the width of a kernel function and hence the smoothness of the resulting curve. The higher the bandwidth, the smoother the fitted distribution line.\n",
    "    * The second parameter to specify is the distribution of the kernel function. The bandwidth also effects the individual kernel functions. The lower the bandwidth, the higher the kernel function\n",
    "    * The bandwidth can be calculated as: $1.06 * min(\\sigma, \\frac{IQR}{1.34}) * n^ {\\!-1/5}$\n",
    "    * Alternatively, we can plot the KDE with different parameters and observe and finetune the results\n",
    "- Limitations: Histogramms might make the job if I'm just interested in the distribution of the data"
   ]
  },
  {
   "cell_type": "code",
   "execution_count": 98,
   "metadata": {},
   "outputs": [],
   "source": [
    "from sklearn.datasets import load_iris\n",
    "from sklearn.neighbors import KernelDensity"
   ]
  },
  {
   "cell_type": "code",
   "execution_count": 99,
   "metadata": {},
   "outputs": [
    {
     "name": "stdout",
     "output_type": "stream",
     "text": [
      "Here is one new datapoints: [[5.46939116]]\n"
     ]
    },
    {
     "data": {
      "image/png": "[encoded data removed]",
      "text/plain": [
       "<Figure size 432x288 with 1 Axes>"
      ]
     },
     "metadata": {
      "needs_background": "light"
     },
     "output_type": "display_data"
    }
   ],
   "source": [
    "# load data\n",
    "iris = load_iris()\n",
    "iris = pd.DataFrame(iris['data'], columns = [\"SepalLengthCm\", \"SepalWidthCm\", \"PetalLengthCm\", \"PetalWidthCm\"])\n",
    "x = iris['SepalLengthCm'][:, np.newaxis]\n",
    "\n",
    "# determine bandwidth and support\n",
    "bw = 1.06 * x.std() * len(x) ** (-1/5)\n",
    "support = np.linspace(2, 10, len(x))\n",
    "\n",
    "# initialize KDE\n",
    "kde = KernelDensity(kernel = 'gaussian', bandwidth = bw)\n",
    "\n",
    "# fit kde\n",
    "kde.fit(x)\n",
    "\n",
    "# create new data\n",
    "new_data = kde.sample(1, random_state=3)\n",
    "print('Here is one new datapoints:', new_data)\n",
    "\n",
    "# find support values (log density model on the data)\n",
    "y = kde.score_samples(support[:, np.newaxis])\n",
    "\n",
    "# plot the result\n",
    "plt.hist(x, bins=10, alpha = 0.5, density = True)\n",
    "plt.plot(support, np.exp(y))\n",
    "plt.xlabel('Sepal Length')\n",
    "plt.title('Kernel Density Plot')\n",
    "plt.show()"
   ]
  },
  {
   "cell_type": "markdown",
   "metadata": {},
   "source": [
    "## 1.2 Kolmogorov-Smirnov Test\n",
    "- Application: The Kolmogorov-Smirnov Test (KS-Test) is applied to analyze the distribution of datasets\n",
    "- Description: The KS-Test compares a sample with a reference probability distribution (one-sample K–S test), or compares two samples (two-sample K–S test); it hence provides insight into the godness of fit of samples\n",
    "- Functionality:\n",
    "    * The test quantifies a distance between the empirical distribution function of the sample and the cumulative distribution function of the reference distribution, or between the empirical distribution functions of two samples\n",
    "    * The null hypothesis is that the sample is drawn from the reference distribution (in the one-sample case) or that the samples are drawn from the same distribution (in the two-sample case)\n",
    "- Limitations: The test only applies to continuous distributions"
   ]
  },
  {
   "cell_type": "code",
   "execution_count": 100,
   "metadata": {},
   "outputs": [],
   "source": [
    "from scipy import stats"
   ]
  },
  {
   "cell_type": "code",
   "execution_count": 108,
   "metadata": {},
   "outputs": [
    {
     "data": {
      "text/plain": [
       "KstestResult(statistic=0.05976890513584643, pvalue=0.8673278748019739)"
      ]
     },
     "execution_count": 108,
     "metadata": {},
     "output_type": "execute_result"
    }
   ],
   "source": [
    "# create random normal distribution\n",
    "x = np.random.normal(0, 1, 100)\n",
    "\n",
    "# apply ks-test\n",
    "stats.kstest(x, 'norm')"
   ]
  },
  {
   "cell_type": "markdown",
   "metadata": {},
   "source": [
    "The first value is the ks-test statistic. The second value is the p-value. Since the p-value > 0.05, we do not reject the null hypothesis and can conclude that the distribution is indeed normally distributed."
   ]
  },
  {
   "cell_type": "markdown",
   "metadata": {},
   "source": [
    "## 2.3 Data Interpolation\n",
    "- Application: There are different ways to deal with missing data, such as dropping it or hard-coding new values; interpolation is however a more sophisticated technique to fill missing data \n",
    "- Description: There are different interpolation methods available in the pandas .interpolate() function such as linear, nearest etc.; this also works on categorical data"
   ]
  },
  {
   "cell_type": "code",
   "execution_count": 8,
   "metadata": {},
   "outputs": [
    {
     "name": "stdout",
     "output_type": "stream",
     "text": [
      "      A     B     C     D\n",
      "0  12.0   1.0  20.0  14.0\n",
      "1   4.0   2.0  16.0   3.0\n",
      "2   5.0  54.0   9.5   4.0\n",
      "3   3.0   3.0   3.0   5.0\n",
      "4   1.0   3.0   8.0   6.0\n"
     ]
    }
   ],
   "source": [
    "# load data\n",
    "df = pd.DataFrame({\"A\":[12, 4, 5, None, 1], \n",
    "                   \"B\":[1, 2, 54, 3, None], \n",
    "                   \"C\":[20, 16, None, 3, 8], \n",
    "                   \"D\":[14, 3, None, None, 6]})\n",
    "\n",
    "# interpolate missing data\n",
    "df = df.interpolate()\n",
    "print(df)"
   ]
  }
 ],
 "metadata": {
  "kernelspec": {
   "display_name": "Python 3",
   "language": "python",
   "name": "python3"
  },
  "language_info": {
   "codemirror_mode": {
    "name": "ipython",
    "version": 3
   },
   "file_extension": ".py",
   "mimetype": "text/x-python",
   "name": "python",
   "nbconvert_exporter": "python",
   "pygments_lexer": "ipython3",
   "version": "3.7.3"
  }
 },
 "nbformat": 4,
 "nbformat_minor": 4
}
