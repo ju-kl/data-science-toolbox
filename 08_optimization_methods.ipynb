{
 "cells": [
  {
   "cell_type": "code",
   "execution_count": 7,
   "metadata": {},
   "outputs": [],
   "source": [
    "import pandas as pd\n",
    "import numpy as np\n",
    "import seaborn as sns\n",
    "from matplotlib import pyplot as plt"
   ]
  },
  {
   "cell_type": "markdown",
   "metadata": {},
   "source": [
    "# 8 Optimization Methods"
   ]
  },
  {
   "cell_type": "markdown",
   "metadata": {},
   "source": [
    "## 8.1 Gradient Descent\n",
    "- Application: Gradient descent is used to estimate the parameters of a model, in particular coefficients in linear regression or weights in neural networks\n",
    "- Description: Gradient descent is an iterative optimization algorithm for finding the minimum of a (loss) function and the model parameters that minimize that (loss) function\n",
    "- Functionality:\n",
    "    * The cost function is a quadratic and most of the time convex function, meaning it has one global minimum\n",
    "    * First step is to find the gradient, which is the first partial derivative of the cost function ($\\frac{\\delta}{\\delta\\theta_j}J(\\theta)$), and initialize the model parameters $\\theta$ at random\n",
    "    * In order to find the cost function's minimum we move to the negative of the gradient; those moves will be big in the beginning and become smaller as the gradient approaches 0 (the minimum of the cost function)\n",
    "    * We also introduce a learning rate $\\alpha$ that scales the impact of the gradient on $\\theta$; we can have the learning rate gradually decrease towards the end of the iterations to avoid overshooting the minimum\n",
    "    * After each move, we adjust $\\theta$ by the negatige gradient adjusted by the learning rate\n",
    "    * The gradient descent can hence be formalized as: $\\theta_j := \\theta_j - \\alpha \\frac{\\delta}{\\delta\\theta_j}J(\\theta)$\n",
    "    * There are different variants of the gradient descent:\n",
    "        * Batch: Compute gradient in one-shot with all training data; disadvantage: very memory expensive especially for large datasets\n",
    "        * Stochastic: Compute gradient using one random training data instance at a time\n",
    "        * Mini-batch: Compute gradient using specified number (mini-batch size) of random training data instances\n",
    "- Limitations: We don't always arrive at the true minimum, however the advantage of this approach is that we don't have to calculate the second derivative or inverse, making it faster than the normal equation of Hessian when the amount of features is very large"
   ]
  },
  {
   "cell_type": "code",
   "execution_count": 202,
   "metadata": {},
   "outputs": [],
   "source": [
    "from sklearn.datasets import load_boston\n",
    "from sklearn.preprocessing import StandardScaler"
   ]
  },
  {
   "cell_type": "code",
   "execution_count": 207,
   "metadata": {},
   "outputs": [
    {
     "name": "stdout",
     "output_type": "stream",
     "text": [
      "The betas for the model are: [-1.07  1.9  -2.11 -1.15]\n",
      "The interception for the model is: 22.53\n"
     ]
    }
   ],
   "source": [
    "# load data\n",
    "boston = load_boston()\n",
    "features = pd.DataFrame(boston[\"data\"], columns = boston[\"feature_names\"])\n",
    "y = np.asarray(boston[\"target\"])\n",
    "x = np.asarray(features[[\"RAD\", \"ZN\", \"CRIM\", \"AGE\"]].values)\n",
    "\n",
    "# initiate StandardScaler()\n",
    "scaler = StandardScaler()\n",
    "\n",
    "# fit scaler with training data\n",
    "x = scaler.fit_transform(x)\n",
    "\n",
    "# add a column of 1s for intercept\n",
    "ones_x = np.ones((len(x), 1))\n",
    "x_new = np.append(ones_x, x, axis = 1)\n",
    "\n",
    "# initialize values for gradient descent\n",
    "eta = 0.1\n",
    "n_iterations = 1000\n",
    "m = len(x)\n",
    "theta = np.random.randn(5,1)\n",
    "\n",
    "# run gradient descent\n",
    "for iteration in range(n_iterations):\n",
    "    gradients = 2/m * x_new.T.dot(x_new.dot(theta) - [[i] for i in y])\n",
    "    theta = theta - eta * gradients\n",
    "    \n",
    "# print results\n",
    "print(\"The betas for the model are: {}\".format(np.around([i[0] for i in theta][1:], decimals = 2)))\n",
    "print(\"The interception for the model is: {}\".format(np.around([i[0] for i in theta][0], decimals = 2)))"
   ]
  },
  {
   "cell_type": "markdown",
   "metadata": {},
   "source": [
    "## 8.2 Newton-Raphson\n",
    "- Application: Newton-Rapshon is applied to approximate roots of a function (i.e. Log-Likelihood function)\n",
    "- Description: Newton-Raphson method approximates $f(x)$ with Taylor expansion in the vicinity of the previous iteration\n",
    "- Functionality:\n",
    "    * We choose an intitial value $x_0$ for the algorithm\n",
    "    * We write and adjust the Taylor expansion to be: $x_{i+1} = x_i - \\frac{f(x_i)}{f'(x_i)}$\n",
    "    * We check the stopping condition $|x_{i+1} - x_i| \\leq \\epsilon$, where $\\epsilon$ is a preselected small number\n",
    "    \n",
    "<img src=\"https://media.geeksforgeeks.org/wp-content/cdn-uploads/newtonRaphsonMethod.png\"\n",
    "     width=\"500\" height=\"300\" />   \n",
    "- Limitations: This method requires the derivative of the original function, which can be very complicated. Also the initial guess needs to be fairly accurate"
   ]
  },
  {
   "cell_type": "code",
   "execution_count": 101,
   "metadata": {},
   "outputs": [
    {
     "name": "stdout",
     "output_type": "stream",
     "text": [
      "The two roots are -0.81 and 2.47.\n"
     ]
    },
    {
     "data": {
      "image/png": "[encoded data removed]",
      "text/plain": [
       "<Figure size 432x288 with 1 Axes>"
      ]
     },
     "metadata": {
      "needs_background": "light"
     },
     "output_type": "display_data"
    }
   ],
   "source": [
    "# define newton raphson optimizer\n",
    "def newton_raphson(start_value, input_function, epsilon):\n",
    "    x0 = start_value\n",
    "    x1 = x0 - (input_function(x0) / ((input_function(x0 + 0.0000001) - input_function(x0)) / (0.0000001)))\n",
    "    while (abs(x1 - x0) > epsilon):\n",
    "        x0 = x1\n",
    "        x1 = x0 - (input_function(x0) / ((input_function(x0 + 0.0000001) - input_function(x0)) / (0.0000001)))\n",
    "    return x1\n",
    "\n",
    "# create test function\n",
    "def test_func(x_input):\n",
    "    return x_input**2 * 3 - x_input*5 - 6\n",
    "\n",
    "# plot test function\n",
    "x = np.arange(-5, 5, 0.1)\n",
    "plot = plt.plot(x, [test_func(i) for i in x])\n",
    "plot = plt.axhline(y=0, color='k')\n",
    "\n",
    "# calculate roots\n",
    "print('The two roots are {:.2f} and {:.2f}.'.format(newton_raphson(-2, test_func, 0.00001), newton_raphson(2, test_func, 0.00001)))"
   ]
  },
  {
   "cell_type": "markdown",
   "metadata": {},
   "source": [
    "## 8.3 Grid Search for Hyperparameter Optimization\n",
    "- Application: Grid Search is used to find the optimal hyperparameters of a model which results in the most accurate predictions\n",
    "- Description:\n",
    "    * Parameters: Internal characteristic of a model, meaning it can be estimated from the data (i.e. beta coefficients for linear regression)\n",
    "    * Hyperparameters: Characteristic of a model that is external, meaning it cannot be estimated from the data. The hyperparameter needs to be determined when fitting the model (i.e. k for KNN)"
   ]
  },
  {
   "cell_type": "code",
   "execution_count": 8,
   "metadata": {},
   "outputs": [],
   "source": [
    "from sklearn.datasets import load_iris\n",
    "from sklearn.tree import DecisionTreeClassifier\n",
    "from sklearn.ensemble import RandomForestClassifier\n",
    "from sklearn.ensemble import GradientBoostingClassifier\n",
    "from sklearn.model_selection import GridSearchCV"
   ]
  },
  {
   "cell_type": "code",
   "execution_count": 124,
   "metadata": {},
   "outputs": [
    {
     "name": "stdout",
     "output_type": "stream",
     "text": [
      "best parameters are: DecisionTreeClassifier(class_weight=None, criterion='gini', max_depth=5,\n",
      "                       max_features=None, max_leaf_nodes=10,\n",
      "                       min_impurity_decrease=0.0, min_impurity_split=None,\n",
      "                       min_samples_leaf=1, min_samples_split=2,\n",
      "                       min_weight_fraction_leaf=0.0, presort=False,\n",
      "                       random_state=None, splitter='best')\n",
      "best parameters are: RandomForestClassifier(bootstrap=True, class_weight=None, criterion='gini',\n",
      "                       max_depth=5, max_features='auto', max_leaf_nodes=40,\n",
      "                       min_impurity_decrease=0.0, min_impurity_split=None,\n",
      "                       min_samples_leaf=1, min_samples_split=2,\n",
      "                       min_weight_fraction_leaf=0.0, n_estimators=10,\n",
      "                       n_jobs=None, oob_score=False, random_state=None,\n",
      "                       verbose=0, warm_start=False)\n",
      "best parameters are: GradientBoostingClassifier(criterion='friedman_mse', init=None,\n",
      "                           learning_rate=0.1, loss='deviance', max_depth=5,\n",
      "                           max_features=None, max_leaf_nodes=30,\n",
      "                           min_impurity_decrease=0.0, min_impurity_split=None,\n",
      "                           min_samples_leaf=1, min_samples_split=2,\n",
      "                           min_weight_fraction_leaf=0.0, n_estimators=100,\n",
      "                           n_iter_no_change=None, presort='auto',\n",
      "                           random_state=None, subsample=1.0, tol=0.0001,\n",
      "                           validation_fraction=0.1, verbose=0,\n",
      "                           warm_start=False)\n"
     ]
    }
   ],
   "source": [
    "# load data\n",
    "iris = load_iris()\n",
    "iris = pd.concat([pd.DataFrame(iris['data'], columns = [\"SepalLengthCm\", \"SepalWidthCm\", \"PetalLengthCm\", \"PetalWidthCm\"]), pd.DataFrame(iris['target'], columns = ['Species'])],\n",
    "                axis = 1)\n",
    "y = iris['Species']\n",
    "x = iris[[\"SepalLengthCm\", \"SepalWidthCm\", \"PetalLengthCm\", \"PetalWidthCm\"]].values\n",
    "\n",
    "# initialize models\n",
    "models = {'dt': DecisionTreeClassifier(), 'rf': RandomForestClassifier(), 'gb': GradientBoostingClassifier()}\n",
    "\n",
    "# set parameters for each model\n",
    "params = {'dt' : {'criterion':('gini', 'entropy'), 'max_depth':[5,7,9,11,13,15,None], 'max_leaf_nodes':list(range(10,100,5))},\n",
    "          'rf': {'criterion':('gini', 'entropy'), 'max_depth':[5,7,9,11,13,15,None], 'max_leaf_nodes':list(range(10,100,5))},\n",
    "          'gb': {'max_depth':[5,7,9,11,13,15,None], 'max_leaf_nodes':list(range(10,100,5))}}\n",
    "          \n",
    "# run grid search for each model\n",
    "def fit(x_train, y_train):\n",
    "    \"\"\"\n",
    "    fits the list of models to the training data, thereby obtaining in each case an evaluation score after GridSearchCV cross-validation\n",
    "    \"\"\"\n",
    "    for name in models.keys():\n",
    "        est = models[name]\n",
    "        est_params = params[name]\n",
    "        gscv = GridSearchCV(estimator = est, param_grid = est_params, cv = 5)\n",
    "        gscv.fit(x_train, y_train)\n",
    "        print(\"best parameters are: {}\".format(gscv.best_estimator_))\n",
    "\n",
    "# apply function\n",
    "fit(x, y)"
   ]
  }
 ],
 "metadata": {
  "kernelspec": {
   "display_name": "Python 3",
   "language": "python",
   "name": "python3"
  },
  "language_info": {
   "codemirror_mode": {
    "name": "ipython",
    "version": 3
   },
   "file_extension": ".py",
   "mimetype": "text/x-python",
   "name": "python",
   "nbconvert_exporter": "python",
   "pygments_lexer": "ipython3",
   "version": "3.7.3"
  }
 },
 "nbformat": 4,
 "nbformat_minor": 4
}
