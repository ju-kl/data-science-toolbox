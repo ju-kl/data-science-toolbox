{
 "cells": [
  {
   "cell_type": "markdown",
   "metadata": {},
   "source": [
    "# Data Science Toolbox\n",
    "### Author: Julian Kleindiek\n",
    "### Date: 01/21/2020"
   ]
  },
  {
   "cell_type": "markdown",
   "metadata": {},
   "source": [
    "This document serves as a library of my Data Science Toolbox. I use it to store all techniques that I have learned throughout my Master in Analytics at the University of Chicago. I learned about these techniques in classes such as Statistical Analysis, Non-Linear Models, Data Mining, Machine Learning, and Advanced Machine Learning and applied them in several projects that I have worked on with my fellow students. \n",
    "\n",
    "The document is structured along the typical pipline of a data science project: \n",
    "1. Data Exploration\n",
    "2. Feature Engineering\n",
    "3. Data Clustering\n",
    "4. Data Modeling\n",
    "5. Evaluation of Model Performance\n",
    "\n",
    "I have also added a section that describes that data that I have used throughout this document in order to present examples of each technique. Here are some examples of the techniques that I cover in this document:\n",
    "- Dimension Reduction:\n",
    "    * Principal Component Analysis\n",
    "    * Truncated SVD\n",
    "- Clustering:\n",
    "    * t-SNE\n",
    "    * K-Means\n",
    "    * DBSCAN\n",
    "    * Hierarchical Clustering\n",
    "- Modelling:\n",
    "    * Linear Regression\n",
    "    * Logistic Regression\n",
    "    * K-Nearest Neighbor\n",
    "    * Decision Trees\n",
    "    * Random Forrest\n",
    "    * General Linear Regression Models\n",
    "    * Copulas\n",
    "    * Zero Truncated Models\n",
    "    * Kernel SVM\n",
    "    * Apriori Algorithm\n",
    "    * Collaborative Filtering\n",
    "    * Content Based Recommendations"
   ]
  },
  {
   "cell_type": "markdown",
   "metadata": {},
   "source": [
    "# 1. Data Exploration"
   ]
  },
  {
   "cell_type": "markdown",
   "metadata": {},
   "source": [
    "### Kernel Density Estimation\n",
    "- Application: Kernel Density Estimation (KDE) is used to find the true distribution of the data and can be used to generate new data points once those parameters are found.\n",
    "- Description: KDE is a non-parametric way of estimation to get probability density function to understand the distribution of the underlying data.\n",
    "- Functionality:\n",
    "    * We start by selecting a kernel function (i.e. Gaussian, triangle) and generate such function for each data point. We usually apply Gaussian.\n",
    "    * To get a true representation of our data, we then aggregate those functions acorss data points\n",
    "    * The resulting kernel density estimate is hence the aggregation of all individual kernel functions\n",
    "    * The first parameter to specify is the bandwith, determining the width of a kernel function and hence the smoothness of the resulting curve. The higher the bandwidth, the smoother the fitted distribution line.\n",
    "    * The second parameter to specify is the distribution of the kernel function. The bandwidth also effects the individual kernel functions. The lower the bandwidth, the higher the kernel function.\n",
    "    * The bandwidth can be calculated as: $0.9 * min(\\sigma, \\frac{IQR}{1.34}) * n^ {\\!-1/5}$\n",
    "    * Alaternatively, we can plot the KDE with different parameters and observe and finetune the results\n",
    "- Limitations: Histogramms might make the job if I'm just interested in the distribution of the data.\n",
    "- Examples:"
   ]
  },
  {
   "cell_type": "code",
   "execution_count": 9,
   "metadata": {},
   "outputs": [],
   "source": [
    "# run example here (Data Mining, class 4)"
   ]
  },
  {
   "cell_type": "markdown",
   "metadata": {},
   "source": [
    "### ~ Kolmogorov-Smirnov"
   ]
  },
  {
   "cell_type": "markdown",
   "metadata": {},
   "source": [
    "# 2. Feature Engineering"
   ]
  },
  {
   "cell_type": "markdown",
   "metadata": {},
   "source": [
    "## Standardization"
   ]
  },
  {
   "cell_type": "markdown",
   "metadata": {},
   "source": [
    "### StandardScalar()\n",
    "- Application: StandardScalar is applied to data columns and hence only one feature.\n",
    "- Description: StandardScalar standardizes features individually by removing the mean and scaling to unit variance ($ z = \\frac{x - u}{s} $). Unit variance means that the standard deviation of a sample as well as the variance will tend towards 1 as the sample size tends towards infinity."
   ]
  },
  {
   "cell_type": "code",
   "execution_count": 26,
   "metadata": {},
   "outputs": [
    {
     "name": "stdout",
     "output_type": "stream",
     "text": [
      "       SepalLengthCm  SepalWidthCm  PetalLengthCm  PetalWidthCm\n",
      "count     150.000000    150.000000     150.000000    150.000000\n",
      "mean        5.843333      3.054000       3.758667      1.198667\n",
      "std         0.828066      0.433594       1.764420      0.763161\n",
      "min         4.300000      2.000000       1.000000      0.100000\n",
      "25%         5.100000      2.800000       1.600000      0.300000\n",
      "50%         5.800000      3.000000       4.350000      1.300000\n",
      "75%         6.400000      3.300000       5.100000      1.800000\n",
      "max         7.900000      4.400000       6.900000      2.500000\n",
      "       SepalLengthCm  SepalWidthCm  PetalLengthCm  PetalWidthCm\n",
      "count   1.500000e+02  1.500000e+02   1.500000e+02  1.500000e+02\n",
      "mean   -2.775558e-16 -5.140333e-16   1.154632e-16  9.251859e-16\n",
      "std     1.003350e+00  1.003350e+00   1.003350e+00  1.003350e+00\n",
      "min    -1.870024e+00 -2.438987e+00  -1.568735e+00 -1.444450e+00\n",
      "25%    -9.006812e-01 -5.877635e-01  -1.227541e+00 -1.181504e+00\n",
      "50%    -5.250608e-02 -1.249576e-01   3.362659e-01  1.332259e-01\n",
      "75%     6.745011e-01  5.692513e-01   7.627586e-01  7.905908e-01\n",
      "max     2.492019e+00  3.114684e+00   1.786341e+00  1.710902e+00\n"
     ]
    }
   ],
   "source": [
    "# import packages\n",
    "import pandas as pd\n",
    "from sklearn.preprocessing import StandardScaler\n",
    "\n",
    "# load data\n",
    "iris = pd.read_csv(\"00_Data/Iris.csv\", usecols=[\"SepalLengthCm\", \"SepalWidthCm\", \"PetalLengthCm\", \"PetalWidthCm\"])\n",
    "print(iris.describe())\n",
    "\n",
    "# initiate StandardScaler()\n",
    "scaler = StandardScaler()\n",
    "\n",
    "# fit scaler and transform iris data\n",
    "iris_standard_scaler = scaler.fit_transform(iris)\n",
    "\n",
    "# print standardized data\n",
    "print(pd.DataFrame(iris_standard_scaler, \n",
    "                   columns = [\"SepalLengthCm\", \"SepalWidthCm\", \"PetalLengthCm\", \"PetalWidthCm\"]).describe())"
   ]
  },
  {
   "cell_type": "markdown",
   "metadata": {},
   "source": [
    "### Normalizer()\n",
    "- Application: Normalizer is applied to data rows and hence across features.\n",
    "- Description: Normalizer rescales each row, meaning that it adjusts the value of each feature relative to the value of the other features in each row to a realative scale."
   ]
  },
  {
   "cell_type": "code",
   "execution_count": 25,
   "metadata": {},
   "outputs": [
    {
     "name": "stdout",
     "output_type": "stream",
     "text": [
      "   SepalLengthCm  SepalWidthCm  PetalLengthCm  PetalWidthCm\n",
      "0            5.1           3.5            1.4           0.2\n",
      "1            4.9           3.0            1.4           0.2\n",
      "2            4.7           3.2            1.3           0.2\n",
      "3            4.6           3.1            1.5           0.2\n",
      "4            5.0           3.6            1.4           0.2\n",
      "   SepalLengthCm  SepalWidthCm  PetalLengthCm  PetalWidthCm\n",
      "0       0.803773      0.551609       0.220644      0.031521\n",
      "1       0.828133      0.507020       0.236609      0.033801\n",
      "2       0.805333      0.548312       0.222752      0.034269\n",
      "3       0.800030      0.539151       0.260879      0.034784\n",
      "4       0.790965      0.569495       0.221470      0.031639\n"
     ]
    }
   ],
   "source": [
    "# import packages\n",
    "import pandas as pd\n",
    "from sklearn.preprocessing import Normalizer\n",
    "\n",
    "# load data\n",
    "iris = pd.read_csv(\"00_Data/Iris.csv\", usecols=[\"SepalLengthCm\", \"SepalWidthCm\", \"PetalLengthCm\", \"PetalWidthCm\"])\n",
    "print(iris.head())\n",
    "\n",
    "# initiate StandardScaler()\n",
    "scaler = Normalizer()\n",
    "\n",
    "# fit scaler and transform iris data\n",
    "iris_normlized = scaler.fit_transform(iris)\n",
    "\n",
    "# print standardized data\n",
    "print(pd.DataFrame(iris_normlized, \n",
    "                   columns = [\"SepalLengthCm\", \"SepalWidthCm\", \"PetalLengthCm\", \"PetalWidthCm\"]).head())"
   ]
  },
  {
   "cell_type": "markdown",
   "metadata": {},
   "source": [
    "## Variance"
   ]
  },
  {
   "cell_type": "markdown",
   "metadata": {},
   "source": [
    "### VarianceThreshold()\n",
    "- Application: VarianceThreshold() is applied for feature selection and identifies low variance features that won't be significant in predicting the target variable.\n",
    "- Description: VarianceThreshold() is a feature selector that removes all low-variance features."
   ]
  },
  {
   "cell_type": "code",
   "execution_count": 120,
   "metadata": {},
   "outputs": [
    {
     "name": "stdout",
     "output_type": "stream",
     "text": [
      "These are the infos on the original data frame: \n",
      "          a         b         c    d\n",
      "count  3.0  3.000000  3.000000  3.0\n",
      "mean   0.0  1.333333  1.666667  3.0\n",
      "std    0.0  0.577350  2.081666  0.0\n",
      "min    0.0  1.000000  0.000000  3.0\n",
      "25%    0.0  1.000000  0.500000  3.0\n",
      "50%    0.0  1.000000  1.000000  3.0\n",
      "75%    0.0  1.500000  2.500000  3.0\n",
      "max    0.0  2.000000  4.000000  3.0\n",
      "This is how the transformed data frame looks like: \n",
      "    b  c\n",
      "0  2  0\n",
      "1  1  4\n",
      "2  1  1\n"
     ]
    }
   ],
   "source": [
    "# imports\n",
    "from sklearn.feature_selection import VarianceThreshold\n",
    "\n",
    "# create data frame\n",
    "x = [[0, 2, 0, 3], [0, 1, 4, 3], [0, 1, 1, 3]]\n",
    "df = pd.DataFrame(x, columns = [\"a\", \"b\", \"c\", \"d\"])\n",
    "\n",
    "# initialize VarianceThreshold\n",
    "selector = VarianceThreshold()\n",
    "\n",
    "# fit model and transform data frame\n",
    "df_new = selector.fit_transform(df)\n",
    "\n",
    "# print results\n",
    "print(\"These are the infos on the original data frame:\", \"\\n\", df.describe())\n",
    "print(\"This is how the transformed data frame looks like:\", \"\\n\", \n",
    "      pd.DataFrame(df_new, columns = df.columns[selector.get_support()]))"
   ]
  },
  {
   "cell_type": "markdown",
   "metadata": {},
   "source": [
    "## Correlation"
   ]
  },
  {
   "cell_type": "markdown",
   "metadata": {},
   "source": [
    "### Correlation Matrix\n",
    "- Application: Correlation matrix is applied for feature selection and identifies highly correlated features that should be removed.\n",
    "- Description: Find the correlation matrix and remove features that are highly correlated."
   ]
  },
  {
   "cell_type": "code",
   "execution_count": 125,
   "metadata": {},
   "outputs": [
    {
     "data": {
      "text/html": [
       "<div>\n",
       "<style scoped>\n",
       "    .dataframe tbody tr th:only-of-type {\n",
       "        vertical-align: middle;\n",
       "    }\n",
       "\n",
       "    .dataframe tbody tr th {\n",
       "        vertical-align: top;\n",
       "    }\n",
       "\n",
       "    .dataframe thead th {\n",
       "        text-align: right;\n",
       "    }\n",
       "</style>\n",
       "<table border=\"1\" class=\"dataframe\">\n",
       "  <thead>\n",
       "    <tr style=\"text-align: right;\">\n",
       "      <th></th>\n",
       "      <th>SepalLengthCm</th>\n",
       "      <th>SepalWidthCm</th>\n",
       "      <th>PetalLengthCm</th>\n",
       "      <th>PetalWidthCm</th>\n",
       "    </tr>\n",
       "  </thead>\n",
       "  <tbody>\n",
       "    <tr>\n",
       "      <th>SepalLengthCm</th>\n",
       "      <td>NaN</td>\n",
       "      <td>NaN</td>\n",
       "      <td>NaN</td>\n",
       "      <td>NaN</td>\n",
       "    </tr>\n",
       "    <tr>\n",
       "      <th>SepalWidthCm</th>\n",
       "      <td>NaN</td>\n",
       "      <td>NaN</td>\n",
       "      <td>NaN</td>\n",
       "      <td>NaN</td>\n",
       "    </tr>\n",
       "    <tr>\n",
       "      <th>PetalLengthCm</th>\n",
       "      <td>NaN</td>\n",
       "      <td>NaN</td>\n",
       "      <td>NaN</td>\n",
       "      <td>0.962757</td>\n",
       "    </tr>\n",
       "    <tr>\n",
       "      <th>PetalWidthCm</th>\n",
       "      <td>NaN</td>\n",
       "      <td>NaN</td>\n",
       "      <td>0.962757</td>\n",
       "      <td>NaN</td>\n",
       "    </tr>\n",
       "  </tbody>\n",
       "</table>\n",
       "</div>"
      ],
      "text/plain": [
       "               SepalLengthCm  SepalWidthCm  PetalLengthCm  PetalWidthCm\n",
       "SepalLengthCm            NaN           NaN            NaN           NaN\n",
       "SepalWidthCm             NaN           NaN            NaN           NaN\n",
       "PetalLengthCm            NaN           NaN            NaN      0.962757\n",
       "PetalWidthCm             NaN           NaN       0.962757           NaN"
      ]
     },
     "execution_count": 125,
     "metadata": {},
     "output_type": "execute_result"
    }
   ],
   "source": [
    "# load data\n",
    "iris = pd.read_csv(\"00_Data/Iris.csv\", usecols=[\"SepalLengthCm\", \"SepalWidthCm\", \"PetalLengthCm\", \"PetalWidthCm\"])\n",
    "\n",
    "# run correlation matrix\n",
    "iris.corr(method = \"pearson\")[(iris.corr(method = \"pearson\") > 0.9) & (iris.corr(method = \"pearson\") != 1)]"
   ]
  },
  {
   "cell_type": "markdown",
   "metadata": {},
   "source": [
    "## Text"
   ]
  },
  {
   "cell_type": "markdown",
   "metadata": {},
   "source": [
    "### TfidfVectorizer()\n",
    "- Application: TfidfVectorizer is applied to convert text (documents) into numerical values, namely a matrix of tf-idf features.\n",
    "- Description: \n",
    "    * Tf–idf is short for term frequency–inverse document frequency and represents a numerical statistic that is intended to reflect how important a word is to a document.\n",
    "    * The tf–idf value increases proportionally to the number of times a word appears in the document and is offset by the number of documents in the corpus that contain the word, helping to adjust for the fact that some words appear more frequently in general."
   ]
  },
  {
   "cell_type": "code",
   "execution_count": 113,
   "metadata": {},
   "outputs": [
    {
     "name": "stdout",
     "output_type": "stream",
     "text": [
      "The unique words in the corpus are: \n",
      " ['cats', 'chase', 'dogs', 'greet', 'say', 'to', 'woof']\n",
      "The resulting matrix looks like this: \n",
      " [[0.83559154 0.         0.         0.54935123 0.         0.\n",
      "  0.        ]\n",
      " [0.         0.         0.65985664 0.         0.43381609 0.43381609\n",
      "  0.43381609]\n",
      " [0.51785612 0.68091856 0.51785612 0.         0.         0.\n",
      "  0.        ]]\n"
     ]
    }
   ],
   "source": [
    "# imports\n",
    "from sklearn.feature_extraction.text import TfidfVectorizer\n",
    "\n",
    "# create list of text documents\n",
    "corpus = [\"cats greet cats\", \"dogs say woof to dogs\", \"dogs chase cats\"]\n",
    "\n",
    "# initialize TfidfVectorizer\n",
    "vectorizer = TfidfVectorizer()\n",
    "\n",
    "# fit vectorizer\n",
    "vectorizer.fit(corpus)\n",
    "\n",
    "# transform the document\n",
    "corpus_vectorized = vectorizer.transform(corpus)\n",
    "\n",
    "# print results\n",
    "print(\"The unique words in the corpus are:\", \"\\n\", vectorizer.get_feature_names())\n",
    "print(\"The resulting matrix looks like this:\", \"\\n\", corpus_vectorized.toarray())"
   ]
  },
  {
   "cell_type": "markdown",
   "metadata": {},
   "source": [
    "### CountVectorizer()\n",
    "- Application: CountVectorizer is applied to count the number of times a word appears in a document. \n",
    "- Description:\n",
    "    * Returns a vector with a length of the entire vocabulary of the document and an integer count for the number of times each word (token) appeared in the document.\n",
    "    * The output is presented as a sparse matrix."
   ]
  },
  {
   "cell_type": "code",
   "execution_count": 114,
   "metadata": {},
   "outputs": [
    {
     "name": "stdout",
     "output_type": "stream",
     "text": [
      "The unique words in the corpus are: \n",
      " {'cats': 0, 'greet': 3, 'dogs': 2, 'say': 4, 'woof': 6, 'to': 5, 'chase': 1}\n",
      "The resulting matrix looks like this: \n",
      " [[2 0 0 1 0 0 0]\n",
      " [0 0 2 0 1 1 1]\n",
      " [1 1 1 0 0 0 0]]\n"
     ]
    }
   ],
   "source": [
    "# imports\n",
    "from sklearn.feature_extraction.text import CountVectorizer\n",
    "\n",
    "# create list of text documents\n",
    "corpus = [\"cats greet cats\", \"dogs say woof to dogs\", \"dogs chase cats\"]\n",
    "\n",
    "# initialize the CountVectorizer\n",
    "vectorizer = CountVectorizer()\n",
    "\n",
    "# fit the vectorizer\n",
    "vectorizer.fit(corpus)\n",
    "\n",
    "# transform the document\n",
    "corpus_vectorized = vectorizer.transform(corpus)\n",
    "\n",
    "# print results\n",
    "print(\"The unique words in the corpus are:\", \"\\n\", vectorizer.vocabulary_)\n",
    "print(\"The resulting matrix looks like this:\", \"\\n\", corpus_vectorized.toarray())"
   ]
  },
  {
   "cell_type": "markdown",
   "metadata": {},
   "source": [
    "### ~ Keyword Extraction\n",
    "- See data mining class 7"
   ]
  },
  {
   "cell_type": "markdown",
   "metadata": {},
   "source": [
    "### ~ Word Embeddings"
   ]
  },
  {
   "cell_type": "markdown",
   "metadata": {},
   "source": [
    "## Anomaly Detection"
   ]
  },
  {
   "cell_type": "markdown",
   "metadata": {},
   "source": [
    "### ~ AutoEncoder"
   ]
  },
  {
   "cell_type": "markdown",
   "metadata": {},
   "source": [
    "### ~ Synthetic Minority Oversampling Technique"
   ]
  },
  {
   "cell_type": "markdown",
   "metadata": {},
   "source": [
    "## Dimension Reduction"
   ]
  },
  {
   "cell_type": "markdown",
   "metadata": {},
   "source": [
    "### Principle Component Analysis\n",
    "- Application: PCA is applied to reduce the dimensionality of data and to find patterns in data of high dimension.\n",
    "- Desciption: PCA is able to represent the original data in a given number of components. The number of components should be reduced as much as possible, while still describing >85% of the data's variance.\n",
    "- Functionality:\n",
    "    * We have a point cloud and want to find its major/minor direction\n",
    "    * This point cloud is centered at mu, but we want to re-center it at the origin (subtract the column means)\n",
    "    * We then rotate the matrix to be more axis-aligned by multiplying it with an orthogonal matrix and make the columns orthonormal; mathematically, the columns of our matrix are now uncorrelated\n",
    "    * We then perform matrix singular value decomposition on the above described matrix into eigenvectors and eigenvalues (this can also be performed on the covariance matrix between columns)\n",
    "    * The eigenvalues represent the variance described by the corresponding eigenvector (component/loading)\n",
    "    * We now sort the eigenvalues in descending order in order to select as many components necessary to describe our original data well enough\n",
    "- Limitations: PCA assumes linear relationships between data points and is usually just a pre-processing step.\n",
    "- Example:"
   ]
  },
  {
   "cell_type": "code",
   "execution_count": null,
   "metadata": {},
   "outputs": [],
   "source": [
    "# run an example"
   ]
  },
  {
   "cell_type": "markdown",
   "metadata": {},
   "source": [
    "### Truncated Singular Value Decomposition (SVD)\n",
    "- Application: Truncated SVD is applied for text mining. It reduces dimensions of text data and is a pre-preparation tool for the clustering of text data.\n",
    "- Description: Compared to PCA where we have to specify the number of components that we want to reduce the dimensionality of our data to, Truncated SVD reduces the dimensions/creates components automatically based on low eigenvalues. Technically it is only a matrix decomposition and not an algorithm.\n",
    "- Functionality:\n",
    "    * We first have to transform text into features with numerical values: There are several techniques such as CountVectorizer or TfidfVectorizer\n",
    "    * We then perform SVD on the numerical matrix like we do in PCA\n",
    "    * The algorithm then automatically selects the number of components to keep for further analysis\n",
    "- Limitations: Text data needs to be vectorized before Truncated SVD can be applied to it. Truncated SVD is usually just a pre-processing setp.\n",
    "- Example:"
   ]
  },
  {
   "cell_type": "code",
   "execution_count": 1,
   "metadata": {},
   "outputs": [],
   "source": [
    "# run an example"
   ]
  },
  {
   "cell_type": "markdown",
   "metadata": {},
   "source": [
    "# 3. Data Clustering\n",
    "This section presents several unsupervised learning algorithms in the following way:\n",
    "- Application: When should this algorithm be used?\n",
    "- Description: What does this algorithm do (high-level)?\n",
    "- Functionality: How does this algorithm work (drill-down)?\n",
    "- Limitations: What does one have to keep in mind when using this algorithm?\n",
    "- Example: How is this algorithm applied?"
   ]
  },
  {
   "cell_type": "markdown",
   "metadata": {},
   "source": [
    "### t-SNE\n",
    "\n",
    "- Application: t-SNE is used in the initial stage of data exploration (quick & dirty approach).\n",
    "- Description: t-SNE visualizes multi-dimensional data in two dimensions and it clusters the data in this two dimensional space, while preserving the relative distance of the data points.\n",
    "- Functionality:\n",
    "    * Start with one data point and calculate its distance to all other data points\n",
    "    * Plot a normal distribution on top of the one data point that is in the center of the distribution\n",
    "    * Plot the distances to the other poitns under the normal distribution\n",
    "    * The height of the data point to the curve is called the similarity score (the higher the distance, the lower the height of the bar)\n",
    "    * Plot the similarity scores in one dimension: High scores atttract each other, low scores repel each other\n",
    "    * As a result, data points with high similarity are close to each other\n",
    "    * If a t-Distribution is used instead of a normal distribution,we can better differentiate points further away from the first points because of their fatter tails  \n",
    "    * Perplexity: Illustrates a guess about the number of close neighbors each point has; sqrt(n data points); usually 5-50\n",
    "    * Learning rate: Intensity of how data points repel/attrach each other based on their similarity scores; usually 10-1,000\n",
    "- Limitations: t-SNE should be used for data exploration only and not as input for other methods or models. The reason is that it is heuristig, meaning that its output changes every time the algorithm is executed.\n",
    "- Example:"
   ]
  },
  {
   "cell_type": "code",
   "execution_count": 9,
   "metadata": {},
   "outputs": [
    {
     "name": "stdout",
     "output_type": "stream",
     "text": [
      "This dataframe has 150 rows and 6 columns.\n",
      "   Id  SepalLengthCm  SepalWidthCm  PetalLengthCm  PetalWidthCm      Species\n",
      "0   1            5.1           3.5            1.4           0.2  Iris-setosa\n",
      "1   2            4.9           3.0            1.4           0.2  Iris-setosa\n",
      "2   3            4.7           3.2            1.3           0.2  Iris-setosa\n",
      "3   4            4.6           3.1            1.5           0.2  Iris-setosa\n",
      "4   5            5.0           3.6            1.4           0.2  Iris-setosa\n"
     ]
    }
   ],
   "source": [
    "# imports \n",
    "import pandas as pd\n",
    "import numpy as np\n",
    "from sklearn.manifold import TSNE\n",
    "\n",
    "# load data\n",
    "iris = pd.read_csv(\"00_Data/Iris.csv\")\n",
    "\n",
    "# take a look at dataframe\n",
    "print(\"This dataframe has {} rows and {} columns.\".format(iris.shape[0], iris.shape[1]))\n",
    "print(iris.head())\n",
    "\n",
    "# create array\n",
    "x = iris.iloc[:, 1:5].values"
   ]
  },
  {
   "cell_type": "code",
   "execution_count": 15,
   "metadata": {},
   "outputs": [
    {
     "data": {
      "image/png": "[encoded data removed]",
      "text/plain": [
       "<Figure size 432x288 with 1 Axes>"
      ]
     },
     "metadata": {
      "needs_background": "light"
     },
     "output_type": "display_data"
    }
   ],
   "source": [
    "## TSNE package\n",
    "\n",
    "# initiate the model\n",
    "tsne = TSNE(learning_rate = 100, perplexity = 40)\n",
    "\n",
    "# fit the model and transform the data\n",
    "x_tsne = tsne.fit_transform(x)\n",
    "\n",
    "# plot the results\n",
    "plt.scatter(x_tsne[:,0], x_tsne[:,1], c=iris[\"Species\"].astype('category').cat.codes)\n",
    "plt.show()"
   ]
  },
  {
   "cell_type": "markdown",
   "metadata": {},
   "source": [
    "### K-Means\n",
    "- Application: K-Means is applied to cluster data into a pre-determined number of homogeneous clusters.\n",
    "- Description: K-Means minimizes the dispersion of data points within clusters by categorizing data point to the cluster with the nearest mean. Usually the euclidean distance is used to measure distances.\n",
    "- Functionality:\n",
    "    * We start with k initial clusters\n",
    "    * We randomly place the k centorids in the data (the better this initial guess is, the quicker will the algorithm find the true clusters)\n",
    "    * In the next step, each observation is assigned to the cluster with the closest centorid\n",
    "    * We then recompute the centroids of the clusters that lost or gained an observation from the above step\n",
    "    * We stop this when moving any more obervations increases the cluster dispersion/when the distance between the new and old centroids is 0 (meaning that reasigning data points doesn't change the centroids)\n",
    "- Limitations: We have to find and defind the ideal number of clusters. K-Menas performance is limited for non-globular data structures\n",
    "- Examples:"
   ]
  },
  {
   "cell_type": "code",
   "execution_count": 1,
   "metadata": {},
   "outputs": [
    {
     "name": "stdout",
     "output_type": "stream",
     "text": [
      "This dataframe has 3000 rows and 2 columns.\n",
      "          V1         V2\n",
      "0   2.072345  -3.241693\n",
      "1  17.936710  15.784810\n",
      "2   1.083576   7.319176\n",
      "3  11.120670  14.406780\n",
      "4  23.711550   2.557729\n"
     ]
    }
   ],
   "source": [
    "# imports \n",
    "import pandas as pd\n",
    "import numpy as np\n",
    "from matplotlib import pyplot as plt\n",
    "from copy import deepcopy\n",
    "from sklearn.cluster import KMeans\n",
    "\n",
    "# load data\n",
    "clara = pd.read_csv(\"00_Data/Xclara.csv\")\n",
    "\n",
    "# take a look at the data frame\n",
    "print(\"This dataframe has {} rows and {} columns.\".format(clara.shape[0], clara.shape[1]))\n",
    "print(clara.head())\n",
    "\n",
    "# create array\n",
    "x = clara.loc[:, [\"V1\", \"V2\"]].values"
   ]
  },
  {
   "cell_type": "code",
   "execution_count": 2,
   "metadata": {},
   "outputs": [
    {
     "data": {
      "image/png": "[encoded data removed]",
      "text/plain": [
       "<Figure size 432x288 with 1 Axes>"
      ]
     },
     "metadata": {
      "needs_background": "light"
     },
     "output_type": "display_data"
    }
   ],
   "source": [
    "## Manual calculation\n",
    "\n",
    "# define a function to calculate the euclidean distance\n",
    "def dist(a, b, ax=1):\n",
    "    return np.linalg.norm(a - b, axis=ax)\n",
    "\n",
    "# set a number of clusters\n",
    "k = 3\n",
    "\n",
    "# randomly generate k centroids\n",
    "c_x = np.random.randint(0, np.max(x)-20, size=k)\n",
    "c_y = np.random.randint(0, np.max(x)-20, size=k)\n",
    "c = np.array(list(zip(c_x, c_y)), dtype=np.float32)\n",
    "\n",
    "# initialize array to store updated centroids\n",
    "c_old = np.zeros(c.shape)\n",
    "\n",
    "# initialize labels for the clusters\n",
    "clusters = np.zeros(len(x))\n",
    "\n",
    "# initialize error (distance between old and new centroids)\n",
    "error = dist(c, c_old, None)\n",
    "\n",
    "# develop loop to calculate k-means clusters:\n",
    "while error != 0:\n",
    "    # assign each value to its closest cluster\n",
    "    for i in range(len(x)):\n",
    "        distances = dist(x[i], c)\n",
    "        cluster = np.argmin(distances)\n",
    "        clusters[i] = cluster\n",
    "    # store the old centroid values\n",
    "    c_old = deepcopy(c)\n",
    "    # find the new centroids by taking the average value\n",
    "    for i in range(k):\n",
    "        points = [x[j] for j in range(len(x)) if clusters[j] == i]\n",
    "        c[i] = np.mean(points, axis=0)\n",
    "    error = dist(c, c_old, None)\n",
    "\n",
    "# plot the clusters\n",
    "fig, ax = plt.subplots()\n",
    "for i in range(k):\n",
    "    points = np.array([x[j] for j in range(len(x)) if clusters[j] == i])\n",
    "    ax.scatter(points[:, 0], points[:, 1], s=5)\n",
    "plot = ax.scatter(c[:, 0], c[:, 1], marker='*', s=500, c='black')"
   ]
  },
  {
   "cell_type": "code",
   "execution_count": 60,
   "metadata": {},
   "outputs": [
    {
     "data": {
      "image/png": "[encoded data removed]",
      "text/plain": [
       "<Figure size 720x432 with 1 Axes>"
      ]
     },
     "metadata": {
      "needs_background": "light"
     },
     "output_type": "display_data"
    }
   ],
   "source": [
    "## K-Means package\n",
    "\n",
    "# find ideal number of clusters\n",
    "def plot_inertia(array, start=1, end=10):\n",
    "    \n",
    "    # claculate interias\n",
    "    inertia = []\n",
    "    ks = range(start, end+1)\n",
    "    \n",
    "    for k in ks:\n",
    "        model = KMeans(n_clusters = k, random_state = 0).fit(array)\n",
    "        inertia.append(model.inertia_)\n",
    "    \n",
    "    # plot interias\n",
    "    fig, ax = plt.subplots(figsize=(10,6))\n",
    "    plt.plot(ks, inertia, '-o')\n",
    "    ax.set_title('The elbow method')\n",
    "    ax.set_ylabel('Inertia')\n",
    "    ax.set_xlabel('Number of clusters')\n",
    "    plt.show()\n",
    "    \n",
    "    # return plot\n",
    "    return ax\n",
    "\n",
    "inertia = plot_inertia(x)"
   ]
  },
  {
   "cell_type": "code",
   "execution_count": 5,
   "metadata": {},
   "outputs": [
    {
     "data": {
      "image/png": "[encoded data removed]",
      "text/plain": [
       "<Figure size 432x288 with 1 Axes>"
      ]
     },
     "metadata": {
      "needs_background": "light"
     },
     "output_type": "display_data"
    }
   ],
   "source": [
    "# set number of clusters\n",
    "n_cluster = 3\n",
    "\n",
    "# instantiate kmeans with 3 clusters\n",
    "kmeans = KMeans(n_clusters = n_cluster)\n",
    "\n",
    "# fit kmeans to the input data\n",
    "kmeans = kmeans.fit(x)\n",
    "\n",
    "# create cluster labels\n",
    "labels = kmeans.predict(x)\n",
    "\n",
    "# extract centroids\n",
    "centroids = kmeans.cluster_centers_\n",
    "\n",
    "# plot the clusters\n",
    "fig, ax = plt.subplots()\n",
    "for i in range(n_cluster):\n",
    "    points = np.array([x[j] for j in range(len(x)) if labels[j] == i])\n",
    "    ax.scatter(points[:, 0], points[:, 1], s = 5)\n",
    "plot = ax.scatter(centroids[:, 0], centroids[:, 1], marker = '*', s = 500, c = 'black')"
   ]
  },
  {
   "cell_type": "markdown",
   "metadata": {},
   "source": [
    "### DBSCAN\n",
    "- Application: DBSCAN is used to find non-globular clusters based on a given radius, meaning that it can discover clusters of arbitrary shape.\n",
    "- Description: DBCSAN is a density-based clustering algorithm that groups points that are close to each other and marks points as outliers if they lie alone in low-density regions (whose nearest neighbors are too far away).\n",
    "- Functionality:\n",
    "    * We pick a point at random that has not been assigned to a cluster or as an outlier\n",
    "    * For this point, we compute its neighborhood to determine if it's a core point. If yes, we start a cluster with it. If no, we label t as an outlier\n",
    "    * Once we find a core point, we expand the cluster by adding all directly reachable points and also perform neighborhood jumps to find all density-reachable points and add them to the cluster\n",
    "    * We repeat these two steps until all points are assigned to a cluster of defined as an outlier \n",
    "    * Core points: Our clusters are built around our core points (hence the core part), so by adjusting our minPts parameter, we can fine-tune how dense our clusters cores must be.\n",
    "    * Border Points: Also called density-reachable points. As an analogy, we can think of density-reachable points as being the “friends of a friend”. \n",
    "    * Outliers: Points that are neither core points nor are they close enough to a cluster to be density-reachable from a core point\n",
    "    * We need to assign two parameters: Epsilon (radius) and minPts (min number of data points that we want to have in the neighborhood)\n",
    "- Limitations: While DBSCAN is great at separating high density clusters from low density clusters, DBSCAN struggles with clusters of similar density. DBSCAN also stuggles with data of very high dimensions\n",
    "- Examples:"
   ]
  },
  {
   "cell_type": "code",
   "execution_count": 57,
   "metadata": {},
   "outputs": [],
   "source": [
    "# imports\n",
    "import pandas as pd\n",
    "import numpy as np\n",
    "import matplotlib.pyplot as plt\n",
    "import seaborn as sns\n",
    "from sklearn.cluster import DBSCAN\n",
    "from sklearn.datasets import make_moons\n",
    "\n",
    "# load data\n",
    "x, y = make_moons(n_samples = 2000, noise = 0.04)"
   ]
  },
  {
   "cell_type": "code",
   "execution_count": 59,
   "metadata": {},
   "outputs": [
    {
     "data": {
      "image/png": "[encoded data removed]",
      "text/plain": [
       "<Figure size 432x288 with 1 Axes>"
      ]
     },
     "metadata": {
      "needs_background": "light"
     },
     "output_type": "display_data"
    }
   ],
   "source": [
    "## DBSCAN package\n",
    "\n",
    "# initialize model\n",
    "dbscan = DBSCAN(eps = 0.05, min_samples = 10)\n",
    "\n",
    "# fit model\n",
    "dbscan.fit(x)\n",
    "\n",
    "# get the labels\n",
    "labels = dbscan.labels_\n",
    "\n",
    "# plot results\n",
    "plt.scatter(x[:,0], x[:,1], c=labels)\n",
    "plt.show()"
   ]
  },
  {
   "cell_type": "markdown",
   "metadata": {},
   "source": [
    "### Hierarchical Clustering\n",
    "- Application: Hierarchical Clustering is used to get visual insights into clusters without any prior information and the need to specify the number of clusters a priori.\n",
    "- Description: Hierarchical Clustering build a hierarchy of clusters visualize them in dendrograms, revealing more information than non-hierarchical algorithms that returns a unique partition.\n",
    "- Functionality (agglomerative):\n",
    "    * At the start, we treat each data point as one cluster; the number of clusters will be k, representing the number of data points\n",
    "    * We then form a cluster by joining the two clostest data points, resulting in k-1 clusters\n",
    "    * We then form more clsuters by joining the two closest clusters, resulting in k-2 clusters\n",
    "    * We repeat the above steps until one single cluster is formed\n",
    "    * Once the one single cluster is formed, we develop dendrograms to divide the one single cluster into its sub-clusters\n",
    "    * The height of the dendrograms represent the distances between the data points; the earlier the clusters form the better\n",
    "    * We can fine-tune groups by adjusting the allowed height, only returning clusters formed until a defined heigth\n",
    "    * There are three methods to approximate the distances between the clusters: single/min, complete/max, ward/distance (minimizing information loss); if the pattern is similar, good, otherwise we can assume there is noise in the data\n",
    "- Limitations: Hierarchical Clustering has high time-complexity and can be difficult to read for large datasets.\n",
    "- Examples:"
   ]
  },
  {
   "cell_type": "code",
   "execution_count": 2,
   "metadata": {},
   "outputs": [
    {
     "name": "stdout",
     "output_type": "stream",
     "text": [
      "This dataframe has 60 rows and 964 columns.\n",
      "  Unnamed: 0  2010-01-04  2010-01-05  2010-01-06  2010-01-07  2010-01-08  \\\n",
      "0      Apple        0.58   -0.220005   -3.409998       -1.17    1.680011   \n",
      "\n",
      "   2010-01-11  2010-01-12  2010-01-13  2010-01-14  ...  2013-10-16  \\\n",
      "0   -2.689994   -1.469994    2.779997   -0.680003  ...    0.320008   \n",
      "\n",
      "   2013-10-17  2013-10-18  2013-10-21  2013-10-22  2013-10-23  2013-10-24  \\\n",
      "0    4.519997    2.899987    9.590019   -6.540016    5.959976    6.910011   \n",
      "\n",
      "   2013-10-25  2013-10-28  2013-10-29  \n",
      "0   -5.359962    0.840019  -19.589981  \n",
      "\n",
      "[1 rows x 964 columns]\n"
     ]
    }
   ],
   "source": [
    "# imports\n",
    "import pandas as pd\n",
    "import numpy as np\n",
    "import matplotlib.pyplot as plt\n",
    "from scipy.cluster.hierarchy import linkage, dendrogram\n",
    "\n",
    "# load data\n",
    "movements = pd.read_csv(\"00_Data/Movements.csv\")\n",
    "\n",
    "# take a look at dataframe\n",
    "print(\"This dataframe has {} rows and {} columns.\".format(movements.shape[0], movements.shape[1]))\n",
    "print(movements.head(1))\n",
    "\n",
    "# prepare data\n",
    "x = movements.iloc[:,1:].values\n",
    "companies = [i for sublist in movements.iloc[:,:1].values for i in sublist]\n",
    "\n",
    "# normalize data\n",
    "from sklearn.preprocessing import Normalizer\n",
    "scaler = Normalizer()\n",
    "x = scaler.fit_transform(x)"
   ]
  },
  {
   "cell_type": "code",
   "execution_count": 3,
   "metadata": {},
   "outputs": [
    {
     "data": {
      "image/png": "[encoded data removed]",
      "text/plain": [
       "<Figure size 936x720 with 1 Axes>"
      ]
     },
     "metadata": {
      "needs_background": "light"
     },
     "output_type": "display_data"
    }
   ],
   "source": [
    "## Hierarchy package\n",
    "\n",
    "# calculate the linkage: mergings\n",
    "mergings = linkage(x, method='ward')\n",
    "\n",
    "# plot the dendrogram\n",
    "plt.figure(figsize=(13,10))\n",
    "dendrogram(mergings, labels=companies, leaf_rotation=90, leaf_font_size=10)\n",
    "plt.show()"
   ]
  },
  {
   "cell_type": "code",
   "execution_count": 7,
   "metadata": {},
   "outputs": [
    {
     "data": {
      "text/html": [
       "<div>\n",
       "<style scoped>\n",
       "    .dataframe tbody tr th:only-of-type {\n",
       "        vertical-align: middle;\n",
       "    }\n",
       "\n",
       "    .dataframe tbody tr th {\n",
       "        vertical-align: top;\n",
       "    }\n",
       "\n",
       "    .dataframe thead th {\n",
       "        text-align: right;\n",
       "    }\n",
       "</style>\n",
       "<table border=\"1\" class=\"dataframe\">\n",
       "  <thead>\n",
       "    <tr style=\"text-align: right;\">\n",
       "      <th></th>\n",
       "      <th>comapny</th>\n",
       "      <th>labels</th>\n",
       "    </tr>\n",
       "  </thead>\n",
       "  <tbody>\n",
       "    <tr>\n",
       "      <th>0</th>\n",
       "      <td>Apple</td>\n",
       "      <td>0</td>\n",
       "    </tr>\n",
       "    <tr>\n",
       "      <th>51</th>\n",
       "      <td>Texas instruments</td>\n",
       "      <td>0</td>\n",
       "    </tr>\n",
       "    <tr>\n",
       "      <th>50</th>\n",
       "      <td>Taiwan Semiconductor Manufacturing</td>\n",
       "      <td>0</td>\n",
       "    </tr>\n",
       "    <tr>\n",
       "      <th>47</th>\n",
       "      <td>Symantec</td>\n",
       "      <td>0</td>\n",
       "    </tr>\n",
       "    <tr>\n",
       "      <th>36</th>\n",
       "      <td>Northrop Grumman</td>\n",
       "      <td>0</td>\n",
       "    </tr>\n",
       "    <tr>\n",
       "      <th>33</th>\n",
       "      <td>Microsoft</td>\n",
       "      <td>0</td>\n",
       "    </tr>\n",
       "    <tr>\n",
       "      <th>31</th>\n",
       "      <td>McDonalds</td>\n",
       "      <td>0</td>\n",
       "    </tr>\n",
       "    <tr>\n",
       "      <th>30</th>\n",
       "      <td>MasterCard</td>\n",
       "      <td>0</td>\n",
       "    </tr>\n",
       "    <tr>\n",
       "      <th>24</th>\n",
       "      <td>Intel</td>\n",
       "      <td>0</td>\n",
       "    </tr>\n",
       "    <tr>\n",
       "      <th>23</th>\n",
       "      <td>IBM</td>\n",
       "      <td>0</td>\n",
       "    </tr>\n",
       "    <tr>\n",
       "      <th>22</th>\n",
       "      <td>HP</td>\n",
       "      <td>0</td>\n",
       "    </tr>\n",
       "    <tr>\n",
       "      <th>17</th>\n",
       "      <td>Google/Alphabet</td>\n",
       "      <td>0</td>\n",
       "    </tr>\n",
       "    <tr>\n",
       "      <th>14</th>\n",
       "      <td>Dell</td>\n",
       "      <td>0</td>\n",
       "    </tr>\n",
       "    <tr>\n",
       "      <th>29</th>\n",
       "      <td>Lookheed Martin</td>\n",
       "      <td>0</td>\n",
       "    </tr>\n",
       "    <tr>\n",
       "      <th>4</th>\n",
       "      <td>Boeing</td>\n",
       "      <td>0</td>\n",
       "    </tr>\n",
       "    <tr>\n",
       "      <th>2</th>\n",
       "      <td>Amazon</td>\n",
       "      <td>0</td>\n",
       "    </tr>\n",
       "    <tr>\n",
       "      <th>11</th>\n",
       "      <td>Cisco</td>\n",
       "      <td>0</td>\n",
       "    </tr>\n",
       "    <tr>\n",
       "      <th>59</th>\n",
       "      <td>Yahoo</td>\n",
       "      <td>0</td>\n",
       "    </tr>\n",
       "  </tbody>\n",
       "</table>\n",
       "</div>"
      ],
      "text/plain": [
       "                               comapny  labels\n",
       "0                                Apple       0\n",
       "51                   Texas instruments       0\n",
       "50  Taiwan Semiconductor Manufacturing       0\n",
       "47                            Symantec       0\n",
       "36                    Northrop Grumman       0\n",
       "33                           Microsoft       0\n",
       "31                           McDonalds       0\n",
       "30                          MasterCard       0\n",
       "24                               Intel       0\n",
       "23                                 IBM       0\n",
       "22                                  HP       0\n",
       "17                     Google/Alphabet       0\n",
       "14                                Dell       0\n",
       "29                     Lookheed Martin       0\n",
       "4                               Boeing       0\n",
       "2                               Amazon       0\n",
       "11                               Cisco       0\n",
       "59                               Yahoo       0"
      ]
     },
     "execution_count": 7,
     "metadata": {},
     "output_type": "execute_result"
    }
   ],
   "source": [
    "## AgglomerativeClustering package\n",
    "\n",
    "# imports \n",
    "from sklearn.cluster import AgglomerativeClustering\n",
    "\n",
    "# initialize\n",
    "agglom = AgglomerativeClustering(n_clusters = 4)\n",
    "\n",
    "# fit the model\n",
    "agglom.fit(x)\n",
    "\n",
    "# extract labels\n",
    "labels = agglom.labels_\n",
    "\n",
    "# create data frame\n",
    "df = pd.DataFrame({\"comapny\": companies, \"labels\": labels})\n",
    "\n",
    "# print sorted data frame\n",
    "df.sort_values(\"labels\").head(18)"
   ]
  },
  {
   "cell_type": "markdown",
   "metadata": {},
   "source": [
    "# 4. Data Modeling\n",
    "This section presents several supervised learning algorithms in the following way:\n",
    "- Application: When should this algorithm be used?\n",
    "- Description: What does this algorithm do (high-level)?\n",
    "- Functionality: How does this algorithm work (drill-down)?\n",
    "- Limitations: What does one have to keep in mind when using this algorithm?\n",
    "- Example: How is this algorithm applied?"
   ]
  },
  {
   "cell_type": "markdown",
   "metadata": {},
   "source": [
    "### Linear Regression\n",
    "- Application: Linear Regression is used to quanify the strength of the linear relationship between a target and explanatory variables and based on this relationship predict the target variable.\n",
    "- Description: Linear Regression is a linear approach to model the relationship between a scalar target variable and one or more explanatory variables applying i.e. least squares minimization.\n",
    "- Functionality:\n",
    "    * We can think of a Linear Regression as an orthogonal projection of the target variable $(\\vec{y})$ onto the $span($$\\vec{1}$, $\\vec{x}$$)$\n",
    "    * The equation for a Linear Regression is: $y$ = $\\beta_{\\,0}$ + $\\beta_{\\,1}$$x_{\\,1}$ + ... + $\\beta_{\\,n}$$x_{\\,n}$ + $\\epsilon$\n",
    "    * Our goal is to minimize the following adjusted form of the above equation (in vector form): $||$ $\\vec{y}$ - ($\\vec{\\beta}_{\\,0}$*$\\vec{1}$ + $\\vec{\\beta}_{\\,1}$*$\\vec{x}_{\\,1}$ + ... + $\\vec{\\beta}_{\\,n}$$\\vec{x}_{\\,n}$) $||^{\\,2}$\n",
    "    * In order to minimize this equation, we optimize $\\vec{\\beta}$ to find a linear combination of $\\vec{1}$ and $\\vec{x}$ that is as close to our target variable $\\vec{y}$ as possible\n",
    "    * We achieve this by projecting $\\vec{y}$ onto the $span($$\\vec{1}$, $\\vec{x}$$)$, representing our predicted values\n",
    "    * The residuals of the model are the differences between the actual values and the predicted values\n",
    "    * Key assumptions: Linearity, homoscedasticity (variance of residual is the same for any value of X), independence, residuals are normall ydistributed\n",
    "- Limitations: Linear Regression requires linearity between the target and explanatory variables. It is also very sensitive to outliers and assumes no multicollinearity, meaning relationships between the explanatory variables\n",
    "- Note: If $y$ is not normally distributed, we need to fit Generalized Linear Models (i.e. $y$ ~ $Binom$, $y$ ~ $Poiss$, $y$ ~ $Gamma$), which are estimated with the Maximum Likelihood function and have different links connecting the linear predictor and the expectation of the output (i.e. logit, probit, complementary log-log)\n",
    "- Example:"
   ]
  },
  {
   "cell_type": "code",
   "execution_count": 19,
   "metadata": {},
   "outputs": [],
   "source": [
    "# run an example (see python assignemnt 3)"
   ]
  },
  {
   "cell_type": "markdown",
   "metadata": {},
   "source": [
    "### Logistic Regression\n",
    "- Application: Logistic Regression is used to model the probabilities for a binary target variable/event/class.\n",
    "- Description: Logistic Regression is a non-linear classification model that is expressed as a linear model. It models probabilities for a binary target variable based on many more explanatory variables from different domains (categorical and/or continuous variable).\n",
    "- Functionality:\n",
    "    * The odds of the event $Y=1$ to happen can be represented as $\\left ( \\frac{p}{1-p} \\right )$\n",
    "    * We now want to bound this value between 0 and 1 and in order to do so, we can apply different transformations such as $log(odds) = logit(P) = ln\\left ( \\frac{p}{1-p} \\right )$\n",
    "    * We also consider a linear model with a target and multiple explanatory variables\n",
    "    * Further we assume a linear relationship between the explanatory variables and the $log(odds)$ of the event $Y=1$\n",
    "    * This relationship can be represented as: $ln\\left ( \\frac{p}{1-p} \\right ) = $ $\\beta_{\\,0}$ + $\\beta_{\\,1}$$x_{\\,1}$ + ... + $\\beta_{\\,n}$$x_{\\,n}$ (these values don't have to be the same, we only describe the linear relationship with this equation)\n",
    "    * We now apply the Sigmoid Function (inverse of the logit function) to solve the above equation for the probability that $Y=1$\n",
    "    * The result for the probability that $Y=1$ is: $p = {\\frac{exp(\\beta_0 + \\beta_1x_1)}{1 + exp (\\beta_0 + \\beta_1x_1)}}$\n",
    "\n",
    "\n",
    "- Limitations: Logistic Regression can only predict a categorical outcome and cannot solve non-linear problems because it's decision surface is linear.\n",
    "- Example:"
   ]
  },
  {
   "cell_type": "code",
   "execution_count": 21,
   "metadata": {},
   "outputs": [],
   "source": [
    "# run an example (see python for analytics class 7)"
   ]
  },
  {
   "cell_type": "markdown",
   "metadata": {},
   "source": [
    "### K-Nearest Neighbors\n",
    "- Application: K-Nearest Neighbors (KNN) is used for classification or regression.\n",
    "- Description: KNN identifies the k nearest points in the data and estimates the target based on this set of k nearest points.\n",
    "- Functionality:\n",
    "    * First, we have to define k, the number of neighbors we are looking for (this number is usually small)\n",
    "    * For classification: The target is classified by a plurality vote of the k nearest neighbors. The class is determined by the most common class among the k nearest neighbors. If $k = 1$, then the object is simply assigned to the class of that single nearest neighbor.\n",
    "    * For regression: The target is estimated simply by the average of the values of the k nearest neighbors.\n",
    "    * It is common to assign weights to the contributions of the neighbors in order for nearer neighbors to contribute more to the target than the more distant ones.\n",
    "- Limitations: KNN is a lazy learner, meaning that it does not learn from the training data but rather uses it its prediction. This means its not generalizing well and is not robust to noisy data. KNN is also rather slow, because it has to compute the distance to all points in the training set and then sort them at each prediction.\n",
    "- Example:"
   ]
  },
  {
   "cell_type": "code",
   "execution_count": null,
   "metadata": {},
   "outputs": [],
   "source": [
    "# run an example here"
   ]
  },
  {
   "cell_type": "markdown",
   "metadata": {},
   "source": [
    "### Apriori Algorithm\n",
    "- Application: Apriori is used to find relationships/associations of items in data sets (i.e. market basked analysis).\n",
    "- Description: Apriori determines item sets that appear sufficiently often together in the data. These item sets are used to define association rules which highlight general trends in the data.\n",
    "- Functionality:\n",
    "    * The algorithm is based on the following three constructs: Support, Confidence, and Lift. When running the algorithm, we have to define minimum values for each of the three consturcts\n",
    "    * Support: Represents the popularity of an item $Support(B) = \\frac{trx_B}{trx_{all}}$\n",
    "    * Confidence: Represents the likelihood that item $B$ is also purchased when item $A$ is purchased: $Confidence(A→B) = \\frac{trx_{AB}}{trx_A} $\n",
    "    * Lift: Represents the increase in the ratio of sale B when A is sold: $Lift(A→B) = \\frac{Confidence(A→B)}{Support(B)} $\n",
    "    * Marketing campagins are focused on the lift specifically. $Lift = 1$ menas there is no association between the products. $Lift > 1$ means that item A & B are more likely to be bought together.\n",
    "    * This algorithm works solely based on the purchase history of items and we do not need any features to the items to run it.\n",
    "    * A strong pattern would be an item with low support, meaning it is not purchased very often, but high confidence, meaning that if its purchased it is purchased in combination with other itmes.\n",
    "- Limitations: Apriori might be slow as it calculates all possible combinations between items. This becomes a problem if there is a large number of items. \n",
    "- Example:"
   ]
  },
  {
   "cell_type": "code",
   "execution_count": 2,
   "metadata": {},
   "outputs": [],
   "source": [
    "# run an example here"
   ]
  },
  {
   "cell_type": "markdown",
   "metadata": {},
   "source": [
    "### Support Vector Machines\n",
    "- Application: Support Vector Machienes (SVM) are generally used for classification problems.\n",
    "- Description: SVMs fit a linear decision boundary that best divides a dataset into two or more classes. SVM can also solve non-linear classification problems, applying the Kernel Trick taht transforms data into higher dimensions in which a linear decision boundary can be fit.\n",
    "- Functionality:\n",
    "    * Hyperplane: Linear decision boundary between two classes\n",
    "    * Support Vectors: Data points closest to the hyperplane. Removing support vectors would alter the position of the hyperplane whereas data points within classes don't and are hence not as important\n",
    "    * Margin: Distance between the hyperplane and the nearest data point from either class\n",
    "    * The goal of SVMs is to chose a hyperplane with the highest possible margin within the training set, giving a greater chance of new data being classified correctly\n",
    "    * If there is no linear decision boundary, we transform the data, known as the Kernel Trick: We map our input space into as many higher-dimensionality feature spaces as we need in order to find a linear decision boundary.\n",
    "    * Kernel SVMs find the function that best transform the input data into a new feature space in order to separate the classes and the output of that function becomes the new dimension (i.e. $x^2$)\n",
    "    * Based on this fitted decision boundary, incoming data is mapped into that same space as the training data and predicted to belong to a category based on the side of the hyperplane on which they fall\n",
    "- Limitations: Less effective on noisier datasets with overlapping classes and high training times on large datasets.\n",
    "- Example:"
   ]
  },
  {
   "cell_type": "code",
   "execution_count": 1,
   "metadata": {},
   "outputs": [],
   "source": [
    "# run an example here (Data Mining class 5)"
   ]
  },
  {
   "cell_type": "markdown",
   "metadata": {},
   "source": [
    "### Classification And Regression Trees\n",
    "- Application: Classification And Regression Trees (CART) are generally used for classification and regression problems.\n",
    "- Description: Decision Trees learn multiple decision rules from observations about items (represented in the branches). In order to make conclusions about new items' target variable (represented in the leaves), we apply the decision rules to the values of new items, meaning that we follow the branches of the Decision Tree, compare values and jump to the next node until arriving at a conclusion.\n",
    "- Functionality:\n",
    "    * Root node: No parent node, question getting divided into two child nodes\n",
    "    * Internal node: Has parent node, question getting divided into two child nodes\n",
    "    * Lead node: Has parent node, but no child nodes; represents the prediction\n",
    "    * Depthness of a decision tree: Number of nodes of the tree\n",
    "    * Constructing a decision tree is all about finding an attribute that returns the highest information gain and the smallest entropy\n",
    "    * Entropy:\n",
    "        * Measure of randomness in an event; the higher the randomness, the harder it is to draw conclusions from it\n",
    "        * Formula: $E(S) = \\sum_{i=1}^{N} - p_i log_2 p_i$\n",
    "    * GINI: \n",
    "        * Works with the categorical target variable “Success” or “Failure”\n",
    "        * Formula: $GINI = 1 - \\sum_{i=1}^{N} p_i^2$\n",
    "    * Information Gain: \n",
    "        * Information Gain is a decrease in entropy: Pure events have the same outcome for every occurance of the event \n",
    "        * If we have pure events there is no need to split into more nodes; if the events are not pure we need to split into more nodes to see if we can find clarity that way\n",
    "        * $Information$ $Gain$ $= Entropy(before split)$ $- Entropy(after split)$\n",
    "    * Decision of making splits into child nodes is the key to creating accurate decision trees (there are various approaches to making these decisions): \n",
    "        * We define a rule based on the items' values to get the best split of items based on the dependent variable\n",
    "        * We then calculate the information gain for the split and if it is not higher than the existing split we try to find another decision rule and test the information again\n",
    "        * Once a decision rule with sufficient information gain is defined, the split into two child notes is performed        \n",
    "        * The splitting stops when the algorithm detects no further information gain can be made or pre-set stopping rules are met\n",
    "        * Each branch of the tree then ends in a lead node, making each observation fall into exaclty one lead node and each lead node uniquely defined by a set of rules     \n",
    "- Limitations: Instability due to high variance in sampled data, high sensitivity to the data that its trained to\n",
    "- Example:"
   ]
  },
  {
   "cell_type": "code",
   "execution_count": 3,
   "metadata": {},
   "outputs": [],
   "source": [
    "# run an example here"
   ]
  },
  {
   "cell_type": "markdown",
   "metadata": {},
   "source": [
    "### Random Forest\n",
    "- Application: Random Forests are used for classifiaction and regression problems.\n",
    "- Description: Random Forests are an ensemble learning method, training a multitude of decision trees on the same dataset and aggregating the predictions of the individual trees (i.e. mode of classes for classification, mean of predictions for regression)\n",
    "- Functionality:\n",
    "    * Esemble Learning: Fit a multitude of independent models on sampeled data from the same dataset and aggregate predictions by majority voting for classification and by averaging for regression\n",
    "    * Base model: Large number of individual and uncorrelated decision trees; all models must be of the same kind\n",
    "    * Bagging/Bootsrapping:\n",
    "        * We take a sample from the dataset with replacement: If we have a sample of size N, we still feed each tree a training set of size N, but instead of the original training data, we take a random sample of size N with replacement \n",
    "        * Rationale: Achieve minimum variance of the predictions\n",
    "        * When splitting into a node, each decision tree in a random forest can only pick from a random subset of features (\"feature bagging\") without replacement, forcing more variation amongst the trees in the model and ultimately resulting in lower correlation across trees and more diversification\n",
    "        * Rationale: If one or a few features are very strong predictors for the target variable, these features will be selected in many decision trees\n",
    "- Limitations: Some features might get sampled often whereas others not so often\n",
    "- Example:"
   ]
  },
  {
   "cell_type": "code",
   "execution_count": 6,
   "metadata": {},
   "outputs": [],
   "source": [
    "# run an example here"
   ]
  },
  {
   "cell_type": "markdown",
   "metadata": {},
   "source": [
    "### Gradient Boosting\n",
    "- Application: Gradient Boosting is used for classification and regression problems.\n",
    "- Description: Gradient Boosting is an ensemble learning method, building a multitude of decision trees sequentially with each model learning from the errors of its predecessors.\n",
    "- Functionality:\n",
    "    * We start by fitting a simple model (i.e. decision tree) to the data \n",
    "    * We then analyze the model for errors with a loss function: Measure indicating how good are model’s coefficients are at fitting the underlying data; in this step the algorithm identifies the shortcomings of the model\n",
    "    * In order to adjust the model for shortcomings, the wheight of an input that was previously misclassified is increased so that it is more likely to be classified correclty\n",
    "    * This process converts weak learners into better performing models (i.e. draw random sample to train weak learner, then draw second random sample and add 50% of the samples that were previously misclassified and train a new weak learner)\n",
    "- Limitations: Prone to overfitting, requires careful tuning of hyperparameters\n",
    "- Example:"
   ]
  },
  {
   "cell_type": "code",
   "execution_count": null,
   "metadata": {},
   "outputs": [],
   "source": [
    "# run an example here"
   ]
  },
  {
   "cell_type": "markdown",
   "metadata": {},
   "source": [
    "### Graph Networks\n",
    "- Application: Graph Networks are used to analyze and visualize several real world datasets such as social networks, web link data, molecular structures, geographical maps, images and text.\n",
    "- Description: Graph Networks analyze the relationships and dependencies among a set of items.\n",
    "- Functionality:\n",
    "    * A graph consists of nodes (items) and edges (relationships)\n",
    "    * Types: Undirected networks (edges have no direction, directed networks (edges have direction), weighted networks (edges have an assigned weight), multi-graphs (nodes with multiple edges), signed networks (edges with positive or negative sign) \n",
    "    * Path finding:\n",
    "        * Breath First Search algorithm: Finds the minimum number of edges (shortes path) between two nodes\n",
    "        * Depth First Search algorithm: Visits all of the edges in a network while avoiding circles\n",
    "    * Centrality:\n",
    "        * Degree centrality: (# of node neighbors) / (# of potential node neighbors)\n",
    "        * Betweenness centrality: # of times a node is present in the shortest path of two nodes: (# shortest path through a node) / (all possible shortest paths)\n",
    "        * Eigenvector centrality: if its connected to other important nodes (i.e. Google page rank)\n",
    "- Limitations: Entire graph needs to be processed simultaneously, which can be impractical for large graphs\n",
    "- Example"
   ]
  },
  {
   "cell_type": "code",
   "execution_count": null,
   "metadata": {},
   "outputs": [],
   "source": [
    "# run an example here"
   ]
  },
  {
   "cell_type": "markdown",
   "metadata": {},
   "source": [
    "# 5. Evaluation of Model Performance"
   ]
  },
  {
   "cell_type": "markdown",
   "metadata": {},
   "source": [
    "### Log Loss Function\n",
    "- Description: The Log Loss Function is used to measure the performance of a classification model where the prediction is a probability between 0 and 1.\n",
    "- Functionality:\n",
    "    * We penalize wrong predictions by adding to the loss function and do not increase the loss function if a correct prediction was made by the classification model.\n",
    "    * Formula: $logloss = \\frac{1}{N} \\sum_{i=1}^{N} \\sum_{i=1}^{M} y_{ij} ln(p_{ij})$ where $N$ is the number of objects to classify, $M$ is the number of classes, $y_{ij}$ is 1 if the object $i$ belongs the the class $j$ and 0 otherwise, and $p_{ij}$ is the predicted probability that object $i$ belongs to class $j$."
   ]
  },
  {
   "cell_type": "markdown",
   "metadata": {},
   "source": [
    "### Accuracy, Precision, Recall, F1, R Squared Scores\n",
    "- Confusion Matrix:\n",
    "\n",
    "<img src=\"https://miro.medium.com/max/1594/1*CPnO_bcdbE8FXTejQiV2dg.png\"\n",
    "     width=\"500\" height=\"300\" />\n",
    "     \n",
    "- Accuracy:\n",
    "    * Fraction of predictions our model got right\n",
    "    * Good measure to report to senior leadership as its an intuitive way of measuring performance\n",
    "    * $Accuracy = \\frac{Number of correct predictions}{Number of total preductions}$\n",
    "- Recall:\n",
    "    * How many of the actual positive cases did we find\n",
    "    * Good measure to determine model accuracy, when the cost of False Negative is high (i.e. fraud detection)\n",
    "    * $Recall = \\frac{True Positive}{True Positive + False Negative} = \\frac{True Positive}{Total Actual Positive}$\n",
    "- Precision:\n",
    "    * Of all our predicted positive cases, how many of them are actual positive cases\n",
    "    * Good measure to determine model accuracy, when the costs of False Positive is high (i.e. email spam detection)\n",
    "    * $Precision = \\frac{True Positive}{True Positive + False Positive} = \\frac{True Positive}{Total Predicted Positive}$\n",
    "- F1: \n",
    "    * Weighed average of precision and recall\n",
    "    * Good measure when you want to seek a balance between Precision and Recall\n",
    "    * $F1 = 2 * \\frac{Precision * Recall}{Precision + Recall}$\n",
    "- R Squared:\n",
    "    * Provides a measure of how well observed outcomes are replicated by a model\n",
    "    * Measures the proportion of the variance in the target variable that is predictable from the model's features\n",
    "    * Adjusted R Squared takes into consideration the number of predictors, accounting for overfitting\n",
    "    * $ R Squred = 1 - \\frac{sum of squares of residuals (SSE)}{sum of squares of residual (SSE) + sum of squares of regression (SSR)} = \\frac{sum of squares of regression (SSR)}{total sum of squares (SST)}$"
   ]
  },
  {
   "cell_type": "markdown",
   "metadata": {},
   "source": [
    "### Root Mean Square Error\n",
    "- Description: The Root Mean Square Error (RMSE) is used to measure the performance of regression models.\n",
    "- Functionality: \n",
    "    * Measured the differences between predicted values by a model and the actual values\n",
    "    * The RMSE will have the the same unit as the dependent variable, meaning that there is no absolute good or bad value    \n",
    "    * The formulat to find the RMSE is: $RMSE = \\sqrt{\\sum_{i=1}^{N} \\frac{(\\hat{y_i} - y_i)^2}{N}}$\n",
    "    * There are different variations of this formula (i.e. Mean Squared Error)\n",
    "- Application:\n",
    "    * Training set: Use training dataset to train model, and apply model to test dataset to predict; then measure error between prediction and actual\n",
    "    * Test set: Use train dataset to train model and apply the model back to the train data for predictions; then measure error between prediction and actual\n",
    "    * Cross-Validation: See below"
   ]
  },
  {
   "cell_type": "markdown",
   "metadata": {},
   "source": [
    "### Cross Validation\n",
    "- Description: Cross Validation is a resampling procedure used to test models for their stability\n",
    "- Functionality:\n",
    "    * We first split all our data into a training and test data set\n",
    "    * We then divide our training data into k-folds, with k being some arbitrary number\n",
    "    * Assume we have 5 folds, so we will train the model on 4 folds and evaluate its performance on the the last fold\n",
    "    * We repeat this process 4 more times (for the remaining folds), iterating over the 4 training and 1 test folds\n",
    "    * Once the 5 models were fit, we combine the validation results by i.e. averaging the results of the 5 rounds to give an estimate of the model's predictive performance"
   ]
  },
  {
   "cell_type": "markdown",
   "metadata": {},
   "source": [
    "### Overfitting vs. Underfitting \n",
    "- Overfitting: \n",
    "    * Modeling error occuring when a model is too closely fit to the training set data points and hence captures its noise due to its high complexity\n",
    "    * The model suffers from high variance, meaning that the model will be inconsistent over different training/testing sets\n",
    "    * Identification: $CV$ $error$ $> training$ $set$ $error$\n",
    "    * Counter-measure: Decrease the model complexity, increase the minimum samples per leaf\n",
    "- Underfitting:\n",
    "    * Modeling error occuring when a model cannot adequately capture the training data and hence does not fit the data well enough\n",
    "    * The model suffers from high bias, meaning that the model will not be predicting with high accuracy\n",
    "    * Identification: $CV$ $error$ $= training$ $set$ $error$ $> test$ $set$ $error$\n",
    "    * Counter-measure: Increase the model complexity, decrease the minimum samples per leaf"
   ]
  },
  {
   "cell_type": "markdown",
   "metadata": {},
   "source": [
    "# 6. Data Description\n",
    "\n",
    "This section presents the data that is used to showcase the functionality of the methodologies above."
   ]
  },
  {
   "cell_type": "markdown",
   "metadata": {},
   "source": [
    "### Xclara\n",
    "This dataset can be downloaded from Kaggle (https://www.kaggle.com/hdriss/xclara). It includes two coordinates for datapoits that can relatively easily be clusterd into three clusters."
   ]
  },
  {
   "cell_type": "markdown",
   "metadata": {},
   "source": [
    "### Iris\n",
    "This dataset can be downloaded from Kaggle (https://www.kaggle.com/uciml/iris/data). It includes three iris species with 50 samples each as well as some properties about each flower. One flower species is linearly separable from the other two, but the other two are not linearly separable from each other. The columns in this dataset are:\n",
    "\n",
    "- Id\n",
    "- SepalLengthCm\n",
    "- SepalWidthCm\n",
    "- PetalLengthCm\n",
    "- PetalWidthCm\n",
    "- Species"
   ]
  },
  {
   "cell_type": "markdown",
   "metadata": {},
   "source": [
    "### Make Moons\n",
    "This dataset can be accessed through the sklearn package (https://scikit-learn.org/stable/modules/generated/sklearn.datasets.make_moons.html). It produces two interleaving half circles."
   ]
  },
  {
   "cell_type": "markdown",
   "metadata": {},
   "source": [
    "# 7. Miscellaneous"
   ]
  },
  {
   "cell_type": "markdown",
   "metadata": {},
   "source": [
    "### Cosine Similarity\n",
    "- Application: Cosine Similarity is used for content-based recommendations and collaborative filtering\n",
    "- Description: Cosine Similarity is a measure of similarity between two vectors projected in a multi-dimensional space, measuring the cosine of the angle between the two vectors\n",
    "- Functionality:\n",
    "    * Formula: $cosine$ $similarity$ $= cos(\\theta) = \\frac{A * B}{||A||||B||} = \\frac{\\sum_{i=1}^{N}A_iB_i}{\\sqrt{\\sum_{i=1}^{N}A_i^2} \\sqrt{\\sum_{i=1}^{N}B_i^2}}$\n",
    "    * Content-based recommendation: Recommends items that are similar in content to items the user has liked in the past. When creating the cosine similarity matrix, the features of each item represent the vectors between which the cosine of the angles is measured. The result is a item-item matrix with respective cosine similarity scores\n",
    "    * Collaborative filtering: User is recommended items based on past ratings of all users collectively. In this case, we create a user-item matrix, containing the users' ratings of each item in the cells. When creating the cosine similarity matrix, the ratings of each item represent the vectors between which the cosine of the angles is measured. The reult is a user-user matrix with respective cosine similarity scores\n",
    "- Limitations: Cold start problem, referring to a situation in which we don't have any information on the user(s) yet\n",
    "- Example:"
   ]
  },
  {
   "cell_type": "code",
   "execution_count": 1,
   "metadata": {},
   "outputs": [],
   "source": [
    "# run an example here"
   ]
  },
  {
   "cell_type": "markdown",
   "metadata": {},
   "source": [
    "### Dsitributions\n",
    "- Uniform:\n",
    "    * Description: All events are equally likely on an interval of [a, b]\n",
    "    * Parameters: $a$ - lower bound, $b$ - upper bound\n",
    "- Binomial:\n",
    "    * Description: Sequence of Bernoulli trials counting the number of successes in a sequence of n independent experiments\n",
    "    * Parameters: $n$ - number of trials, $p$ - success probability for each trial\n",
    "- Normal:\n",
    "    * Description: Bell shaped distribution without tails\n",
    "    * Parameters: $\\mu$ - mean, $\\sigma^2$ - variance\n",
    "- Student t-distribution:\n",
    "    * Description: Bell shaped distribution with fatter tails, meaning that it is more prone to producing values that fall far from its mean; standard deviation unknown\n",
    "    * Parameters: $v$ - degrees of freedom\n",
    "- Chi-Squared:\n",
    "    * Description: Right tail is fat, the higher the degrees of freedom, the colser we get to the normal distribution; used for hypothesis testing\n",
    "    * Parameters: $k$ - degrees of freedom = mean\n",
    "- Exponential:\n",
    "    * Description: Probability distribution of time between events, i.e. a process in which events occur continuously and independently at a constant average rate\n",
    "    * Parameters: $\\lambda$ - scale; mean = $1/\\lambda$\n",
    "- Poisson:\n",
    "    * Description: Sequence of many Bernoulli trials where success becomes a rare event; if we increase lambda it quickly becomes a normal distribution\n",
    "    * Parameters: $\\lambda$ - expected number of events per unit of time = mean\n",
    "- Negative Binomial:\n",
    "    * Description: Sequence of many Bernoulli trials counting the number of failures before achieving a given number of successes \n",
    "    * Parameters: $r$ - number of successes until the trial is stopped"
   ]
  },
  {
   "cell_type": "markdown",
   "metadata": {},
   "source": [
    "### ~ Newton-Raphson Method"
   ]
  },
  {
   "cell_type": "markdown",
   "metadata": {},
   "source": [
    "### ~ Grid Search\n",
    "- See python assignemnt 3"
   ]
  }
 ],
 "metadata": {
  "kernelspec": {
   "display_name": "Python 3",
   "language": "python",
   "name": "python3"
  },
  "language_info": {
   "codemirror_mode": {
    "name": "ipython",
    "version": 3
   },
   "file_extension": ".py",
   "mimetype": "text/x-python",
   "name": "python",
   "nbconvert_exporter": "python",
   "pygments_lexer": "ipython3",
   "version": "3.7.3"
  }
 },
 "nbformat": 4,
 "nbformat_minor": 4
}
