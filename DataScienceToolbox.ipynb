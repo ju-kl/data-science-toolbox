{
 "cells": [
  {
   "cell_type": "code",
   "execution_count": 18,
   "metadata": {},
   "outputs": [],
   "source": [
    "import pandas as pd\n",
    "import numpy as np\n",
    "import seaborn as sns\n",
    "from matplotlib import pyplot as plt\n",
    "import warnings\n",
    "warnings.filterwarnings(action = 'ignore')"
   ]
  },
  {
   "cell_type": "markdown",
   "metadata": {},
   "source": [
    "# 1 Data Exploration"
   ]
  },
  {
   "cell_type": "markdown",
   "metadata": {},
   "source": [
    "### 1.1 Kernel Density Estimation\n",
    "- Application: Kernel Density Estimation (KDE) is used to find the true distribution of the data and can be used to generate new data points once those parameters are found.\n",
    "- Description: KDE is a non-parametric way of estimation to get probability density function to understand the distribution of the underlying data.\n",
    "- Functionality:\n",
    "    * We start by selecting a kernel function (i.e. Gaussian, triangle) and generate such function for each data point. We usually apply Gaussian.\n",
    "    * To get a true representation of our data, we then aggregate those functions acorss data points\n",
    "    * The resulting kernel density estimate is hence the aggregation of all individual kernel functions\n",
    "    * The first parameter to specify is the bandwith, determining the width of a kernel function and hence the smoothness of the resulting curve. The higher the bandwidth, the smoother the fitted distribution line.\n",
    "    * The second parameter to specify is the distribution of the kernel function. The bandwidth also effects the individual kernel functions. The lower the bandwidth, the higher the kernel function.\n",
    "    * The bandwidth can be calculated as: $1.06 * min(\\sigma, \\frac{IQR}{1.34}) * n^ {\\!-1/5}$\n",
    "    * Alternatively, we can plot the KDE with different parameters and observe and finetune the results\n",
    "- Limitations: Histogramms might make the job if I'm just interested in the distribution of the data"
   ]
  },
  {
   "cell_type": "code",
   "execution_count": 98,
   "metadata": {},
   "outputs": [],
   "source": [
    "from sklearn.datasets import load_iris\n",
    "from sklearn.neighbors import KernelDensity"
   ]
  },
  {
   "cell_type": "code",
   "execution_count": 99,
   "metadata": {},
   "outputs": [
    {
     "name": "stdout",
     "output_type": "stream",
     "text": [
      "Here is one new datapoints: [[5.46939116]]\n"
     ]
    },
    {
     "data": {
      "image/png": "[encoded data removed]",
      "text/plain": [
       "<Figure size 432x288 with 1 Axes>"
      ]
     },
     "metadata": {
      "needs_background": "light"
     },
     "output_type": "display_data"
    }
   ],
   "source": [
    "# load data\n",
    "iris = load_iris()\n",
    "iris = pd.DataFrame(iris['data'], columns = [\"SepalLengthCm\", \"SepalWidthCm\", \"PetalLengthCm\", \"PetalWidthCm\"])\n",
    "x = iris['SepalLengthCm'][:, np.newaxis]\n",
    "\n",
    "# determine bandwidth and support\n",
    "bw = 1.06 * x.std() * len(x) ** (-1/5)\n",
    "support = np.linspace(2, 10, len(x))\n",
    "\n",
    "# initialize KDE\n",
    "kde = KernelDensity(kernel = 'gaussian', bandwidth = bw)\n",
    "\n",
    "# fit kde\n",
    "kde.fit(x)\n",
    "\n",
    "# create new data\n",
    "new_data = kde.sample(1, random_state=3)\n",
    "print('Here is one new datapoints:', new_data)\n",
    "\n",
    "# find support values (log density model on the data)\n",
    "y = kde.score_samples(support[:, np.newaxis])\n",
    "\n",
    "# plot the result\n",
    "plt.hist(x, bins=10, alpha = 0.5, density = True)\n",
    "plt.plot(support, np.exp(y))\n",
    "plt.xlabel('Sepal Length')\n",
    "plt.title('Kernel Density Plot')\n",
    "plt.show()"
   ]
  },
  {
   "cell_type": "markdown",
   "metadata": {},
   "source": [
    "### 1.2 Kolmogorov-Smirnov Test\n",
    "- Application: The Kolmogorov-Smirnov Test (KS-Test) is applied to analyze the distribution of datasets. \n",
    "- Description: The KS-Test compares a sample with a reference probability distribution (one-sample K–S test), or compares two samples (two-sample K–S test). It hence provides insight into the godness of fit of samples.\n",
    "- Functionality:\n",
    "    * The test quantifies a distance between the empirical distribution function of the sample and the cumulative distribution function of the reference distribution, or between the empirical distribution functions of two samples\n",
    "    * The null hypothesis is that the sample is drawn from the reference distribution (in the one-sample case) or that the samples are drawn from the same distribution (in the two-sample case)\n",
    "- Limitations: The test only applies to continuous distributions"
   ]
  },
  {
   "cell_type": "code",
   "execution_count": 100,
   "metadata": {},
   "outputs": [],
   "source": [
    "from scipy import stats"
   ]
  },
  {
   "cell_type": "code",
   "execution_count": 108,
   "metadata": {},
   "outputs": [
    {
     "data": {
      "text/plain": [
       "KstestResult(statistic=0.05976890513584643, pvalue=0.8673278748019739)"
      ]
     },
     "execution_count": 108,
     "metadata": {},
     "output_type": "execute_result"
    }
   ],
   "source": [
    "# create random normal distribution\n",
    "x = np.random.normal(0, 1, 100)\n",
    "\n",
    "# apply ks-test\n",
    "stats.kstest(x, 'norm')"
   ]
  },
  {
   "cell_type": "markdown",
   "metadata": {},
   "source": [
    "The first value is the ks-test statistic. The second value is the p-value. Since the p-value > 0.05, we do not reject the null hypothesis and can conclude that the distribution is indeed normally distributed."
   ]
  },
  {
   "cell_type": "markdown",
   "metadata": {},
   "source": [
    "# 2 Feature Engineering"
   ]
  },
  {
   "cell_type": "markdown",
   "metadata": {},
   "source": [
    "## 2.1 Standardization"
   ]
  },
  {
   "cell_type": "markdown",
   "metadata": {},
   "source": [
    "### 2.1.1 StandardScalar()\n",
    "- Application: StandardScalar is applied to data columns and hence only one feature.\n",
    "- Description: StandardScalar standardizes features individually by removing the mean and scaling to unit variance ($ z = \\frac{x - u}{s} $). Unit variance means that the standard deviation of a sample as well as the variance will tend towards 1 as the sample size tends towards infinity."
   ]
  },
  {
   "cell_type": "code",
   "execution_count": 23,
   "metadata": {},
   "outputs": [],
   "source": [
    "from sklearn.datasets import load_iris\n",
    "from sklearn.preprocessing import StandardScaler"
   ]
  },
  {
   "cell_type": "code",
   "execution_count": 24,
   "metadata": {},
   "outputs": [
    {
     "name": "stdout",
     "output_type": "stream",
     "text": [
      "       SepalLengthCm  SepalWidthCm  PetalLengthCm  PetalWidthCm\n",
      "count     150.000000    150.000000     150.000000    150.000000\n",
      "mean        5.843333      3.057333       3.758000      1.199333\n",
      "std         0.828066      0.435866       1.765298      0.762238\n",
      "min         4.300000      2.000000       1.000000      0.100000\n",
      "25%         5.100000      2.800000       1.600000      0.300000\n",
      "50%         5.800000      3.000000       4.350000      1.300000\n",
      "75%         6.400000      3.300000       5.100000      1.800000\n",
      "max         7.900000      4.400000       6.900000      2.500000\n",
      "       SepalLengthCm  SepalWidthCm  PetalLengthCm  PetalWidthCm\n",
      "count   1.500000e+02  1.500000e+02   1.500000e+02  1.500000e+02\n",
      "mean   -1.690315e-15 -1.842970e-15  -1.698641e-15 -1.409243e-15\n",
      "std     1.003350e+00  1.003350e+00   1.003350e+00  1.003350e+00\n",
      "min    -1.870024e+00 -2.433947e+00  -1.567576e+00 -1.447076e+00\n",
      "25%    -9.006812e-01 -5.923730e-01  -1.226552e+00 -1.183812e+00\n",
      "50%    -5.250608e-02 -1.319795e-01   3.364776e-01  1.325097e-01\n",
      "75%     6.745011e-01  5.586108e-01   7.627583e-01  7.906707e-01\n",
      "max     2.492019e+00  3.090775e+00   1.785832e+00  1.712096e+00\n"
     ]
    }
   ],
   "source": [
    "# load data\n",
    "iris = load_iris()\n",
    "iris = pd.DataFrame(iris['data'], columns = [\"SepalLengthCm\", \"SepalWidthCm\", \"PetalLengthCm\", \"PetalWidthCm\"])\n",
    "print(iris.describe())\n",
    "\n",
    "# initiate StandardScaler()\n",
    "scaler = StandardScaler()\n",
    "\n",
    "# fit scaler and transform iris data\n",
    "iris_standard_scaler = scaler.fit_transform(iris)\n",
    "\n",
    "# print standardized data\n",
    "print(pd.DataFrame(iris_standard_scaler, columns = [\"SepalLengthCm\", \"SepalWidthCm\", \"PetalLengthCm\", \"PetalWidthCm\"]).describe())"
   ]
  },
  {
   "cell_type": "markdown",
   "metadata": {},
   "source": [
    "### 2.1.2 Normalizer()\n",
    "- Application: Normalizer is applied to data rows and hence across features.\n",
    "- Description: Normalizer rescales each row, meaning that it adjusts the value of each feature relative to the value of the other features in each row to a realative scale."
   ]
  },
  {
   "cell_type": "code",
   "execution_count": 25,
   "metadata": {},
   "outputs": [],
   "source": [
    "from sklearn.datasets import load_iris\n",
    "from sklearn.preprocessing import Normalizer"
   ]
  },
  {
   "cell_type": "code",
   "execution_count": 26,
   "metadata": {},
   "outputs": [
    {
     "name": "stdout",
     "output_type": "stream",
     "text": [
      "   SepalLengthCm  SepalWidthCm  PetalLengthCm  PetalWidthCm\n",
      "0            5.1           3.5            1.4           0.2\n",
      "1            4.9           3.0            1.4           0.2\n",
      "2            4.7           3.2            1.3           0.2\n",
      "3            4.6           3.1            1.5           0.2\n",
      "4            5.0           3.6            1.4           0.2\n",
      "   SepalLengthCm  SepalWidthCm  PetalLengthCm  PetalWidthCm\n",
      "0       0.803773      0.551609       0.220644      0.031521\n",
      "1       0.828133      0.507020       0.236609      0.033801\n",
      "2       0.805333      0.548312       0.222752      0.034269\n",
      "3       0.800030      0.539151       0.260879      0.034784\n",
      "4       0.790965      0.569495       0.221470      0.031639\n"
     ]
    }
   ],
   "source": [
    "# load data\n",
    "iris = load_iris()\n",
    "iris = pd.DataFrame(iris['data'], columns = [\"SepalLengthCm\", \"SepalWidthCm\", \"PetalLengthCm\", \"PetalWidthCm\"])\n",
    "print(iris.head())\n",
    "\n",
    "# initiate StandardScaler()\n",
    "scaler = Normalizer()\n",
    "\n",
    "# fit scaler and transform iris data\n",
    "iris_normlized = scaler.fit_transform(iris)\n",
    "\n",
    "# print standardized data\n",
    "print(pd.DataFrame(iris_normlized,  columns = [\"SepalLengthCm\", \"SepalWidthCm\", \"PetalLengthCm\", \"PetalWidthCm\"]).head())"
   ]
  },
  {
   "cell_type": "markdown",
   "metadata": {},
   "source": [
    "## 2.2 Variance"
   ]
  },
  {
   "cell_type": "markdown",
   "metadata": {},
   "source": [
    "### 2.2.1 VarianceThreshold()\n",
    "- Application: VarianceThreshold() is applied for feature selection and identifies low variance features that won't be significant in predicting the target variable.\n",
    "- Description: VarianceThreshold() is a feature selector that removes all low-variance features."
   ]
  },
  {
   "cell_type": "code",
   "execution_count": 27,
   "metadata": {},
   "outputs": [],
   "source": [
    "from sklearn.feature_selection import VarianceThreshold"
   ]
  },
  {
   "cell_type": "code",
   "execution_count": 28,
   "metadata": {},
   "outputs": [
    {
     "name": "stdout",
     "output_type": "stream",
     "text": [
      "These are the infos on the original data frame: \n",
      "          a         b         c    d\n",
      "count  3.0  3.000000  3.000000  3.0\n",
      "mean   0.0  1.333333  1.666667  3.0\n",
      "std    0.0  0.577350  2.081666  0.0\n",
      "min    0.0  1.000000  0.000000  3.0\n",
      "25%    0.0  1.000000  0.500000  3.0\n",
      "50%    0.0  1.000000  1.000000  3.0\n",
      "75%    0.0  1.500000  2.500000  3.0\n",
      "max    0.0  2.000000  4.000000  3.0\n",
      "This is how the transformed data frame looks like: \n",
      "    b  c\n",
      "0  2  0\n",
      "1  1  4\n",
      "2  1  1\n"
     ]
    }
   ],
   "source": [
    "# create data frame\n",
    "x = [[0, 2, 0, 3], [0, 1, 4, 3], [0, 1, 1, 3]]\n",
    "df = pd.DataFrame(x, columns = [\"a\", \"b\", \"c\", \"d\"])\n",
    "\n",
    "# initialize VarianceThreshold\n",
    "selector = VarianceThreshold()\n",
    "\n",
    "# fit model and transform data frame\n",
    "df_new = selector.fit_transform(df)\n",
    "\n",
    "# print results\n",
    "print(\"These are the infos on the original data frame:\", \"\\n\", df.describe())\n",
    "print(\"This is how the transformed data frame looks like:\", \"\\n\", \n",
    "      pd.DataFrame(df_new, columns = df.columns[selector.get_support()]))"
   ]
  },
  {
   "cell_type": "markdown",
   "metadata": {},
   "source": [
    "## 2.3 Correlation"
   ]
  },
  {
   "cell_type": "markdown",
   "metadata": {},
   "source": [
    "### 2.3.1 Correlation Matrix\n",
    "- Application: Correlation matrix is applied for feature selection and identifies highly correlated features that should be removed.\n",
    "- Description: Find the correlation matrix and remove features that are highly correlated."
   ]
  },
  {
   "cell_type": "code",
   "execution_count": null,
   "metadata": {},
   "outputs": [],
   "source": [
    "from sklearn.datasets import load_iris"
   ]
  },
  {
   "cell_type": "code",
   "execution_count": 22,
   "metadata": {},
   "outputs": [
    {
     "data": {
      "text/html": [
       "<div>\n",
       "<style scoped>\n",
       "    .dataframe tbody tr th:only-of-type {\n",
       "        vertical-align: middle;\n",
       "    }\n",
       "\n",
       "    .dataframe tbody tr th {\n",
       "        vertical-align: top;\n",
       "    }\n",
       "\n",
       "    .dataframe thead th {\n",
       "        text-align: right;\n",
       "    }\n",
       "</style>\n",
       "<table border=\"1\" class=\"dataframe\">\n",
       "  <thead>\n",
       "    <tr style=\"text-align: right;\">\n",
       "      <th></th>\n",
       "      <th>SepalLengthCm</th>\n",
       "      <th>SepalWidthCm</th>\n",
       "      <th>PetalLengthCm</th>\n",
       "      <th>PetalWidthCm</th>\n",
       "    </tr>\n",
       "  </thead>\n",
       "  <tbody>\n",
       "    <tr>\n",
       "      <th>SepalLengthCm</th>\n",
       "      <td>NaN</td>\n",
       "      <td>NaN</td>\n",
       "      <td>NaN</td>\n",
       "      <td>NaN</td>\n",
       "    </tr>\n",
       "    <tr>\n",
       "      <th>SepalWidthCm</th>\n",
       "      <td>NaN</td>\n",
       "      <td>NaN</td>\n",
       "      <td>NaN</td>\n",
       "      <td>NaN</td>\n",
       "    </tr>\n",
       "    <tr>\n",
       "      <th>PetalLengthCm</th>\n",
       "      <td>NaN</td>\n",
       "      <td>NaN</td>\n",
       "      <td>NaN</td>\n",
       "      <td>0.962865</td>\n",
       "    </tr>\n",
       "    <tr>\n",
       "      <th>PetalWidthCm</th>\n",
       "      <td>NaN</td>\n",
       "      <td>NaN</td>\n",
       "      <td>0.962865</td>\n",
       "      <td>NaN</td>\n",
       "    </tr>\n",
       "  </tbody>\n",
       "</table>\n",
       "</div>"
      ],
      "text/plain": [
       "               SepalLengthCm  SepalWidthCm  PetalLengthCm  PetalWidthCm\n",
       "SepalLengthCm            NaN           NaN            NaN           NaN\n",
       "SepalWidthCm             NaN           NaN            NaN           NaN\n",
       "PetalLengthCm            NaN           NaN            NaN      0.962865\n",
       "PetalWidthCm             NaN           NaN       0.962865           NaN"
      ]
     },
     "execution_count": 22,
     "metadata": {},
     "output_type": "execute_result"
    }
   ],
   "source": [
    "# load data\n",
    "iris = load_iris()\n",
    "iris = pd.DataFrame(iris['data'], columns = [\"SepalLengthCm\", \"SepalWidthCm\", \"PetalLengthCm\", \"PetalWidthCm\"])\n",
    "\n",
    "# run correlation matrix\n",
    "iris.corr(method = \"pearson\")[(iris.corr(method = \"pearson\") > 0.9) & (iris.corr(method = \"pearson\") != 1)]"
   ]
  },
  {
   "cell_type": "markdown",
   "metadata": {},
   "source": [
    "## 2.4 Text"
   ]
  },
  {
   "cell_type": "markdown",
   "metadata": {},
   "source": [
    "### 2.4.1 TfidfVectorizer()\n",
    "- Application: TfidfVectorizer is applied to convert text (documents) into numerical values, namely a matrix of tf-idf features.\n",
    "- Description: \n",
    "    * Tf–idf is short for term frequency–inverse document frequency and represents a numerical statistic that is intended to reflect how important a word is to a document.\n",
    "    * The tf–idf value increases proportionally to the number of times a word appears in the document and is offset by the number of documents in the corpus that contain the word, helping to adjust for the fact that some words appear more frequently in general."
   ]
  },
  {
   "cell_type": "code",
   "execution_count": 29,
   "metadata": {},
   "outputs": [],
   "source": [
    "from sklearn.feature_extraction.text import TfidfVectorizer"
   ]
  },
  {
   "cell_type": "code",
   "execution_count": 30,
   "metadata": {},
   "outputs": [
    {
     "name": "stdout",
     "output_type": "stream",
     "text": [
      "The unique words in the corpus are: \n",
      " ['cats', 'chase', 'dogs', 'greet', 'say', 'to', 'woof']\n",
      "The resulting matrix looks like this: \n",
      " [[0.83559154 0.         0.         0.54935123 0.         0.\n",
      "  0.        ]\n",
      " [0.         0.         0.65985664 0.         0.43381609 0.43381609\n",
      "  0.43381609]\n",
      " [0.51785612 0.68091856 0.51785612 0.         0.         0.\n",
      "  0.        ]]\n"
     ]
    }
   ],
   "source": [
    "# create list of text documents\n",
    "corpus = [\"cats greet cats\", \"dogs say woof to dogs\", \"dogs chase cats\"]\n",
    "\n",
    "# initialize TfidfVectorizer\n",
    "vectorizer = TfidfVectorizer()\n",
    "\n",
    "# fit vectorizer\n",
    "vectorizer.fit(corpus)\n",
    "\n",
    "# transform the document\n",
    "corpus_vectorized = vectorizer.transform(corpus)\n",
    "\n",
    "# print results\n",
    "print(\"The unique words in the corpus are:\", \"\\n\", vectorizer.get_feature_names())\n",
    "print(\"The resulting matrix looks like this:\", \"\\n\", corpus_vectorized.toarray())"
   ]
  },
  {
   "cell_type": "markdown",
   "metadata": {},
   "source": [
    "### 2.4.2 CountVectorizer()\n",
    "- Application: CountVectorizer is applied to count the number of times a word appears in a document. \n",
    "- Description:\n",
    "    * Returns a vector with a length of the entire vocabulary of the document and an integer count for the number of times each word (token) appeared in the document.\n",
    "    * The output is presented as a sparse matrix."
   ]
  },
  {
   "cell_type": "code",
   "execution_count": 31,
   "metadata": {},
   "outputs": [],
   "source": [
    "from sklearn.feature_extraction.text import CountVectorizer"
   ]
  },
  {
   "cell_type": "code",
   "execution_count": 32,
   "metadata": {},
   "outputs": [
    {
     "name": "stdout",
     "output_type": "stream",
     "text": [
      "The unique words in the corpus are: \n",
      " {'cats': 0, 'greet': 3, 'dogs': 2, 'say': 4, 'woof': 6, 'to': 5, 'chase': 1}\n",
      "The resulting matrix looks like this: \n",
      " [[2 0 0 1 0 0 0]\n",
      " [0 0 2 0 1 1 1]\n",
      " [1 1 1 0 0 0 0]]\n"
     ]
    }
   ],
   "source": [
    "# create list of text documents\n",
    "corpus = [\"cats greet cats\", \"dogs say woof to dogs\", \"dogs chase cats\"]\n",
    "\n",
    "# initialize the CountVectorizer\n",
    "vectorizer = CountVectorizer()\n",
    "\n",
    "# fit the vectorizer\n",
    "vectorizer.fit(corpus)\n",
    "\n",
    "# transform the document\n",
    "corpus_vectorized = vectorizer.transform(corpus)\n",
    "\n",
    "# print results\n",
    "print(\"The unique words in the corpus are:\", \"\\n\", vectorizer.vocabulary_)\n",
    "print(\"The resulting matrix looks like this:\", \"\\n\", corpus_vectorized.toarray())"
   ]
  },
  {
   "cell_type": "markdown",
   "metadata": {},
   "source": [
    "### 2.4.3 Keyword Extraction\n",
    "- Application: Keyword extraction is used for text mining, information retrieval, and natrual language processing\n",
    "- Description:\n",
    "    * Keyword extraction automatically identifies terms that best describe the subject of a document\n",
    "    * It determines key phrases in a body of text by analyzing the frequency of word appearance and its co-occurance with other words in the text"
   ]
  },
  {
   "cell_type": "code",
   "execution_count": 64,
   "metadata": {},
   "outputs": [],
   "source": [
    "from rake_nltk import Rake"
   ]
  },
  {
   "cell_type": "code",
   "execution_count": 88,
   "metadata": {},
   "outputs": [
    {
     "name": "stdout",
     "output_type": "stream",
     "text": [
      "The keywords from the plot of the movie The Dark Knight are: [['mysterious', 'past', 'people', 'menace', 'known', 'chaos', 'gotham', 'ability', 'wreaks', 'havoc', 'dark', 'knight', 'must', 'accept', 'one', 'physical', 'tests', 'joker', 'emerges', 'greatest', 'psychological', 'fight', 'injustice']]\n"
     ]
    }
   ],
   "source": [
    "# load data\n",
    "movies = pd.read_csv('00_Data/Movies.csv', index_col = 0)\n",
    "movies_plot = movies.loc[:, ['Title', 'Plot']]\n",
    "\n",
    "# extracting keywords from plots\n",
    "movies_plot['Keywords'] = ''\n",
    "for index, row in movies_plot.iterrows():\n",
    "    plot = row['Plot']\n",
    "    # instantiating Rake, by default it uses english stopwords from nltk and discards puntuation\n",
    "    r = Rake()\n",
    "    # extracting the words by passing the text\n",
    "    r.extract_keywords_from_text(plot)\n",
    "    # getting the dictionary whith key words as keys and their scores as values\n",
    "    keywords_dict_scores = r.get_word_degrees()\n",
    "    # assigning the key words to the new column for the corresponding movie\n",
    "    row['Keywords'] = list(keywords_dict_scores.keys())\n",
    "\n",
    "# print one example\n",
    "print('The keywords from the plot of the movie The Dark Knight are:', list(movies_plot[movies_plot['Title'] == 'The Dark Knight']['Keywords']))"
   ]
  },
  {
   "cell_type": "markdown",
   "metadata": {},
   "source": [
    "### 2.4.4 Word Embeddings\n",
    "- Application: Word embeddings are used to capture context of a word in a document and are hence applied for sentiment analysis\n",
    "- Description:\n",
    "    * Word embeddings are word representations (words are mapped to vectors of real numbers) that allow words with similar meaning to have a similar representation\n",
    "    * There are several algorithms to perform this task, for example Word2Vec, which again consists of two learning models:\n",
    "        * Continuous Bag-of-Words (CBOW): Learns the embedding by predicting the current word based on its context\n",
    "        * Continuous Skip-Gram-Model: Learns by predicting the surrounding words given a current word\n",
    "    * Pre-trained embeddings allow one to identify words in a document that are related to a given input word"
   ]
  },
  {
   "cell_type": "code",
   "execution_count": 142,
   "metadata": {},
   "outputs": [],
   "source": [
    "# import gensim\n",
    "\n",
    "# initialize model\n",
    "#model_gn = gensim.models.KeyedVectors.load_word2vec_format('GoogleNews-vectors-negative300.bin', binary=True)\n",
    "\n",
    "# define keys to create embeddings for\n",
    "#keys = ['love', 'hate', 'stocks']\n",
    "\n",
    "# create embeddings\n",
    "#embedding_clusters = []\n",
    "#word_clusters = []\n",
    "#for word in keys:\n",
    "#    embeddings = []\n",
    "#    words = []\n",
    "#    for similar_word, _ in model_gn.most_similar(word, topn=30):\n",
    "#        words.append(similar_word)\n",
    "#        embeddings.append(model_gn[similar_word])\n",
    "#    embedding_clusters.append(embeddings)\n",
    "#    word_clusters.append(words)"
   ]
  },
  {
   "cell_type": "markdown",
   "metadata": {},
   "source": [
    "## 2.5 Oversampling"
   ]
  },
  {
   "cell_type": "markdown",
   "metadata": {},
   "source": [
    "### 2.5.1 Synthetic Minority Oversampling Technique\n",
    "- Application: Synthetic Minority Oversampling Technique (SMOTE) is used to adjust the distribution of classes in a dataset if we have imbalanced data that needs to be classified.\n",
    "- Description:\n",
    "    * We differentiate between undersampling, where we have to reduce the number of majority cases, and oversampling, where we have to increase the number of minority cases\n",
    "    * SMOTE is applied to oversample the minority class\n",
    "    * We randomly select a minority point, find the k-nearest neighbors for the point (typically $k=5$) and add synthetic points between the chosen point and one randomly selected neighbor"
   ]
  },
  {
   "cell_type": "code",
   "execution_count": 12,
   "metadata": {},
   "outputs": [],
   "source": [
    "from imblearn.over_sampling import SMOTE"
   ]
  },
  {
   "cell_type": "code",
   "execution_count": 11,
   "metadata": {},
   "outputs": [
    {
     "data": {
      "image/png": "[encoded data removed]",
      "text/plain": [
       "<Figure size 432x288 with 2 Axes>"
      ]
     },
     "metadata": {
      "needs_background": "light"
     },
     "output_type": "display_data"
    }
   ],
   "source": [
    "# load data\n",
    "credit = pd.read_csv('00_Data/Credit.csv',index_col=0)\n",
    "y = credit.iloc[:,-1].values\n",
    "x = credit.iloc[:, :-1].values\n",
    "\n",
    "# initialize method\n",
    "method = SMOTE()\n",
    "\n",
    "# create resampled feature set\n",
    "x_resampled, y_resampled = method.fit_sample(x, y)\n",
    "\n",
    "# plot cases along first two features\n",
    "fig, (ax1, ax2) = plt.subplots(1, 2)\n",
    "ax1.scatter(x[y == 0, 0], x[y == 0, 1], label=\"Not Fraudulent\", alpha=0.5, linewidth=0.15)\n",
    "ax1.scatter(x[y == 1, 0], x[y == 1, 1], label=\"Fraudulent\", alpha=0.5, linewidth=0.15, c='y')\n",
    "ax1.legend()\n",
    "ax1.set_title('Original Data')\n",
    "ax2.scatter(x_resampled[y_resampled == 0, 0], x_resampled[y_resampled == 0, 1], label=\"Not Fraudulent\", alpha=0.5, linewidth=0.15)\n",
    "ax2.scatter(x_resampled[y_resampled == 1, 0], x_resampled[y_resampled == 1, 1], label=\"Fraudulent\", alpha=0.5, linewidth=0.15, c='y')\n",
    "ax2.legend()\n",
    "ax2.set_title('SMOTE Data')\n",
    "plt.show()"
   ]
  },
  {
   "cell_type": "markdown",
   "metadata": {},
   "source": [
    "## 2.6 Dimension Reduction"
   ]
  },
  {
   "cell_type": "markdown",
   "metadata": {},
   "source": [
    "### 2.6.1 Principle Component Analysis\n",
    "- Application: PCA is applied to reduce the dimensionality of data and to find patterns in data of high dimension\n",
    "- Desciption: PCA represents the original data in a smaller number of components. The number of components should be reduced as much as possible, while still describing >85% of the data's variance\n",
    "- Functionality:\n",
    "    * Standardize the features, otherwise variables with relatively higher variance outweigh other features\n",
    "    * We have a point cloud and want to find its major/minor direction\n",
    "    * This point cloud is centered at $\\mu$, but we want to re-center it at the origin (subtract the column means)\n",
    "    * We then rotate the matrix to be more axis-aligned by multiplying it with an orthogonal matrix and make the columns orthonormal; mathematically, the columns of our matrix are now uncorrelated, meaning that the resulting components will also be uncorrelated\n",
    "    * We then perform matrix singular value decomposition on the above described matrix into eigenvectors and eigenvalues (this can also be performed on the covariance matrix between columns)\n",
    "    * The eigenvalues represent the variance described by the corresponding eigenvector\n",
    "    * We now sort the eigenvalues in descending order in order to select as many eigenvector necessary to describe our original data well enough\n",
    "    * The eigenvectors can be used to represent the loadings:\n",
    "        * They can be thought of as the directions in the feature space along which the data vary the most\n",
    "        * They can be used to determine the contribution of each feature to each of the component\n",
    "        * The resulting vectors fit the data, minimizing the distance between each observation and the vector\n",
    "    * The principal component scores are derived multiplying the loadings by the feature values\n",
    "    * Biplot are used to displays the principle component scores as well as the principle component loadings\n",
    "- Limitations: PCA assumes linear relationships between data points and is usually just a pre-processing step"
   ]
  },
  {
   "cell_type": "code",
   "execution_count": 123,
   "metadata": {},
   "outputs": [],
   "source": [
    "from sklearn.datasets import load_iris\n",
    "from sklearn.decomposition import PCA"
   ]
  },
  {
   "cell_type": "code",
   "execution_count": 176,
   "metadata": {},
   "outputs": [
    {
     "name": "stdout",
     "output_type": "stream",
     "text": [
      "The cummulative explained variance by each component is: [0.92461872 0.97768521 0.99478782 1.        ]\n",
      "   pca_inverse  original\n",
      "0     4.873326       4.9\n",
      "1     3.284202       3.0\n",
      "2     1.458588       1.4\n",
      "3     0.237640       0.2\n",
      "The shape of the iris_reduced is: (150, 1)\n"
     ]
    }
   ],
   "source": [
    "# load data\n",
    "iris = load_iris()\n",
    "iris = pd.DataFrame(iris['data'], columns = [\"SepalLengthCm\", \"SepalWidthCm\", \"PetalLengthCm\", \"PetalWidthCm\"])\n",
    "\n",
    "# fit pca without specifying n_components\n",
    "pca = PCA().fit(iris)\n",
    "\n",
    "# find optimal number of components\n",
    "print('The cummulative explained variance by each component is:', np.cumsum(pca.explained_variance_ratio_))\n",
    "\n",
    "# fit pca with n_components = 1\n",
    "pca = PCA(n_components = 1).fit(iris)\n",
    "\n",
    "# reduce dimensionality of iris\n",
    "iris_reduced = pca.fit_transform(iris)\n",
    "\n",
    "# transform data back to its original shape\n",
    "iris_inverse = pca.inverse_transform(iris_reduced)\n",
    "print(pd.DataFrame({'pca_inverse': iris_inverse[0], 'original': iris.values[1]}))\n",
    "\n",
    "# print new data\n",
    "print('The shape of the iris_reduced is:', iris_reduced.shape)"
   ]
  },
  {
   "cell_type": "markdown",
   "metadata": {},
   "source": [
    "### 2.6.2 Truncated Singular Value Decomposition\n",
    "- Application: Truncated Singular Value Decomposition (SVD) is applied for text mining. It reduces dimensions of text data and is a pre-preparation tool for the clustering of text data.\n",
    "- Description: Contrary to PCA, Truncated SVD does not center the data before computing the singular value decomposition, meaning that it can work with sparse matrices efficiently\n",
    "- Functionality:\n",
    "    * We first have to transform text into features with numerical values: There are several techniques such as CountVectorizer or TfidfVectorizer\n",
    "    * We then perform SVD on the numerical matrix like we do in PCA\n",
    "    * Only the column and row vectors corresponding to the largest eigenvalues are calculated and the rest of the matrix is discarded\n",
    "- Limitations: Text data needs to be vectorized before Truncated SVD can be applied to it. Truncated SVD is usually just a pre-processing setp"
   ]
  },
  {
   "cell_type": "code",
   "execution_count": 20,
   "metadata": {},
   "outputs": [],
   "source": [
    "from scipy.sparse import random as sparse_random\n",
    "from sklearn.decomposition import TruncatedSVD"
   ]
  },
  {
   "cell_type": "code",
   "execution_count": 33,
   "metadata": {},
   "outputs": [
    {
     "name": "stdout",
     "output_type": "stream",
     "text": [
      "The cummulative explained variance by each component is: [0.01342521 0.05961285 0.10155722 0.13995647 0.17480073 0.20896208\n",
      " 0.24148441 0.27200877 0.30147327 0.33037641 0.35709628 0.38327579\n",
      " 0.40810268 0.43237488 0.4558951  0.47848363 0.50058471 0.52205071\n",
      " 0.54178362 0.56130295 0.57953759 0.59744854 0.61443092 0.63087268\n",
      " 0.64704028 0.66271213 0.67809192 0.69276143 0.707133   0.72123466\n",
      " 0.73478017 0.74729161 0.75945563 0.7715399  0.78292753 0.79406602\n",
      " 0.80469552 0.81498795 0.82436963 0.83366938 0.84273691 0.85121777]\n",
      "         0         1         2         3         4         5         6   \\\n",
      "0  0.934004  1.115706  0.300979  0.590796  0.551706  0.065915 -0.033311   \n",
      "\n",
      "        7         8         9   ...        32        33        34        35  \\\n",
      "0 -0.70139  0.491412  0.203077  ... -0.010019 -0.135218  0.150626 -0.008025   \n",
      "\n",
      "         36        37        38        39        40        41  \n",
      "0 -0.234909  0.013812 -0.185425 -0.119091  0.135215 -0.133744  \n",
      "\n",
      "[1 rows x 42 columns]\n"
     ]
    }
   ],
   "source": [
    "# load random sparse matrix (i.e. representing tf-idf matrix)\n",
    "x = sparse_random(100, 100, density = 0.1, random_state = 42)\n",
    "\n",
    "# initialize and fit svd\n",
    "svd = TruncatedSVD(n_components = 42).fit(x)\n",
    "\n",
    "# find optimal number of components\n",
    "print('The cummulative explained variance by each component is:', np.cumsum(svd.explained_variance_ratio_))\n",
    "\n",
    "# transform data\n",
    "x_svd = svd.fit_transform(x)\n",
    "\n",
    "# print results\n",
    "print(pd.DataFrame(x_svd[:1]))"
   ]
  },
  {
   "cell_type": "markdown",
   "metadata": {},
   "source": [
    "# 3 Unsupervised Learning\n",
    "This section presents several unsupervised learning algorithms in the following way:\n",
    "- Application: When should this algorithm be used?\n",
    "- Description: What does this algorithm do (high-level)?\n",
    "- Functionality: How does this algorithm work (drill-down)?\n",
    "- Limitations: What does one have to keep in mind when using this algorithm?\n",
    "- Example: How is this algorithm applied?"
   ]
  },
  {
   "cell_type": "markdown",
   "metadata": {},
   "source": [
    "## 3.1 Clustering"
   ]
  },
  {
   "cell_type": "markdown",
   "metadata": {},
   "source": [
    "### 3.1.1 t-SNE\n",
    "\n",
    "- Application: t-SNE is used in the initial stage of data exploration (quick & dirty approach).\n",
    "- Description: t-SNE visualizes multi-dimensional data in two dimensions and it clusters the data in this two dimensional space, while preserving the relative distance of the data points.\n",
    "- Functionality:\n",
    "    * Start with one data point and calculate its distance to all other data points\n",
    "    * Plot a normal distribution on top of the one data point that is in the center of the distribution\n",
    "    * Plot the distances to the other poitns under the normal distribution\n",
    "    * The height of the data point to the curve is called the similarity score (the higher the distance, the lower the height of the bar)\n",
    "    * Plot the similarity scores in one dimension: High scores atttract each other, low scores repel each other\n",
    "    * As a result, data points with high similarity are close to each other\n",
    "    * If a t-Distribution is used instead of a normal distribution,we can better differentiate points further away from the first points because of their fatter tails  \n",
    "    * Perplexity: Illustrates a guess about the number of close neighbors each point has; sqrt(n data points); usually 5-50\n",
    "    * Learning rate: Intensity of how data points repel/attrach each other based on their similarity scores; usually 10-1,000\n",
    "- Limitations: t-SNE should be used for data exploration only and not as input for other methods or models. The reason is that it is heuristig, meaning that its output changes every time the algorithm is executed"
   ]
  },
  {
   "cell_type": "code",
   "execution_count": 46,
   "metadata": {},
   "outputs": [],
   "source": [
    "from sklearn.datasets import load_iris\n",
    "from sklearn.manifold import TSNE"
   ]
  },
  {
   "cell_type": "code",
   "execution_count": 47,
   "metadata": {},
   "outputs": [
    {
     "name": "stdout",
     "output_type": "stream",
     "text": [
      "This dataframe has 150 rows and 5 columns.\n",
      "   SepalLengthCm  SepalWidthCm  PetalLengthCm  PetalWidthCm  Species\n",
      "0            5.1           3.5            1.4           0.2        0\n",
      "1            4.9           3.0            1.4           0.2        0\n",
      "2            4.7           3.2            1.3           0.2        0\n",
      "3            4.6           3.1            1.5           0.2        0\n",
      "4            5.0           3.6            1.4           0.2        0\n"
     ]
    }
   ],
   "source": [
    "# load data\n",
    "iris = load_iris()\n",
    "iris = pd.concat([pd.DataFrame(iris['data'], columns = [\"SepalLengthCm\", \"SepalWidthCm\", \"PetalLengthCm\", \"PetalWidthCm\"]), pd.DataFrame(iris['target'], columns = ['Species'])],\n",
    "                axis = 1)\n",
    "\n",
    "# take a look at dataframe\n",
    "print(\"This dataframe has {} rows and {} columns.\".format(iris.shape[0], iris.shape[1]))\n",
    "print(iris.head())\n",
    "\n",
    "# create array\n",
    "x = iris.iloc[:, 1:5].values"
   ]
  },
  {
   "cell_type": "code",
   "execution_count": 48,
   "metadata": {},
   "outputs": [
    {
     "data": {
      "image/png": "[encoded data removed]",
      "text/plain": [
       "<Figure size 432x288 with 1 Axes>"
      ]
     },
     "metadata": {
      "needs_background": "light"
     },
     "output_type": "display_data"
    }
   ],
   "source": [
    "# initiate the model\n",
    "tsne = TSNE(learning_rate = 100, perplexity = 40)\n",
    "\n",
    "# fit the model and transform the data\n",
    "x_tsne = tsne.fit_transform(x)\n",
    "\n",
    "# plot the results\n",
    "plt.scatter(x_tsne[:,0], x_tsne[:,1], c=iris[\"Species\"].astype('category').cat.codes)\n",
    "plt.show()"
   ]
  },
  {
   "cell_type": "markdown",
   "metadata": {},
   "source": [
    "### 3.1.2 K-Means\n",
    "- Application: K-Means is applied to cluster data into a pre-determined number of homogeneous clusters.\n",
    "- Description: K-Means minimizes the dispersion of data points within clusters by categorizing data point to the cluster with the nearest mean. Usually the euclidean distance is used to measure distances.\n",
    "- Functionality:\n",
    "    * Goal: Assign observation to $k$ clusters such that the total within-cluster variation, summed over the $k$ clusters is as small as possible\n",
    "    * We start with $k$ initial clusters\n",
    "    * We randomly place the $k$ centorids in the data (the better this initial guess is, the quicker will the algorithm find the true clusters)\n",
    "    * Each observation is then assigned to the cluster with the closest centorid (usually we use Euclidean distance as distance measure)\n",
    "    * We recompute the centroids of the clusters that lost or gained an observation from the above step\n",
    "    * We stop this when moving any more obervations increases the cluster dispersion/when the distance between the new and old centroids is 0 (meaning that reasigning data points doesn't change the centroids)\n",
    "    - **Silhouette coefficient**: Measure of how similar an object is to its own cluster compared to other clusters; it ranges from −1 to +1, where a high value indicates that the object is well matched to its own cluster and poorly matched to neighboring clusters; can be used to automate k-means clustering\n",
    "- Limitations: We have to find and defind the ideal number of clusters; performance is limited for non-globular data structures; forces outliers into clusters"
   ]
  },
  {
   "cell_type": "code",
   "execution_count": null,
   "metadata": {},
   "outputs": [],
   "source": [
    "from copy import deepcopy\n",
    "from sklearn.cluster import KMeans"
   ]
  },
  {
   "cell_type": "code",
   "execution_count": 1,
   "metadata": {},
   "outputs": [
    {
     "name": "stdout",
     "output_type": "stream",
     "text": [
      "This dataframe has 3000 rows and 2 columns.\n",
      "          V1         V2\n",
      "0   2.072345  -3.241693\n",
      "1  17.936710  15.784810\n",
      "2   1.083576   7.319176\n",
      "3  11.120670  14.406780\n",
      "4  23.711550   2.557729\n"
     ]
    }
   ],
   "source": [
    "# load data\n",
    "clara = pd.read_csv(\"00_Data/Xclara.csv\")\n",
    "\n",
    "# take a look at the data frame\n",
    "print(\"This dataframe has {} rows and {} columns.\".format(clara.shape[0], clara.shape[1]))\n",
    "print(clara.head())\n",
    "\n",
    "# create array\n",
    "x = clara.loc[:, [\"V1\", \"V2\"]].values"
   ]
  },
  {
   "cell_type": "markdown",
   "metadata": {},
   "source": [
    "#### Manual Calculation"
   ]
  },
  {
   "cell_type": "code",
   "execution_count": 2,
   "metadata": {},
   "outputs": [
    {
     "data": {
      "image/png": "[encoded data removed]",
      "text/plain": [
       "<Figure size 432x288 with 1 Axes>"
      ]
     },
     "metadata": {
      "needs_background": "light"
     },
     "output_type": "display_data"
    }
   ],
   "source": [
    "# define a function to calculate the euclidean distance\n",
    "def dist(a, b, ax=1):\n",
    "    return np.linalg.norm(a - b, axis=ax)\n",
    "\n",
    "# set a number of clusters\n",
    "k = 3\n",
    "\n",
    "# randomly generate k centroids\n",
    "c_x = np.random.randint(0, np.max(x)-20, size=k)\n",
    "c_y = np.random.randint(0, np.max(x)-20, size=k)\n",
    "c = np.array(list(zip(c_x, c_y)), dtype=np.float32)\n",
    "\n",
    "# initialize array to store updated centroids\n",
    "c_old = np.zeros(c.shape)\n",
    "\n",
    "# initialize labels for the clusters\n",
    "clusters = np.zeros(len(x))\n",
    "\n",
    "# initialize error (distance between old and new centroids)\n",
    "error = dist(c, c_old, None)\n",
    "\n",
    "# develop loop to calculate k-means clusters:\n",
    "while error != 0:\n",
    "    # assign each value to its closest cluster\n",
    "    for i in range(len(x)):\n",
    "        distances = dist(x[i], c)\n",
    "        cluster = np.argmin(distances)\n",
    "        clusters[i] = cluster\n",
    "    # store the old centroid values\n",
    "    c_old = deepcopy(c)\n",
    "    # find the new centroids by taking the average value\n",
    "    for i in range(k):\n",
    "        points = [x[j] for j in range(len(x)) if clusters[j] == i]\n",
    "        c[i] = np.mean(points, axis=0)\n",
    "    error = dist(c, c_old, None)\n",
    "\n",
    "# plot the clusters\n",
    "fig, ax = plt.subplots()\n",
    "for i in range(k):\n",
    "    points = np.array([x[j] for j in range(len(x)) if clusters[j] == i])\n",
    "    ax.scatter(points[:, 0], points[:, 1], s=5)\n",
    "plot = ax.scatter(c[:, 0], c[:, 1], marker='*', s=500, c='black')"
   ]
  },
  {
   "cell_type": "markdown",
   "metadata": {},
   "source": [
    "#### Sklearn Package"
   ]
  },
  {
   "cell_type": "code",
   "execution_count": 60,
   "metadata": {},
   "outputs": [
    {
     "data": {
      "image/png": "[encoded data removed]",
      "text/plain": [
       "<Figure size 720x432 with 1 Axes>"
      ]
     },
     "metadata": {
      "needs_background": "light"
     },
     "output_type": "display_data"
    }
   ],
   "source": [
    "# find ideal number of clusters\n",
    "def plot_inertia(array, start=1, end=10):\n",
    "    \n",
    "    # claculate interias\n",
    "    inertia = []\n",
    "    ks = range(start, end+1)\n",
    "    \n",
    "    for k in ks:\n",
    "        model = KMeans(n_clusters = k, random_state = 0).fit(array)\n",
    "        inertia.append(model.inertia_)\n",
    "    \n",
    "    # plot interias\n",
    "    fig, ax = plt.subplots(figsize=(10,6))\n",
    "    plt.plot(ks, inertia, '-o')\n",
    "    ax.set_title('The elbow method')\n",
    "    ax.set_ylabel('Inertia')\n",
    "    ax.set_xlabel('Number of clusters')\n",
    "    plt.show()\n",
    "    \n",
    "    # return plot\n",
    "    return ax\n",
    "\n",
    "inertia = plot_inertia(x)"
   ]
  },
  {
   "cell_type": "code",
   "execution_count": 5,
   "metadata": {},
   "outputs": [
    {
     "data": {
      "image/png": "[encoded data removed]",
      "text/plain": [
       "<Figure size 432x288 with 1 Axes>"
      ]
     },
     "metadata": {
      "needs_background": "light"
     },
     "output_type": "display_data"
    }
   ],
   "source": [
    "# set number of clusters\n",
    "n_cluster = 3\n",
    "\n",
    "# instantiate kmeans with 3 clusters\n",
    "kmeans = KMeans(n_clusters = n_cluster)\n",
    "\n",
    "# fit kmeans to the input data\n",
    "kmeans = kmeans.fit(x)\n",
    "\n",
    "# create cluster labels\n",
    "labels = kmeans.predict(x)\n",
    "\n",
    "# extract centroids\n",
    "centroids = kmeans.cluster_centers_\n",
    "\n",
    "# plot the clusters\n",
    "fig, ax = plt.subplots()\n",
    "for i in range(n_cluster):\n",
    "    points = np.array([x[j] for j in range(len(x)) if labels[j] == i])\n",
    "    ax.scatter(points[:, 0], points[:, 1], s = 5)\n",
    "plot = ax.scatter(centroids[:, 0], centroids[:, 1], marker = '*', s = 500, c = 'black')"
   ]
  },
  {
   "cell_type": "markdown",
   "metadata": {},
   "source": [
    "### 3.1.3 DBSCAN\n",
    "- Application: DBSCAN is used to find non-globular clusters based on a given radius, meaning that it can discover clusters of arbitrary shape.\n",
    "- Description: DBCSAN is a density-based clustering algorithm that groups points that are close to each other and marks points as outliers if they lie alone in low-density regions (whose nearest neighbors are too far away).\n",
    "- Functionality:\n",
    "    * We pick a point at random that has not been assigned to a cluster or as an outlier\n",
    "    * For this point, we compute its neighborhood to determine if it's a core point. If yes, we start a cluster with it. If no, we label t as an outlier\n",
    "    * Once we find a core point, we expand the cluster by adding all directly reachable points and also perform neighborhood jumps to find all density-reachable points and add them to the cluster\n",
    "    * We repeat these two steps until all points are assigned to a cluster of defined as an outlier \n",
    "    * Core points: Our clusters are built around our core points (hence the core part), so by adjusting our minPts parameter, we can fine-tune how dense our clusters cores must be.\n",
    "    * Border Points: Also called density-reachable points. As an analogy, we can think of density-reachable points as being the “friends of a friend”. \n",
    "    * Outliers: Points that are neither core points nor are they close enough to a cluster to be density-reachable from a core point\n",
    "    * We need to assign two parameters: Epsilon (radius) and minPts (min number of data points that we want to have in the neighborhood)\n",
    "- Limitations: While DBSCAN is great at separating high density clusters from low density clusters, DBSCAN struggles with clusters of similar density. DBSCAN also stuggles with data of very high dimensions"
   ]
  },
  {
   "cell_type": "code",
   "execution_count": null,
   "metadata": {},
   "outputs": [],
   "source": [
    "from sklearn.cluster import DBSCAN\n",
    "from sklearn.datasets import make_moons"
   ]
  },
  {
   "cell_type": "code",
   "execution_count": 59,
   "metadata": {},
   "outputs": [
    {
     "data": {
      "image/png": "[encoded data removed]",
      "text/plain": [
       "<Figure size 432x288 with 1 Axes>"
      ]
     },
     "metadata": {
      "needs_background": "light"
     },
     "output_type": "display_data"
    }
   ],
   "source": [
    "# load data\n",
    "x, y = make_moons(n_samples = 2000, noise = 0.04)\n",
    "\n",
    "# initialize model\n",
    "dbscan = DBSCAN(eps = 0.05, min_samples = 10)\n",
    "\n",
    "# fit model\n",
    "dbscan.fit(x)\n",
    "\n",
    "# get the labels\n",
    "labels = dbscan.labels_\n",
    "\n",
    "# plot results\n",
    "plt.scatter(x[:,0], x[:,1], c=labels)\n",
    "plt.show()"
   ]
  },
  {
   "cell_type": "markdown",
   "metadata": {},
   "source": [
    "### 3.1.4 Hierarchical Clustering\n",
    "- Application: Hierarchical Clustering is used to get visual insights into clusters without any prior information and the need to specify the number of clusters a priori\n",
    "- Description: Hierarchical Clustering build a hierarchy of clusters visualize them in dendrograms, revealing more information than non-hierarchical algorithms that returns a unique partition\n",
    "- Functionality (agglomerative):\n",
    "    * At the start, we treat each data point as its own cluster and calculate all pairwise dissimilarities using i.e. Euclidean distance\n",
    "    * We identify the two clusters that are most similar and fuse them together, resulting in n-1 clusters\n",
    "    * Now, we have to define new dissimilarities between groups of observations, referred to as linkage\n",
    "    * There are different types of linkage: complete (compute all pairwise dissimilarities between cluster A and B and record the largest), single (compute all pairwise dissimilarities between cluster A and B and record the smallest), average (compute all pairwise dissimilarities between cluster A and B and record the average), ward (minimizing information loss)\n",
    "    * We then examine the dissimilarites among the reulting clusters to identify the clusters that again are most similar to fuse them togehter, restulting in n-2 clusters\n",
    "    * We repeat the above steps until one single cluster is formed\n",
    "    * Once one overall cluster is formed, we develop dendrograms to divide the overall cluster into its sub-clusters\n",
    "    * The height of the dendrograms represent the distances between the data points; the earlier the clusters form the more sumilar the data points; their proximity on the horizontal axis is irrelevant \n",
    "    * Dendrograms are used to obtain any number of clusters depending on the desired height   \n",
    "- Limitations: Hierarchical Clustering has high time-complexity and can be difficult to read for large datasets; the choice of dissimilarity measure has a strong impact on the dendrograms"
   ]
  },
  {
   "cell_type": "code",
   "execution_count": 33,
   "metadata": {},
   "outputs": [],
   "source": [
    "from sklearn.preprocessing import Normalizer\n",
    "from scipy.cluster.hierarchy import linkage, dendrogram\n",
    "from sklearn.cluster import AgglomerativeClustering"
   ]
  },
  {
   "cell_type": "code",
   "execution_count": 34,
   "metadata": {},
   "outputs": [
    {
     "name": "stdout",
     "output_type": "stream",
     "text": [
      "This dataframe has 60 rows and 964 columns.\n",
      "  Unnamed: 0  2010-01-04  2010-01-05  2010-01-06  2010-01-07  2010-01-08  \\\n",
      "0      Apple        0.58   -0.220005   -3.409998       -1.17    1.680011   \n",
      "\n",
      "   2010-01-11  2010-01-12  2010-01-13  2010-01-14  ...  2013-10-16  \\\n",
      "0   -2.689994   -1.469994    2.779997   -0.680003  ...    0.320008   \n",
      "\n",
      "   2013-10-17  2013-10-18  2013-10-21  2013-10-22  2013-10-23  2013-10-24  \\\n",
      "0    4.519997    2.899987    9.590019   -6.540016    5.959976    6.910011   \n",
      "\n",
      "   2013-10-25  2013-10-28  2013-10-29  \n",
      "0   -5.359962    0.840019  -19.589981  \n",
      "\n",
      "[1 rows x 964 columns]\n"
     ]
    }
   ],
   "source": [
    "# load data\n",
    "movements = pd.read_csv(\"00_Data/Movements.csv\")\n",
    "\n",
    "# take a look at dataframe\n",
    "print(\"This dataframe has {} rows and {} columns.\".format(movements.shape[0], movements.shape[1]))\n",
    "print(movements.head(1))\n",
    "\n",
    "# prepare data\n",
    "x = movements.iloc[:,1:].values\n",
    "companies = [i for sublist in movements.iloc[:,:1].values for i in sublist]\n",
    "\n",
    "# normalize data\n",
    "scaler = Normalizer()\n",
    "x = scaler.fit_transform(x)"
   ]
  },
  {
   "cell_type": "markdown",
   "metadata": {},
   "source": [
    "#### Scipy Package"
   ]
  },
  {
   "cell_type": "code",
   "execution_count": 3,
   "metadata": {},
   "outputs": [
    {
     "data": {
      "image/png": "[encoded data removed]",
      "text/plain": [
       "<Figure size 936x720 with 1 Axes>"
      ]
     },
     "metadata": {
      "needs_background": "light"
     },
     "output_type": "display_data"
    }
   ],
   "source": [
    "# calculate the linkage: mergings\n",
    "mergings = linkage(x, method='ward')\n",
    "\n",
    "# plot the dendrogram\n",
    "plt.figure(figsize=(13,10))\n",
    "dendrogram(mergings, labels=companies, leaf_rotation=90, leaf_font_size=10)\n",
    "plt.show()"
   ]
  },
  {
   "cell_type": "markdown",
   "metadata": {},
   "source": [
    "#### Sklearn Package"
   ]
  },
  {
   "cell_type": "code",
   "execution_count": 7,
   "metadata": {},
   "outputs": [
    {
     "data": {
      "text/html": [
       "<div>\n",
       "<style scoped>\n",
       "    .dataframe tbody tr th:only-of-type {\n",
       "        vertical-align: middle;\n",
       "    }\n",
       "\n",
       "    .dataframe tbody tr th {\n",
       "        vertical-align: top;\n",
       "    }\n",
       "\n",
       "    .dataframe thead th {\n",
       "        text-align: right;\n",
       "    }\n",
       "</style>\n",
       "<table border=\"1\" class=\"dataframe\">\n",
       "  <thead>\n",
       "    <tr style=\"text-align: right;\">\n",
       "      <th></th>\n",
       "      <th>comapny</th>\n",
       "      <th>labels</th>\n",
       "    </tr>\n",
       "  </thead>\n",
       "  <tbody>\n",
       "    <tr>\n",
       "      <th>0</th>\n",
       "      <td>Apple</td>\n",
       "      <td>0</td>\n",
       "    </tr>\n",
       "    <tr>\n",
       "      <th>51</th>\n",
       "      <td>Texas instruments</td>\n",
       "      <td>0</td>\n",
       "    </tr>\n",
       "    <tr>\n",
       "      <th>50</th>\n",
       "      <td>Taiwan Semiconductor Manufacturing</td>\n",
       "      <td>0</td>\n",
       "    </tr>\n",
       "    <tr>\n",
       "      <th>47</th>\n",
       "      <td>Symantec</td>\n",
       "      <td>0</td>\n",
       "    </tr>\n",
       "    <tr>\n",
       "      <th>36</th>\n",
       "      <td>Northrop Grumman</td>\n",
       "      <td>0</td>\n",
       "    </tr>\n",
       "    <tr>\n",
       "      <th>33</th>\n",
       "      <td>Microsoft</td>\n",
       "      <td>0</td>\n",
       "    </tr>\n",
       "    <tr>\n",
       "      <th>31</th>\n",
       "      <td>McDonalds</td>\n",
       "      <td>0</td>\n",
       "    </tr>\n",
       "    <tr>\n",
       "      <th>30</th>\n",
       "      <td>MasterCard</td>\n",
       "      <td>0</td>\n",
       "    </tr>\n",
       "    <tr>\n",
       "      <th>24</th>\n",
       "      <td>Intel</td>\n",
       "      <td>0</td>\n",
       "    </tr>\n",
       "    <tr>\n",
       "      <th>23</th>\n",
       "      <td>IBM</td>\n",
       "      <td>0</td>\n",
       "    </tr>\n",
       "    <tr>\n",
       "      <th>22</th>\n",
       "      <td>HP</td>\n",
       "      <td>0</td>\n",
       "    </tr>\n",
       "    <tr>\n",
       "      <th>17</th>\n",
       "      <td>Google/Alphabet</td>\n",
       "      <td>0</td>\n",
       "    </tr>\n",
       "    <tr>\n",
       "      <th>14</th>\n",
       "      <td>Dell</td>\n",
       "      <td>0</td>\n",
       "    </tr>\n",
       "    <tr>\n",
       "      <th>29</th>\n",
       "      <td>Lookheed Martin</td>\n",
       "      <td>0</td>\n",
       "    </tr>\n",
       "    <tr>\n",
       "      <th>4</th>\n",
       "      <td>Boeing</td>\n",
       "      <td>0</td>\n",
       "    </tr>\n",
       "    <tr>\n",
       "      <th>2</th>\n",
       "      <td>Amazon</td>\n",
       "      <td>0</td>\n",
       "    </tr>\n",
       "    <tr>\n",
       "      <th>11</th>\n",
       "      <td>Cisco</td>\n",
       "      <td>0</td>\n",
       "    </tr>\n",
       "    <tr>\n",
       "      <th>59</th>\n",
       "      <td>Yahoo</td>\n",
       "      <td>0</td>\n",
       "    </tr>\n",
       "  </tbody>\n",
       "</table>\n",
       "</div>"
      ],
      "text/plain": [
       "                               comapny  labels\n",
       "0                                Apple       0\n",
       "51                   Texas instruments       0\n",
       "50  Taiwan Semiconductor Manufacturing       0\n",
       "47                            Symantec       0\n",
       "36                    Northrop Grumman       0\n",
       "33                           Microsoft       0\n",
       "31                           McDonalds       0\n",
       "30                          MasterCard       0\n",
       "24                               Intel       0\n",
       "23                                 IBM       0\n",
       "22                                  HP       0\n",
       "17                     Google/Alphabet       0\n",
       "14                                Dell       0\n",
       "29                     Lookheed Martin       0\n",
       "4                               Boeing       0\n",
       "2                               Amazon       0\n",
       "11                               Cisco       0\n",
       "59                               Yahoo       0"
      ]
     },
     "execution_count": 7,
     "metadata": {},
     "output_type": "execute_result"
    }
   ],
   "source": [
    "# initialize\n",
    "agglom = AgglomerativeClustering(n_clusters = 4)\n",
    "\n",
    "# fit the model\n",
    "agglom.fit(x)\n",
    "\n",
    "# extract labels\n",
    "labels = agglom.labels_\n",
    "\n",
    "# create data frame\n",
    "df = pd.DataFrame({\"comapny\": companies, \"labels\": labels})\n",
    "\n",
    "# print sorted data frame\n",
    "df.sort_values(\"labels\").head(18)"
   ]
  },
  {
   "cell_type": "markdown",
   "metadata": {},
   "source": [
    "## 3.2 Recommendation Engines"
   ]
  },
  {
   "cell_type": "markdown",
   "metadata": {},
   "source": [
    "### 3.2.1 Cosine Similarity\n",
    "- Application: Cosine Similarity is used for content-based recommendations and collaborative filtering\n",
    "- Description: Cosine Similarity is a measure of similarity between two vectors projected in a multi-dimensional space, measuring the cosine of the angle between the two vectors\n",
    "- Functionality:\n",
    "    * Formula: $cosine$ $similarity$ $= cos(\\theta) = \\frac{A * B}{||A||||B||} = \\frac{\\sum_{i=1}^{N}A_iB_i}{\\sqrt{\\sum_{i=1}^{N}A_i^2} \\sqrt{\\sum_{i=1}^{N}B_i^2}}$\n",
    "    * Content-based recommendation: Recommends items that are similar in content to items the user has liked in the past. When creating the cosine similarity matrix, the features of each item represent the vectors between which the cosine of the angles is measured. The result is a item-item matrix with respective cosine similarity scores\n",
    "    * Collaborative filtering: Target user is recommended items based on past ratings of all users collectively. In this case, we create a user-item matrix, containing the users' ratings of each item in the cells. When creating the cosine similarity matrix, the ratings of each item represent the vectors between which the cosine of the angles is measured. The reult is a user-user matrix with respective cosine similarity scores. We then recommend items that the most similar users rated high and the target user hasn't consumed yet\n",
    "- Limitations: Cold start problem, referring to a situation in which we don't have any information on the user(s) yet"
   ]
  },
  {
   "cell_type": "code",
   "execution_count": 153,
   "metadata": {},
   "outputs": [],
   "source": [
    "from sklearn.metrics.pairwise import cosine_similarity"
   ]
  },
  {
   "cell_type": "markdown",
   "metadata": {},
   "source": [
    "#### Content-based Recommendation"
   ]
  },
  {
   "cell_type": "code",
   "execution_count": 205,
   "metadata": {},
   "outputs": [
    {
     "data": {
      "text/plain": [
       "['When the Night is Over',\n",
       " 'Beautiful',\n",
       " 'Nasty Girl (feat. Diddy, Nelly, Jagged Edge & Avery Storm) - 2005 Remaster',\n",
       " 'GANG GANG',\n",
       " 'Hide Away',\n",
       " 'Drinking Class',\n",
       " 'Fix You',\n",
       " \"She's Kinda Hot\",\n",
       " 'Insomnia',\n",
       " 'The Next Best American Record']"
      ]
     },
     "execution_count": 205,
     "metadata": {},
     "output_type": "execute_result"
    }
   ],
   "source": [
    "# load data\n",
    "music = pd.read_csv('00_Data/Music.csv', index_col = 'name')\n",
    "indices = pd.Series(music.index)\n",
    "feature_mtrx = music.iloc[:, 2:].values\n",
    "\n",
    "# calculate cosine similarity matrix\n",
    "cosine_sim = cosine_similarity(feature_mtrx, feature_mtrx)\n",
    "\n",
    "# create simple recommendation engine\n",
    "def reco_engine(song, cosine_sim):\n",
    "    recommended_songs = []\n",
    "    idx = indices[indices == song].index[0]\n",
    "    score_series = pd.Series(cosine_sim[idx]).sort_values(ascending = False)\n",
    "    top_10_indices = list(score_series.iloc[1:11].index)\n",
    "    for i in top_10_indices:\n",
    "        recommended_songs.append(list(music.index)[i])\n",
    "    return recommended_songs\n",
    "\n",
    "# run reco_engine\n",
    "reco_engine('Half Your Age', cosine_sim)    "
   ]
  },
  {
   "cell_type": "markdown",
   "metadata": {},
   "source": [
    "## 3.3 Neural Networks"
   ]
  },
  {
   "cell_type": "markdown",
   "metadata": {},
   "source": [
    "### 3.3.1 Autoencoder\n",
    "- Application: An autoencoder is used for dimension reduction, image processing, and anomaly detection\n",
    "- Description: An autoencoder is a neural network that learns to copy input to output by training a network that ignores noise\n",
    "- Functionality:\n",
    "    * An autoencoder has a hidden layer that describes a code used to represent the input and comprises two parts: Encoder mapping the input into the code, decoder mapping the code to a reconstruction of the original input\n",
    "    * Copying the input perfectly would just duplicate it, therefore autoencoders usually are restricted in ways that force them to reconstruct the input approximately, preserving only the most relevant aspects of the data\n",
    "    * Anomaly detection use case:\n",
    "        * We can either train the model on normal instances only, or on a dataset with low frequency of anomalies (since their contribution to the representation learnt by the model can be neglected)\n",
    "        * The model is encouraged to learn how to reproduce the most requent characteristics of observations\n",
    "        * When faced with anomalies, the reproduction performance of the model decreases\n",
    "        * After training, the model will be able to reconstruct normal data very well, while failing to do so with anomaly data\n",
    "        * In order to detect anomalies, we calculate the reconstruction error (anomaly scores) of a data point, representing the error between the original data point and its reconstruction by the model\n",
    "- Limitations: An autoencode is not able to identify which information is relevant because it learns to capture as much information as possible rather than as much relevant information as possible"
   ]
  },
  {
   "cell_type": "code",
   "execution_count": 213,
   "metadata": {},
   "outputs": [],
   "source": [
    "from pyod.utils.data import generate_data\n",
    "from pyod.models.auto_encoder import AutoEncoder"
   ]
  },
  {
   "cell_type": "code",
   "execution_count": 228,
   "metadata": {},
   "outputs": [
    {
     "name": "stdout",
     "output_type": "stream",
     "text": [
      "Model: \"sequential_7\"\n",
      "_________________________________________________________________\n",
      "Layer (type)                 Output Shape              Param #   \n",
      "=================================================================\n",
      "dense_43 (Dense)             (None, 10)                110       \n",
      "_________________________________________________________________\n",
      "dropout_37 (Dropout)         (None, 10)                0         \n",
      "_________________________________________________________________\n",
      "dense_44 (Dense)             (None, 10)                110       \n",
      "_________________________________________________________________\n",
      "dropout_38 (Dropout)         (None, 10)                0         \n",
      "_________________________________________________________________\n",
      "dense_45 (Dense)             (None, 25)                275       \n",
      "_________________________________________________________________\n",
      "dropout_39 (Dropout)         (None, 25)                0         \n",
      "_________________________________________________________________\n",
      "dense_46 (Dense)             (None, 2)                 52        \n",
      "_________________________________________________________________\n",
      "dropout_40 (Dropout)         (None, 2)                 0         \n",
      "_________________________________________________________________\n",
      "dense_47 (Dense)             (None, 2)                 6         \n",
      "_________________________________________________________________\n",
      "dropout_41 (Dropout)         (None, 2)                 0         \n",
      "_________________________________________________________________\n",
      "dense_48 (Dense)             (None, 25)                75        \n",
      "_________________________________________________________________\n",
      "dropout_42 (Dropout)         (None, 25)                0         \n",
      "_________________________________________________________________\n",
      "dense_49 (Dense)             (None, 10)                260       \n",
      "=================================================================\n",
      "Total params: 888\n",
      "Trainable params: 888\n",
      "Non-trainable params: 0\n",
      "_________________________________________________________________\n",
      "None\n",
      "Train on 450 samples, validate on 50 samples\n",
      "Epoch 1/100\n",
      "450/450 [==============================] - 1s 1ms/step - loss: 33.6957 - val_loss: 18.4818\n",
      "Epoch 2/100\n",
      "450/450 [==============================] - 0s 124us/step - loss: 29.6048 - val_loss: 16.8175\n",
      "Epoch 3/100\n",
      "450/450 [==============================] - 0s 128us/step - loss: 26.3596 - val_loss: 15.4565\n",
      "Epoch 4/100\n",
      "450/450 [==============================] - 0s 98us/step - loss: 23.7425 - val_loss: 14.2650\n",
      "Epoch 5/100\n",
      "450/450 [==============================] - 0s 92us/step - loss: 21.5670 - val_loss: 13.2022\n",
      "Epoch 6/100\n",
      "450/450 [==============================] - 0s 93us/step - loss: 19.3850 - val_loss: 12.2702\n",
      "Epoch 7/100\n",
      "450/450 [==============================] - 0s 127us/step - loss: 17.9378 - val_loss: 11.4207\n",
      "Epoch 8/100\n",
      "450/450 [==============================] - 0s 81us/step - loss: 16.4340 - val_loss: 10.6524\n",
      "Epoch 9/100\n",
      "450/450 [==============================] - 0s 84us/step - loss: 15.2760 - val_loss: 9.9475\n",
      "Epoch 10/100\n",
      "450/450 [==============================] - 0s 110us/step - loss: 14.1042 - val_loss: 9.3130\n",
      "Epoch 11/100\n",
      "450/450 [==============================] - 0s 97us/step - loss: 13.0239 - val_loss: 8.7301\n",
      "Epoch 12/100\n",
      "450/450 [==============================] - 0s 89us/step - loss: 12.1519 - val_loss: 8.2024\n",
      "Epoch 13/100\n",
      "450/450 [==============================] - 0s 92us/step - loss: 11.3428 - val_loss: 7.7271\n",
      "Epoch 14/100\n",
      "450/450 [==============================] - 0s 114us/step - loss: 10.6414 - val_loss: 7.2907\n",
      "Epoch 15/100\n",
      "450/450 [==============================] - 0s 85us/step - loss: 9.9451 - val_loss: 6.9008\n",
      "Epoch 16/100\n",
      "450/450 [==============================] - 0s 96us/step - loss: 9.4701 - val_loss: 6.5456\n",
      "Epoch 17/100\n",
      "450/450 [==============================] - 0s 133us/step - loss: 8.9943 - val_loss: 6.2241\n",
      "Epoch 18/100\n",
      "450/450 [==============================] - 0s 106us/step - loss: 8.4466 - val_loss: 5.9402\n",
      "Epoch 19/100\n",
      "450/450 [==============================] - 0s 106us/step - loss: 8.0837 - val_loss: 5.6778\n",
      "Epoch 20/100\n",
      "450/450 [==============================] - 0s 206us/step - loss: 7.7101 - val_loss: 5.4355\n",
      "Epoch 21/100\n",
      "450/450 [==============================] - 0s 232us/step - loss: 7.3811 - val_loss: 5.2154\n",
      "Epoch 22/100\n",
      "450/450 [==============================] - 0s 238us/step - loss: 7.1091 - val_loss: 5.0166\n",
      "Epoch 23/100\n",
      "450/450 [==============================] - 0s 159us/step - loss: 6.7423 - val_loss: 4.8323\n",
      "Epoch 24/100\n",
      "450/450 [==============================] - 0s 179us/step - loss: 6.4286 - val_loss: 4.6605\n",
      "Epoch 25/100\n",
      "450/450 [==============================] - 0s 185us/step - loss: 6.2309 - val_loss: 4.5012\n",
      "Epoch 26/100\n",
      "450/450 [==============================] - 0s 181us/step - loss: 6.0430 - val_loss: 4.3561\n",
      "Epoch 27/100\n",
      "450/450 [==============================] - 0s 157us/step - loss: 5.8525 - val_loss: 4.2178\n",
      "Epoch 28/100\n",
      "450/450 [==============================] - 0s 199us/step - loss: 5.6411 - val_loss: 4.0902\n",
      "Epoch 29/100\n",
      "450/450 [==============================] - 0s 165us/step - loss: 5.4713 - val_loss: 3.9702\n",
      "Epoch 30/100\n",
      "450/450 [==============================] - 0s 184us/step - loss: 5.2682 - val_loss: 3.8589\n",
      "Epoch 31/100\n",
      "450/450 [==============================] - 0s 110us/step - loss: 5.1439 - val_loss: 3.7542\n",
      "Epoch 32/100\n",
      "450/450 [==============================] - 0s 86us/step - loss: 4.9961 - val_loss: 3.6570\n",
      "Epoch 33/100\n",
      "450/450 [==============================] - 0s 173us/step - loss: 4.8121 - val_loss: 3.5648\n",
      "Epoch 34/100\n",
      "450/450 [==============================] - 0s 96us/step - loss: 4.7830 - val_loss: 3.4777\n",
      "Epoch 35/100\n",
      "450/450 [==============================] - 0s 96us/step - loss: 4.6142 - val_loss: 3.3968\n",
      "Epoch 36/100\n",
      "450/450 [==============================] - 0s 86us/step - loss: 4.5217 - val_loss: 3.3188\n",
      "Epoch 37/100\n",
      "450/450 [==============================] - 0s 159us/step - loss: 4.3510 - val_loss: 3.2457\n",
      "Epoch 38/100\n",
      "450/450 [==============================] - 0s 87us/step - loss: 4.3046 - val_loss: 3.1772\n",
      "Epoch 39/100\n",
      "450/450 [==============================] - 0s 90us/step - loss: 4.1914 - val_loss: 3.1118\n",
      "Epoch 40/100\n",
      "450/450 [==============================] - 0s 125us/step - loss: 4.0967 - val_loss: 3.0486\n",
      "Epoch 41/100\n",
      "450/450 [==============================] - 0s 105us/step - loss: 3.9875 - val_loss: 2.9902\n",
      "Epoch 42/100\n",
      "450/450 [==============================] - 0s 85us/step - loss: 3.9303 - val_loss: 2.9342\n",
      "Epoch 43/100\n",
      "450/450 [==============================] - 0s 116us/step - loss: 3.8579 - val_loss: 2.8805\n",
      "Epoch 44/100\n",
      "450/450 [==============================] - 0s 119us/step - loss: 3.7905 - val_loss: 2.8298\n",
      "Epoch 45/100\n",
      "450/450 [==============================] - 0s 90us/step - loss: 3.7154 - val_loss: 2.7811\n",
      "Epoch 46/100\n",
      "450/450 [==============================] - 0s 88us/step - loss: 3.6732 - val_loss: 2.7338\n",
      "Epoch 47/100\n",
      "450/450 [==============================] - 0s 152us/step - loss: 3.5597 - val_loss: 2.6889\n",
      "Epoch 48/100\n",
      "450/450 [==============================] - 0s 87us/step - loss: 3.5255 - val_loss: 2.6465\n",
      "Epoch 49/100\n",
      "450/450 [==============================] - 0s 90us/step - loss: 3.4711 - val_loss: 2.6066\n",
      "Epoch 50/100\n",
      "450/450 [==============================] - 0s 139us/step - loss: 3.4257 - val_loss: 2.5670\n",
      "Epoch 51/100\n",
      "450/450 [==============================] - 0s 85us/step - loss: 3.3811 - val_loss: 2.5293\n",
      "Epoch 52/100\n",
      "450/450 [==============================] - 0s 84us/step - loss: 3.3131 - val_loss: 2.4938\n",
      "Epoch 53/100\n",
      "450/450 [==============================] - 0s 108us/step - loss: 3.3034 - val_loss: 2.4586\n",
      "Epoch 54/100\n",
      "450/450 [==============================] - 0s 121us/step - loss: 3.2251 - val_loss: 2.4256\n",
      "Epoch 55/100\n",
      "450/450 [==============================] - 0s 86us/step - loss: 3.2078 - val_loss: 2.3934\n",
      "Epoch 56/100\n",
      "450/450 [==============================] - 0s 87us/step - loss: 3.1475 - val_loss: 2.3626\n",
      "Epoch 57/100\n",
      "450/450 [==============================] - 0s 150us/step - loss: 3.1089 - val_loss: 2.3329\n",
      "Epoch 58/100\n",
      "450/450 [==============================] - 0s 84us/step - loss: 3.0700 - val_loss: 2.3041\n",
      "Epoch 59/100\n",
      "450/450 [==============================] - 0s 87us/step - loss: 3.0315 - val_loss: 2.2768\n",
      "Epoch 60/100\n",
      "450/450 [==============================] - 0s 118us/step - loss: 2.9794 - val_loss: 2.2504\n",
      "Epoch 61/100\n",
      "450/450 [==============================] - 0s 109us/step - loss: 2.9357 - val_loss: 2.2250\n",
      "Epoch 62/100\n",
      "450/450 [==============================] - 0s 85us/step - loss: 2.9239 - val_loss: 2.1999\n",
      "Epoch 63/100\n",
      "450/450 [==============================] - 0s 93us/step - loss: 2.8981 - val_loss: 2.1760\n",
      "Epoch 64/100\n",
      "450/450 [==============================] - 0s 143us/step - loss: 2.8635 - val_loss: 2.1527\n",
      "Epoch 65/100\n",
      "450/450 [==============================] - 0s 85us/step - loss: 2.8202 - val_loss: 2.1301\n",
      "Epoch 66/100\n",
      "450/450 [==============================] - 0s 86us/step - loss: 2.7881 - val_loss: 2.1084\n",
      "Epoch 67/100\n",
      "450/450 [==============================] - 0s 144us/step - loss: 2.8043 - val_loss: 2.0871\n",
      "Epoch 68/100\n",
      "450/450 [==============================] - 0s 91us/step - loss: 2.7415 - val_loss: 2.0665\n",
      "Epoch 69/100\n",
      "450/450 [==============================] - 0s 93us/step - loss: 2.7173 - val_loss: 2.0465\n",
      "Epoch 70/100\n",
      "450/450 [==============================] - 0s 97us/step - loss: 2.7252 - val_loss: 2.0272\n",
      "Epoch 71/100\n",
      "450/450 [==============================] - 0s 152us/step - loss: 2.6900 - val_loss: 2.0084\n",
      "Epoch 72/100\n",
      "450/450 [==============================] - 0s 88us/step - loss: 2.6330 - val_loss: 1.9898\n",
      "Epoch 73/100\n",
      "450/450 [==============================] - 0s 85us/step - loss: 2.6428 - val_loss: 1.9719\n",
      "Epoch 74/100\n",
      "450/450 [==============================] - 0s 124us/step - loss: 2.5968 - val_loss: 1.9547\n",
      "Epoch 75/100\n",
      "450/450 [==============================] - ETA: 0s - loss: 2.718 - 0s 126us/step - loss: 2.5938 - val_loss: 1.9378\n",
      "Epoch 76/100\n",
      "450/450 [==============================] - 0s 90us/step - loss: 2.5557 - val_loss: 1.9211\n",
      "Epoch 77/100\n",
      "450/450 [==============================] - 0s 91us/step - loss: 2.5215 - val_loss: 1.9053\n",
      "Epoch 78/100\n",
      "450/450 [==============================] - 0s 157us/step - loss: 2.5371 - val_loss: 1.8895\n",
      "Epoch 79/100\n",
      "450/450 [==============================] - 0s 84us/step - loss: 2.5166 - val_loss: 1.8741\n",
      "Epoch 80/100\n",
      "450/450 [==============================] - 0s 92us/step - loss: 2.5269 - val_loss: 1.8592\n",
      "Epoch 81/100\n",
      "450/450 [==============================] - 0s 120us/step - loss: 2.4562 - val_loss: 1.8443\n",
      "Epoch 82/100\n",
      "450/450 [==============================] - 0s 113us/step - loss: 2.4609 - val_loss: 1.8299\n",
      "Epoch 83/100\n",
      "450/450 [==============================] - 0s 86us/step - loss: 2.4179 - val_loss: 1.8160\n",
      "Epoch 84/100\n",
      "450/450 [==============================] - 0s 86us/step - loss: 2.3782 - val_loss: 1.8025\n",
      "Epoch 85/100\n",
      "450/450 [==============================] - 0s 139us/step - loss: 2.3834 - val_loss: 1.7892\n",
      "Epoch 86/100\n",
      "450/450 [==============================] - 0s 96us/step - loss: 2.3929 - val_loss: 1.7763\n",
      "Epoch 87/100\n",
      "450/450 [==============================] - 0s 85us/step - loss: 2.3825 - val_loss: 1.7636\n",
      "Epoch 88/100\n",
      "450/450 [==============================] - 0s 107us/step - loss: 2.3616 - val_loss: 1.7511\n",
      "Epoch 89/100\n",
      "450/450 [==============================] - 0s 119us/step - loss: 2.3244 - val_loss: 1.7389\n",
      "Epoch 90/100\n",
      "450/450 [==============================] - 0s 91us/step - loss: 2.3080 - val_loss: 1.7267\n",
      "Epoch 91/100\n",
      "450/450 [==============================] - 0s 87us/step - loss: 2.2871 - val_loss: 1.7150\n",
      "Epoch 92/100\n",
      "450/450 [==============================] - 0s 140us/step - loss: 2.2755 - val_loss: 1.7035\n",
      "Epoch 93/100\n",
      "450/450 [==============================] - 0s 93us/step - loss: 2.2649 - val_loss: 1.6923\n",
      "Epoch 94/100\n",
      "450/450 [==============================] - 0s 86us/step - loss: 2.2718 - val_loss: 1.6813\n",
      "Epoch 95/100\n",
      "450/450 [==============================] - 0s 141us/step - loss: 2.2415 - val_loss: 1.6705\n",
      "Epoch 96/100\n",
      "450/450 [==============================] - 0s 93us/step - loss: 2.2114 - val_loss: 1.6599\n",
      "Epoch 97/100\n",
      "450/450 [==============================] - 0s 84us/step - loss: 2.2156 - val_loss: 1.6494\n",
      "Epoch 98/100\n",
      "450/450 [==============================] - 0s 88us/step - loss: 2.1961 - val_loss: 1.6393\n",
      "Epoch 99/100\n",
      "450/450 [==============================] - 0s 149us/step - loss: 2.2083 - val_loss: 1.6292\n",
      "Epoch 100/100\n",
      "450/450 [==============================] - 0s 95us/step - loss: 2.1886 - val_loss: 1.6193\n"
     ]
    },
    {
     "data": {
      "image/png": "[encoded data removed]",
      "text/plain": [
       "<Figure size 432x288 with 1 Axes>"
      ]
     },
     "metadata": {
      "needs_background": "light"
     },
     "output_type": "display_data"
    }
   ],
   "source": [
    "# create data\n",
    "noise = 0.1\n",
    "n_train = 500\n",
    "n_test = 500\n",
    "n_features = 10\n",
    "X_train, y_train, X_test, y_test = generate_data(n_train = n_train, n_test = n_test, n_features = n_features, contamination= noise)\n",
    "X_train = pd.DataFrame(X_train)\n",
    "X_test = pd.DataFrame(X_test)\n",
    "\n",
    "# initialize autoencoder (input and output layer has 25 neurons each, there are two hidden layers with each two neurons)\n",
    "ae = AutoEncoder(hidden_neurons = [25, 2, 2, 25])\n",
    "\n",
    "# fit autoencoder\n",
    "ae.fit(X_train)\n",
    "\n",
    "# find outliers in train data\n",
    "anomaly_Scores_train = ae.decision_scores_\n",
    "\n",
    "# apply trained model to predict anomaly score for each observation in test data (high socres relate to low frequence, hence outliers)\n",
    "anomaly_scores_test = ae.decision_function(X_test)\n",
    "anomaly_scores_test = pd.Series(anomaly_scores_test)\n",
    "\n",
    "# plot the result\n",
    "plt.hist(anomaly_scores_test, bins = 'auto')\n",
    "plt.title(\"Histogram for Anomaly Scores\")\n",
    "plt.show()"
   ]
  },
  {
   "cell_type": "markdown",
   "metadata": {},
   "source": [
    "## 3.4 Copulas\n",
    "- Application: Copulas are used to investigate the dependence between variables and can also be used for quantile regressions to i.e. detect anomalies\n",
    "- Description: Copulas are joint distribution functions of uniformly distributed random variables\n",
    "- Functionality:\n",
    "    * Looking at a x/y-plot is not advisable to evaluate whether two variables are dependent\n",
    "    * Further, to evaluate the dependance of two variables, we should not evaluate their moments (like the Pearson correlation coefficient $\\rho(x,y) = \\frac{cov(x,y)}{\\sqrt{v(x)v(y)}}$), but rather evaluate their bivariate distribution\n",
    "    * However, the bivariate distribution contains information about both dependence and about marginal distribution, which we have to separate using copulas\n",
    "    * Now, let $X$ ~ $F_X$, $Y$ ~ $F_Y$ and {$X, Y$} ~ $F_{X, Y}$, where $X$ and $Y$ are random variables and $F$ is the cummulative distribution (CDF)\n",
    "        * We start by removing the influence of marginal distributions from the joint distribtuion, plugging in the random variable itself into the CDF to get a uniform distribtion: $F_X(X)$~$Unif(0,1)$\n",
    "        * Next, check the display of $F_{U_X, U_Y}(u_x, u_y)$\n",
    "        * This display represents the copula and can have different shapes, i.e. Gaussian, Frank, Clayton, Gumbel\n",
    "        * The advantage this approach is that we can now transform the uniform data back into any distribution by choosing the right inverse CDF\n",
    "    * **Empirical copula**: Calculated by $\\frac{rank(x)}{nSample}$ it allows one to quickly see if there is any dependence between the variables and also which type the copula is\n",
    "    * **Qantile regression**:\n",
    "        * We first need to find the type of the copula that is most suitable for the underlying data\n",
    "        * In order to do so, we plot the empirical copula\n",
    "        * Based on the plot of the empirical copula, we initiate a copula for the most suitable type (i.e. Gaussian, Frank) and then fit it using our data\n",
    "        * Depending on the type of the copula, there are different functions to fit a quantile regression that is used to give quantiles of level $\\alpha$ of conditional distributions (output value given a defined $\\alpha$)\n",
    "        * When setting $\\alpha$ to a large or small value, we can detect anomalies by filtering for all observations that are larger/smaller than $\\alpha$\n",
    "        * We then need to transform the uniformly distributed values back into their original distributions using the respective inverse CDF"
   ]
  },
  {
   "cell_type": "code",
   "execution_count": 49,
   "metadata": {},
   "outputs": [
    {
     "data": {
      "image/png": "[encoded data removed]",
      "text/plain": [
       "<Figure size 432x288 with 1 Axes>"
      ]
     },
     "metadata": {
      "needs_background": "light"
     },
     "output_type": "display_data"
    },
    {
     "name": "stdout",
     "output_type": "stream",
     "text": [
      "Type of empirical copula is Frank.\n"
     ]
    }
   ],
   "source": [
    "# load data\n",
    "data = pd.read_csv('00_Data/Copula.csv', index_col = 0)\n",
    "\n",
    "# create and plot empirical copula\n",
    "x_rank = data.x_sample.rank()/len(data.x_sample)\n",
    "y_rank = data.y_sample.rank()/len(data.y_sample)\n",
    "plt.scatter(x_rank, y_rank)\n",
    "plt.show()\n",
    "print('Type of empirical copula is Frank.')"
   ]
  },
  {
   "cell_type": "markdown",
   "metadata": {},
   "source": [
    "# 4 Supervised Learning\n",
    "This section presents several supervised learning algorithms in the following way:\n",
    "- Application: When should this algorithm be used?\n",
    "- Description: What does this algorithm do (high-level)?\n",
    "- Functionality: How does this algorithm work (drill-down)?\n",
    "- Limitations: What does one have to keep in mind when using this algorithm?\n",
    "- Example: How is this algorithm applied?"
   ]
  },
  {
   "cell_type": "markdown",
   "metadata": {},
   "source": [
    "## 4.1 Linear Regression\n",
    "- Application: Linear Regression is used to quanify the strength of the linear relationship between a target and explanatory variables and based on this relationship predict the target variable.\n",
    "- Description: Linear Regression is a linear approach to model the relationship between a scalar target variable and one or more explanatory variables applying i.e. least squares minimization.\n",
    "- Functionality:\n",
    "    * We can think of a Linear Regression as an orthogonal projection of the target variable $(\\vec{y})$ onto the $span($$\\vec{1}$, $\\vec{x}$$)$\n",
    "    * The equation for a Linear Regression is: $y$ = $\\beta_{\\,0}$ + $\\beta_{\\,1}$$x_{\\,1}$ + ... + $\\beta_{\\,n}$$x_{\\,n}$ + $\\epsilon$\n",
    "    * Our goal is to minimize the following adjusted form of the above equation (least squares minimization): $||$ $\\vec{y}$ - ($\\vec{\\beta}_{\\,0}$*$\\vec{1}$ + $\\vec{\\beta}_{\\,1}$*$\\vec{x}_{\\,1}$ + ... + $\\vec{\\beta}_{\\,n}$$\\vec{x}_{\\,n}$) $||^{\\,2}$; representing the minimization of the sum of squared residuals\n",
    "    * In order to minimize this equation, we optimize $\\vec{\\beta}$ to find a linear combination of $\\vec{1}$ and $\\vec{x}$ that is as close to our target variable $\\vec{y}$ as possible\n",
    "    * We achieve this by projecting $\\vec{y}$ onto the $span($$\\vec{1}$, $\\vec{x}$$)$, representing our predicted values\n",
    "    * The residuals of the model are the differences between the actual values and the predicted values\n",
    "    * $\\vec{\\beta}$ are unbiased parameters, meaning that if we were to sample a huge number of data points we would estimate the parameters of the true regression line\n",
    "    * To determine whether there is a relationship between $y$ and $x$, we test the H0 that the parameters are equal to $0$ (one predictor: reject for p-value < 0.05, multiple predictors: reject for F-statistic > 1)\n",
    "    * Interaction effect: Changing the value of one predictor effects the values of the other predictors; if this is the case, we have to include an interaction term in the model\n",
    "    * Polynomial regression: Transform the predictors i.e. with polynomials to better achieve a better accuracy\n",
    "    * Key assumptions: Linearity between $y$ and $x$, uncorrelated error terms, no pattern in residuals (normal distribution), homoscedasticity (constant variance of residuals), no (multi-)collinearity (independence of predictors, can be detected with Variance Inflation Factor)\n",
    "- Limitations: It is very sensitive to outliers\n",
    "- Note: If $y$ is not normally distributed, we need to fit Generalized Linear Models (i.e. $y$ ~ $Binom$, $y$ ~ $Pois$, $y$ ~ $Gamma$), which are estimated with the Maximum Likelihood function and have different links connecting the linear predictor and the expectation of the output (i.e. logit, probit, complementary log-log)"
   ]
  },
  {
   "cell_type": "code",
   "execution_count": 138,
   "metadata": {},
   "outputs": [],
   "source": [
    "from sklearn.datasets import load_boston\n",
    "from sklearn.linear_model import LinearRegression"
   ]
  },
  {
   "cell_type": "code",
   "execution_count": 139,
   "metadata": {},
   "outputs": [
    {
     "name": "stdout",
     "output_type": "stream",
     "text": [
      "The betas for the model are: [-0.13  0.08 -0.25 -0.04]\n",
      "The interception for the model is: 26.49\n",
      "Prediction: 22.75 vs. Actual: 22.00\n"
     ]
    }
   ],
   "source": [
    "# load data\n",
    "boston = load_boston()\n",
    "features = pd.DataFrame(boston[\"data\"], columns = boston[\"feature_names\"])\n",
    "y = boston[\"target\"]\n",
    "y = y[:505]\n",
    "y_holdout = y[504:]\n",
    "x = features[[\"RAD\", \"ZN\", \"CRIM\", \"AGE\"]].values\n",
    "x = x[:505]\n",
    "x_holdout = x[504:]\n",
    "\n",
    "# fit regression model\n",
    "reg = LinearRegression().fit(x, y)\n",
    "\n",
    "# predict\n",
    "prediction = reg.predict(x_holdout) \n",
    "\n",
    "# print results\n",
    "print(\"The betas for the model are: {}\".format(np.around(reg.coef_, decimals = 2)))\n",
    "print(\"The interception for the model is: {}\".format(np.around(reg.intercept_, decimals = 2)))\n",
    "print(\"Prediction: {:.2f} vs. Actual: {:.2f}\".format(prediction[0], y_holdout[0]))"
   ]
  },
  {
   "cell_type": "markdown",
   "metadata": {},
   "source": [
    "## 4.2 Ridge and Lasso Regression\n",
    "- Application: Ridge and Lasso Regression are applied to fit a linear regression given a large number of predictors with questionable effect on the model's accuracy (feature selection), especially if $p > n$, where $n$ - number of observations, $p$ - number of predictors\n",
    "- Description: Ridge and Lasso Regression are techniques that regularize the coefficients of the regression, or respectively shrink them to zero in order to reduce varaince of the model\n",
    "- Functionality:\n",
    "    * Ridge:\n",
    "        * Ridge coefficients mimizize: $\\sum_{i=1}^{n} (y_i - \\beta_0 - \\sum_{j=1}^{p}\\beta_jx_{ij})^2 + \\lambda \\sum_{j=1}^{p}\\beta_j^2$\n",
    "        * The tuning parameter $\\lambda$ shrinks every dimension of the data by the same proportion\n",
    "        * The final model will still have all predictors, but the effect of predictors with small coefficients will move towards zero\n",
    "        * As the tuning parameter $\\lambda$ increases, the flexibility of the model fit decreases, leading to reduced variance and higher bias\n",
    "        * Ridge regression works best if the linear regression has high variance\n",
    "    * Lasso:\n",
    "        * Lasso coefficients mimizize: $\\sum_{i=1}^{n} (y_i - \\beta_0 - \\sum_{j=1}^{p}\\beta_jx_{ij})^2 + \\lambda \\sum_{j=1}^{p}|\\beta_j|$\n",
    "        * The tuning parameter $\\lambda$ shrinks all coefficients toward zero by the same amount \n",
    "        * The adjusted form of the shrinkage penalty has the effect of forcing some of the coefficients to be exactly equal to zero when the tuning parameter $\\lambda$ is sufficiently large\n",
    "        * Hence, Lasso actually performs feautre selection\n",
    "    * Since the shrinkage penelty does not only impact the $\\beta$ but also the value predictor, all predictors should be standardized before fitting a Ridge or Lasso regression\n",
    "    * The best value for $\\lambda$ is found with cross validation\n",
    "    * Lasso and Ridge are generally less flexible than linear regression\n",
    "- Limitations: Lasso produces simpler results and more interpretable models that only involve a subset of the predictors than Ridge"
   ]
  },
  {
   "cell_type": "markdown",
   "metadata": {},
   "source": [
    "#### Ridge"
   ]
  },
  {
   "cell_type": "code",
   "execution_count": 103,
   "metadata": {},
   "outputs": [],
   "source": [
    "from sklearn.datasets import load_boston\n",
    "from sklearn import linear_model"
   ]
  },
  {
   "cell_type": "code",
   "execution_count": 141,
   "metadata": {},
   "outputs": [
    {
     "name": "stdout",
     "output_type": "stream",
     "text": [
      "The betas for the model are: [-1.100e-01  5.000e-02  1.000e-02  2.630e+00 -1.545e+01  3.790e+00\n",
      " -0.000e+00 -1.460e+00  3.000e-01 -1.000e-02 -9.000e-01  1.000e-02\n",
      " -5.300e-01]\n",
      "The interception for the model is: 34.81\n",
      "Prediction: 26.43 vs. Actual: 22.00\n"
     ]
    }
   ],
   "source": [
    "boston = load_boston()\n",
    "features = pd.DataFrame(boston[\"data\"], columns = boston[\"feature_names\"])\n",
    "y = boston[\"target\"]\n",
    "y = y[:505]\n",
    "y_holdout = y[504:]\n",
    "x = features.values\n",
    "x = x[:505]\n",
    "x_holdout = x[504:]\n",
    "\n",
    "# initialize and fit model\n",
    "ridge = linear_model.Ridge(alpha=0.2).fit(x, y)\n",
    "\n",
    "# predict\n",
    "prediction = ridge.predict(x_holdout) \n",
    "\n",
    "# print results\n",
    "print(\"The betas for the model are: {}\".format(np.around(ridge.coef_, decimals = 2)))\n",
    "print(\"The interception for the model is: {}\".format(np.around(ridge.intercept_, decimals = 2)))\n",
    "print(\"Prediction: {:.2f} vs. Actual: {:.2f}\".format(prediction[0], y_holdout[0]))"
   ]
  },
  {
   "cell_type": "markdown",
   "metadata": {},
   "source": [
    "#### Lasso"
   ]
  },
  {
   "cell_type": "code",
   "execution_count": 107,
   "metadata": {},
   "outputs": [],
   "source": [
    "from sklearn.datasets import load_boston\n",
    "from sklearn import linear_model"
   ]
  },
  {
   "cell_type": "code",
   "execution_count": 137,
   "metadata": {},
   "outputs": [
    {
     "name": "stdout",
     "output_type": "stream",
     "text": [
      "The betas for the model are: [-0.09  0.05 -0.02  0.   -0.    3.37 -0.   -1.13  0.28 -0.02 -0.75  0.01\n",
      " -0.6 ]\n",
      "The interception for the model is: 27.46\n",
      "Prediction: 27.39 vs. Actual: 22.00\n"
     ]
    }
   ],
   "source": [
    "boston = load_boston()\n",
    "features = pd.DataFrame(boston[\"data\"], columns = boston[\"feature_names\"])\n",
    "y = boston[\"target\"]\n",
    "y = y[:505]\n",
    "y_holdout = y[504:]\n",
    "x = features.values\n",
    "x = x[:505]\n",
    "x_holdout = x[504:]\n",
    "\n",
    "# initialize and fit model\n",
    "lasso = linear_model.Lasso(alpha=0.2).fit(x, y)\n",
    "\n",
    "# predict\n",
    "prediction = lasso.predict(x_holdout) \n",
    "\n",
    "# print results\n",
    "print(\"The betas for the model are: {}\".format(np.around(lasso.coef_, decimals = 2)))\n",
    "print(\"The interception for the model is: {}\".format(np.around(lasso.intercept_, decimals = 2)))\n",
    "print(\"Prediction: {:.2f} vs. Actual: {:.2f}\".format(prediction[0], y_holdout[0]))"
   ]
  },
  {
   "cell_type": "markdown",
   "metadata": {},
   "source": [
    "## 4.3 Logistic Regression\n",
    "- Application: Logistic Regression is used to model the probabilities for a binary target variable/event/class.\n",
    "- Description: Logistic Regression is a non-linear classification model that is expressed as a linear model. It models probabilities for a binary target variable based on many more explanatory variables from different domains (categorical and/or continuous variable).\n",
    "- Functionality:\n",
    "    * If we'd use a linear regression to model this relationship it would look like this: $p(x) = \\beta_0 + \\beta_1x_1$; the problem with this equation is that the predicted probabilities don't fall between 0 and 1\n",
    "    * In order to avoid this problem, we can apply different transformations such as the logistic function: $p(x) = {\\frac{exp(\\beta_0 + \\beta_1x_1)}{1 + exp(\\beta_0 + \\beta_1x_1)}}$\n",
    "    * After manipulating this new function we find that: $(\\frac{p}{1-p}) = exp(\\beta_0 + \\beta_1x_1)$\n",
    "    * $(\\frac{p}{1-p})$ is called the odds of the odds of the event $Y=1$ to happen\n",
    "    * If we want to bound this value between 0 and 1, we can again apply different transformations such as the logistic function: $ln(\\frac{p}{1-p}) = \\beta_0 + \\beta_1x_1$\n",
    "    * This is called $log$ $odds$ or $logit$ and shows that the logistic regression has a logit that is linear in $x$: We consider a linear model with a target and multiple explanatory variables and assume a linear relationship between the explanatory variables and the $log(odds)$ of the event $Y=1$: \n",
    "    * In order to transform the  $log$ $odds$ to the function for the probabilities, we have to apply the Sigmoid Function (inverse of the logit function)\n",
    "    * Increaseing $x$ by one unit changes the $log$ $odds$ by $\\beta_1$, or equivalently it multiplies the $odds$ by $exp(\\beta_1)$\n",
    "    * Logistic Regression fits a linear decision boundary; regression coefficients are estimated using the Maximum Likelihood Method\n",
    "- Limitations: Logistic Regression can only predict a categorical outcome and cannot solve non-linear problems because it's decision surface is linear"
   ]
  },
  {
   "cell_type": "code",
   "execution_count": 130,
   "metadata": {},
   "outputs": [],
   "source": [
    "from sklearn.datasets import load_iris\n",
    "from sklearn.linear_model import LogisticRegression"
   ]
  },
  {
   "cell_type": "code",
   "execution_count": 151,
   "metadata": {},
   "outputs": [
    {
     "name": "stdout",
     "output_type": "stream",
     "text": [
      "The betas for the model are: [[-0.41021713 -1.46416217  2.26003266  1.02103509]]\n",
      "The interception for the model is: [-0.26421853]\n",
      "The probability for data point with feature values: 5.1, 3.5, 1.4, 0.2 to belong to category 0 is 0.98\n"
     ]
    }
   ],
   "source": [
    "# load data\n",
    "iris = load_iris()\n",
    "iris = pd.concat([pd.DataFrame(iris['data'], columns = [\"SepalLengthCm\", \"SepalWidthCm\", \"PetalLengthCm\", \"PetalWidthCm\"]), pd.DataFrame(iris['target'], columns = ['Species'])],\n",
    "                axis = 1)\n",
    "\n",
    "# make binary classification\n",
    "iris[\"Classification\"] = np.where(iris[\"Species\"] == 0, 0, 1)\n",
    "\n",
    "# create arrays\n",
    "y = iris['Classification']\n",
    "x = iris[[\"SepalLengthCm\", \"SepalWidthCm\", \"PetalLengthCm\", \"PetalWidthCm\"]].values\n",
    "\n",
    "# initialize model\n",
    "reg = LogisticRegression()\n",
    "\n",
    "# fit model\n",
    "reg.fit(x, y)\n",
    "\n",
    "# predict probabilities\n",
    "proba = reg.predict_proba([[5.1,3.5,1.4,.2]])\n",
    "\n",
    "# print results\n",
    "print(\"The betas for the model are: {}\".format(reg.coef_))\n",
    "print(\"The interception for the model is: {}\".format(reg.intercept_))\n",
    "print(\"The probability for data point with feature values: 5.1, 3.5, 1.4, 0.2 to belong to category 0 is {:.2f}\".format(proba[0][0]))"
   ]
  },
  {
   "cell_type": "markdown",
   "metadata": {},
   "source": [
    "## 4.4 K-Nearest Neighbors\n",
    "- Application: K-Nearest Neighbors (KNN) is used for classification or regression\n",
    "- Description: KNN identifies the k nearest points in the data and estimates the target based on the labels of this set of k nearest points\n",
    "- Functionality:\n",
    "    * First, we have to define k, the number of neighbors we are looking for; this number is usually small and depends on the bias-variance-tradeoff (small k high low bias and high variance and vice versa)\n",
    "    * There are different methods to calculate the distance to the k nearest neighbors (i.e. euclidean, manhattan), selecting the right method is important\n",
    "    * For classification: The target is classified by a plurality vote of the k nearest neighbors. The class is determined by the most common class among the k nearest neighbors. If $k = 1$, then the object is simply assigned to the class of that single nearest neighbor\n",
    "    * For regression: The target is estimated simply by the average of the values of the k nearest neighbors\n",
    "    * It is common to assign weights to the contributions of the neighbors in order for nearer neighbors to contribute more to the target than the more distant ones\n",
    "- Limitations: KNN is a lazy learner, meaning that it does not learn from the training data but rather uses it for its prediction. This is referred to as memory-based approach, because  we need all training data at each time we want to make a prediction; this makes KNN rather slow, because it has to compute the distance to all points in the training set, sort them, and make a prediction; KNN is not robust to noisy data; KNN does not work well for high dimensionality data because of the curse of dimensionality (there are no points that are close)"
   ]
  },
  {
   "cell_type": "markdown",
   "metadata": {},
   "source": [
    "#### Regression"
   ]
  },
  {
   "cell_type": "code",
   "execution_count": 232,
   "metadata": {},
   "outputs": [],
   "source": [
    "from sklearn.datasets import load_boston\n",
    "from sklearn.model_selection import train_test_split\n",
    "from sklearn.neighbors import KNeighborsRegressor\n",
    "from sklearn.metrics import mean_squared_error as MSE"
   ]
  },
  {
   "cell_type": "code",
   "execution_count": 247,
   "metadata": {},
   "outputs": [
    {
     "name": "stdout",
     "output_type": "stream",
     "text": [
      "Test set RMSE is 8.77; Train set RMSE is 7.13\n",
      "Prediction: 23.18 vs. Actual: 22.00\n"
     ]
    }
   ],
   "source": [
    "# load data\n",
    "boston = load_boston()\n",
    "features = pd.DataFrame(boston[\"data\"], columns = boston[\"feature_names\"])\n",
    "y = boston[\"target\"]\n",
    "y = y[:505]\n",
    "y_holdout = y[504:]\n",
    "x = features[[\"RAD\", \"ZN\", \"CRIM\", \"AGE\"]].values\n",
    "x = x[:505]\n",
    "x_holdout = x[504:]\n",
    "\n",
    "# split data into train and test \n",
    "(x_train, x_test, y_train, y_test) = train_test_split(x, y, test_size = 0.2, random_state = 3)\n",
    "\n",
    "# initialize knn\n",
    "knn = KNeighborsRegressor(n_neighbors = 10)\n",
    "\n",
    "# fit knn\n",
    "knn.fit(x_train, y_train)\n",
    "\n",
    "# make predictions on x_test\n",
    "y_pred_test = knn.predict(x_test)\n",
    "\n",
    "# make predictions on x_train\n",
    "y_pred_train = knn.predict(x_train)\n",
    "\n",
    "# test rmse\n",
    "test_rmse = MSE(y_test, y_pred_test)**(1/2)\n",
    "\n",
    "# train rmse\n",
    "train_rmse = MSE(y_train, y_pred_train)**(1/2)\n",
    "\n",
    "# print results\n",
    "print('Test set RMSE is {:.2f};'.format(test_rmse), 'Train set RMSE is {:.2f}'.format(train_rmse))\n",
    "\n",
    "# predict\n",
    "prediction = knn.predict(x_holdout)\n",
    "print(\"Prediction: {:.2f} vs. Actual: {:.2f}\".format(float(prediction), float(y_holdout)))"
   ]
  },
  {
   "cell_type": "markdown",
   "metadata": {},
   "source": [
    "#### Classification"
   ]
  },
  {
   "cell_type": "code",
   "execution_count": 229,
   "metadata": {},
   "outputs": [],
   "source": [
    "from sklearn.datasets import load_iris\n",
    "from sklearn.model_selection import train_test_split\n",
    "from sklearn.neighbors import KNeighborsClassifier\n",
    "from sklearn.metrics import mean_squared_error as MSE"
   ]
  },
  {
   "cell_type": "code",
   "execution_count": 248,
   "metadata": {},
   "outputs": [
    {
     "name": "stdout",
     "output_type": "stream",
     "text": [
      "Test set RMSE is 0.18; Train set RMSE is 0.18\n",
      "Prediction: 2.00 vs. Actual: 2.00\n"
     ]
    }
   ],
   "source": [
    "# load data\n",
    "iris = load_iris()\n",
    "iris = pd.concat([pd.DataFrame(iris['data'], columns = [\"SepalLengthCm\", \"SepalWidthCm\", \"PetalLengthCm\", \"PetalWidthCm\"]), pd.DataFrame(iris['target'], columns = ['Species'])],\n",
    "                axis = 1)\n",
    "y = iris['Species']\n",
    "y = y[:149]\n",
    "y_holdout = y[148:]\n",
    "x = iris[[\"SepalLengthCm\", \"SepalWidthCm\", \"PetalLengthCm\", \"PetalWidthCm\"]].values\n",
    "x = x[:149]\n",
    "x_holdout = x[148:]\n",
    "\n",
    "# split data into train and test \n",
    "(x_train, x_test, y_train, y_test) = train_test_split(x, y, test_size = 0.2, random_state = 3)\n",
    "\n",
    "# initialize knn\n",
    "knn = KNeighborsClassifier(n_neighbors = 10)\n",
    "\n",
    "# fit knn\n",
    "knn.fit(x_train, y_train)\n",
    "\n",
    "# make predictions on x_test\n",
    "y_pred_test = knn.predict(x_test)\n",
    "\n",
    "# make predictions on x_train\n",
    "y_pred_train = knn.predict(x_train)\n",
    "\n",
    "# test rmse\n",
    "test_rmse = MSE(y_test, y_pred_test)**(1/2)\n",
    "\n",
    "# train rmse\n",
    "train_rmse = MSE(y_train, y_pred_train)**(1/2)\n",
    "\n",
    "# print results\n",
    "print('Test set RMSE is {:.2f};'.format(test_rmse), 'Train set RMSE is {:.2f}'.format(train_rmse))\n",
    "\n",
    "# predict\n",
    "prediction = knn.predict(x_holdout)\n",
    "print(\"Prediction: {:.2f} vs. Actual: {:.2f}\".format(float(prediction), float(y_holdout)))"
   ]
  },
  {
   "cell_type": "markdown",
   "metadata": {},
   "source": [
    "## 4.5 Apriori Algorithm\n",
    "- Application: Apriori is used to find relationships/associations of items in data sets (i.e. market basked analysis).\n",
    "- Description: Apriori determines item sets that appear sufficiently often together in the data. These item sets are used to define association rules which highlight general trends in the data.\n",
    "- Functionality:\n",
    "    * The algorithm is based on the following three constructs: Support, Confidence, and Lift. When running the algorithm, we have to define minimum values for each of the three consturcts\n",
    "    * Support: Represents the popularity of an item $Support(B) = \\frac{trx_B}{trx_{all}}$\n",
    "    * Confidence: Represents the likelihood that item $B$ is also purchased when item $A$ is purchased: $Confidence(A→B) = \\frac{trx_{AB}}{trx_A} $\n",
    "    * Lift: Represents the increase in the ratio of sale B when A is sold: $Lift(A→B) = \\frac{Confidence(A→B)}{Support(B)} $\n",
    "    * Marketing campagins are focused on the lift specifically. $Lift = 1$ menas there is no association between the products. $Lift > 1$ means that item A & B are more likely to be bought together.\n",
    "    * This algorithm works solely based on the purchase history of items and we do not need any features to the items to run it.\n",
    "    * A strong pattern would be an item with low support, meaning it is not purchased very often, but high confidence, meaning that if its purchased it is purchased in combination with other itmes.\n",
    "- Limitations: Apriori might be slow as it calculates all possible combinations between items, becomeing a problem if there is a large number of items"
   ]
  },
  {
   "cell_type": "code",
   "execution_count": 263,
   "metadata": {},
   "outputs": [],
   "source": [
    "from mlxtend.preprocessing import TransactionEncoder\n",
    "from mlxtend.frequent_patterns import apriori\n",
    "from mlxtend.frequent_patterns import association_rules"
   ]
  },
  {
   "cell_type": "code",
   "execution_count": 271,
   "metadata": {},
   "outputs": [
    {
     "name": "stdout",
     "output_type": "stream",
     "text": [
      "   support      itemsets  length\n",
      "0    0.625       (Apple)       1\n",
      "1    0.750        (Beer)       1\n",
      "2    0.500        (Rice)       1\n",
      "3    0.500  (Beer, Rice)       2\n",
      "  antecedents consequents  antecedent support  consequent support  support  \\\n",
      "0      (Beer)      (Rice)                0.75                0.50      0.5   \n",
      "1      (Rice)      (Beer)                0.50                0.75      0.5   \n",
      "\n",
      "   confidence      lift  leverage  conviction  \n",
      "0    0.666667  1.333333     0.125         1.5  \n",
      "1    1.000000  1.333333     0.125         inf  \n"
     ]
    }
   ],
   "source": [
    "# create dataset\n",
    "dataset = [['Apple', 'Beer', 'Rice', 'Chicken'],\n",
    "           ['Apple', 'Beer', 'Rice'],\n",
    "           ['Apple', 'Beer'],\n",
    "           ['Apple', 'Bananas'],\n",
    "           ['Milk', 'Beer', 'Rice', 'Chicken'],\n",
    "           ['Milk', 'Beer', 'Rice'],\n",
    "           ['Milk', 'Beer'],\n",
    "           ['Apple', 'Bananas']]\n",
    "\n",
    "# encode transactions\n",
    "te = TransactionEncoder()\n",
    "te_array = te.fit(dataset).transform(dataset).astype('int')\n",
    "df = pd.DataFrame(te_array, columns = te.columns_)\n",
    "\n",
    "# apply apriori\n",
    "frequent_itemsets = apriori(df, min_support = 0.4, use_colnames = True)\n",
    "\n",
    "# length of sets\n",
    "frequent_itemsets['length'] = frequent_itemsets['itemsets'].apply(lambda x: len(x))\n",
    "print(frequent_itemsets)\n",
    "\n",
    "# find association rules\n",
    "rules = association_rules(frequent_itemsets, metric = 'lift', min_threshold = 1)\n",
    "print(rules)"
   ]
  },
  {
   "cell_type": "markdown",
   "metadata": {},
   "source": [
    "## 4.6 Support Vector Machines\n",
    "- Application: Support Vector Machienes (SVM) are generally used for classification problems.\n",
    "- Description: SVMs fit a linear decision boundary that best divides a dataset into two or more classes. SVM can also solve non-linear classification problems, applying the Kernel Trick taht transforms data into higher dimensions in which a linear decision boundary can be fit.\n",
    "- Functionality:\n",
    "    * Hyperplane: Linear decision boundary between two classes with $p-1$ dimensions; formula: $\\beta_0 + \\beta_1x_1 + ... + \\beta_px_p = 0$\n",
    "    * Margin: Minimal distance between the hyperplane and the nearest data point from either class\n",
    "    * Support Vectors: Data points closest to the hyperplane; removing support vectors alters the position of the hyperplane whereas data points within classes don't\n",
    "    * **Maximal margin classifier**:\n",
    "        * Goal: Chose a hyperplane with the highest possible margin within the training set, giving a greater chance of new data being classified correctly\n",
    "        * To do so we calculate the perpendicular distance form the training data to the hyperplane; this is only possible if the two classes are perfectly seperable\n",
    "    * **Support vector classifier**: \n",
    "        * Goal: Misclassify a few training observations in order to do a better job in classifying the remaining observations\n",
    "        * To do so we allow a soft margin, meaning that we introduce a budget $C$ for the amount that we can misclassify observations (are around the hyperplane in which data can be misclassified); if $C$ is small, there will be fewer support vectors and hence the classifier will have high variance but low bias\n",
    "    * **Support vector machines** \n",
    "        * Goal: If the decision boundary is non-linear, we transform the data to enlarge the feature space using $kernels$ (an computationally efficient approach to enlarging the feature space)\n",
    "        * As a result we map our input space into as many higher-dimensionality feature spaces as we need in which we can fit a linear decision boundary with support vector classifiers\n",
    "        * Kernel SVMs find the function that best transform the input data into a new feature space in order to separate the classes and the output of that function becomes the new dimension (i.e. polynomial, radial)\n",
    "        * Based on this fitted decision boundary, incoming data is mapped into that same space as the training data and predicted to belong to a category based on the side of the hyperplane on which they fall\n",
    "- Limitations: Don't perform well on multi-class classification, need to transform into one-vs-many classification; less effective on noisier datasets with overlapping classes and high training times on large datasets"
   ]
  },
  {
   "cell_type": "code",
   "execution_count": 53,
   "metadata": {},
   "outputs": [],
   "source": [
    "from sklearn.datasets import load_iris\n",
    "from sklearn.model_selection import train_test_split\n",
    "from sklearn import svm\n",
    "from sklearn.metrics import classification_report"
   ]
  },
  {
   "cell_type": "code",
   "execution_count": 54,
   "metadata": {},
   "outputs": [
    {
     "name": "stdout",
     "output_type": "stream",
     "text": [
      "y_pred_svc:               precision    recall  f1-score   support\n",
      "\n",
      "      Setosa       1.00      1.00      1.00        12\n",
      "  Versicolor       1.00      1.00      1.00        11\n",
      "   Virginica       1.00      1.00      1.00         7\n",
      "\n",
      "    accuracy                           1.00        30\n",
      "   macro avg       1.00      1.00      1.00        30\n",
      "weighted avg       1.00      1.00      1.00        30\n",
      "\n",
      "y_pred_rbf:               precision    recall  f1-score   support\n",
      "\n",
      "      Setosa       1.00      1.00      1.00        12\n",
      "  Versicolor       1.00      0.91      0.95        11\n",
      "   Virginica       0.88      1.00      0.93         7\n",
      "\n",
      "    accuracy                           0.97        30\n",
      "   macro avg       0.96      0.97      0.96        30\n",
      "weighted avg       0.97      0.97      0.97        30\n",
      "\n",
      "y_pred_poly_svc:               precision    recall  f1-score   support\n",
      "\n",
      "      Setosa       1.00      1.00      1.00        12\n",
      "  Versicolor       1.00      0.91      0.95        11\n",
      "   Virginica       0.88      1.00      0.93         7\n",
      "\n",
      "    accuracy                           0.97        30\n",
      "   macro avg       0.96      0.97      0.96        30\n",
      "weighted avg       0.97      0.97      0.97        30\n",
      "\n",
      "y_pred_lin_svc:               precision    recall  f1-score   support\n",
      "\n",
      "      Setosa       1.00      1.00      1.00        12\n",
      "  Versicolor       1.00      0.91      0.95        11\n",
      "   Virginica       0.88      1.00      0.93         7\n",
      "\n",
      "    accuracy                           0.97        30\n",
      "   macro avg       0.96      0.97      0.96        30\n",
      "weighted avg       0.97      0.97      0.97        30\n",
      "\n"
     ]
    }
   ],
   "source": [
    "# load data\n",
    "iris = load_iris()\n",
    "iris = pd.concat([pd.DataFrame(iris['data'], columns = [\"SepalLengthCm\", \"SepalWidthCm\", \"PetalLengthCm\", \"PetalWidthCm\"]), pd.DataFrame(iris['target'], columns = ['Species'])],\n",
    "                axis = 1)\n",
    "y = iris['Species']\n",
    "y = y[:149]\n",
    "y_holdout = y[148:]\n",
    "x = iris[[\"SepalLengthCm\", \"SepalWidthCm\", \"PetalLengthCm\", \"PetalWidthCm\"]].values\n",
    "x = x[:149]\n",
    "x_holdout = x[148:]\n",
    "\n",
    "# split data into train and test \n",
    "(x_train, x_test, y_train, y_test) = train_test_split(x, y, test_size = 0.2, random_state = 3)\n",
    "\n",
    "# initialize and fit models with different kernels\n",
    "C = 1\n",
    "svc = svm.SVC(kernel = 'linear', C = C).fit(x_train, y_train)\n",
    "rbf = svm.SVC(kernel = 'rbf', gamma = 0.7, C = C).fit(x_train, y_train)\n",
    "poly_svc = svm.SVC(kernel = 'poly', degree = 3, C = C).fit(x_train, y_train)\n",
    "lin_svc = svm.LinearSVC(C = C).fit(x_train, y_train)\n",
    "\n",
    "# predict\n",
    "y_pred_svc = svc.predict(x_test)\n",
    "y_pred_rbf = rbf.predict(x_test)\n",
    "y_pred_poly_svc = poly_svc.predict(x_test)\n",
    "y_pred_lin_svc = lin_svc.predict(x_test)\n",
    "\n",
    "# print classification reports\n",
    "print('y_pred_svc:', classification_report(y_test, y_pred_svc, target_names = ['Setosa', 'Versicolor', 'Virginica']))\n",
    "print('y_pred_rbf:', classification_report(y_test, y_pred_rbf, target_names = ['Setosa', 'Versicolor', 'Virginica']))\n",
    "print('y_pred_poly_svc:', classification_report(y_test, y_pred_poly_svc, target_names = ['Setosa', 'Versicolor', 'Virginica']))\n",
    "print('y_pred_lin_svc:', classification_report(y_test, y_pred_lin_svc, target_names = ['Setosa', 'Versicolor', 'Virginica']))"
   ]
  },
  {
   "cell_type": "markdown",
   "metadata": {},
   "source": [
    "## 4.7 Classification And Regression Trees\n",
    "- Application: Classification And Regression Trees (CART) are used for classification and regression problems\n",
    "- Description: Decision Trees learn decision rules from observations about items. To make conclusions about new items' target variable, we apply the decision rules to the values of new items, meaning that we follow the branches of the Decision Tree, compare values and jump to the next node until arriving at a conclusion\n",
    "- Functionality:\n",
    "    * Root node: Doesn't have a parent node, question gets divided into two child nodes\n",
    "    * Internal node: Has a parent node, question gets divided into two child nodes\n",
    "    * Lead node: Has a parent node, but no child nodes; represents the prediction\n",
    "    * Depthness of a decision tree: Number of nodes of the tree\n",
    "    * Classification: **information gain**\n",
    "        * Constructing a classification decision tree is about splitting into child nodes in a way that increases the information gain\n",
    "        * Entropy: Measure of randomness in an event (events with high randomness: hard to draw conclusions from; pure events: expect same outcome for every occurance of the event); formula: $E(S) = \\sum_{i=1}^{N} - p_i log_2 p_i$\n",
    "        * GINI: Measure of total variance across classes in a node; formula: $GINI = 1 - \\sum_{i=1}^{N} p_i^2$\n",
    "        * Information Gain: Decrease in entropy; forumla $IG = Entropy(before$ $split)$ $- Entropy($$after$ $split)$\n",
    "        * Approach: \n",
    "            * Define decision rule based on the items' values that creates the best split of items based on the target variable\n",
    "            * Calculate information gain for the split; if there is no increase in information gain we formulate another decision rule\n",
    "            * Once a decision rule with sufficient information gain is defined, we split into two child notes     \n",
    "            * If we the child nodes have pure events we don't need to split into more nodes; if not we split into more nodes to further increase purity\n",
    "            * Splitting stops when no further information gain can be made or pre-set stopping rules are met\n",
    "            * Each branch ends in a lead node, making each observation fall into exaclty one lead node and each lead node uniquely defined by a set of rules\n",
    "            * The lead nodes' predictions are the mean or mode of all items falling into that leaf node\n",
    "    * Regression: **recursive binary splitting**\n",
    "        * Recursive binary splitting: Greedy approach because at each step of the tree-building process, the best split is made at that particular step ignoring a future split that will lead to an overall better tree\n",
    "        * Approach:\n",
    "            * Define decision rule based on the itmes' values that leads to the highest possible reduction in residual sum of squares (SSR) of the tree\n",
    "            * Repeat this process, looking for the best predictor and the best cutpoints to futher minimize the SSR within each resulting node\n",
    "            * Splitting stops when no further reduction in SSR is possible or pre-set stopping rules are met\n",
    "            * Cost complexity pruning: Obtain a sequence of subtrees indexed at $\\alpha$ (increases with the number of lead nodes), run cross validation on all subtrees and select subtree sith lowest $CV error$; this approach controls the trade-off between the complexity and its fit to the training data\n",
    "- Limitations: Instability due to high variance in sampled data, high sensitivity to the data that its trained to"
   ]
  },
  {
   "cell_type": "markdown",
   "metadata": {},
   "source": [
    "#### Regression"
   ]
  },
  {
   "cell_type": "code",
   "execution_count": 28,
   "metadata": {},
   "outputs": [],
   "source": [
    "from sklearn.datasets import load_boston\n",
    "from sklearn.model_selection import train_test_split\n",
    "from sklearn.tree import DecisionTreeRegressor\n",
    "from sklearn.model_selection import cross_val_score\n",
    "from sklearn.metrics import mean_squared_error as MSE"
   ]
  },
  {
   "cell_type": "code",
   "execution_count": 109,
   "metadata": {},
   "outputs": [
    {
     "name": "stdout",
     "output_type": "stream",
     "text": [
      "Test set RMSE is 8.29; the CV RMSE is 7.90\n",
      "CRIM    0.682594\n",
      "ZN      0.317406\n",
      "AGE     0.000000\n",
      "RAD     0.000000\n",
      "dtype: float64\n",
      "Prediction: 22.36 vs. Actual: 22.00\n"
     ]
    }
   ],
   "source": [
    "# load data\n",
    "boston = load_boston()\n",
    "features = pd.DataFrame(boston[\"data\"], columns = boston[\"feature_names\"])\n",
    "y = boston[\"target\"]\n",
    "y = y[:505]\n",
    "y_holdout = y[504:]\n",
    "x = features[[\"RAD\", \"ZN\", \"CRIM\", \"AGE\"]].values\n",
    "x = x[:505]\n",
    "x_holdout = x[504:]\n",
    "\n",
    "# split data into train and test \n",
    "(x_train, x_test, y_train, y_test) = train_test_split(x, y, test_size = 0.2, random_state = 3)\n",
    "\n",
    "# initialize decision tree\n",
    "dt = DecisionTreeRegressor(max_depth = 2, min_samples_leaf = 5, random_state = 3)\n",
    "\n",
    "# fit decision tree\n",
    "dt.fit(x_train, y_train)\n",
    "\n",
    "# make predictions on x_test\n",
    "y_pred_test = dt.predict(x_test)\n",
    "\n",
    "# make predictions on x_train\n",
    "y_pred_train = dt.predict(x_train)\n",
    "\n",
    "# test rmse\n",
    "test_rmse = MSE(y_test, y_pred_test)**(1/2)\n",
    "\n",
    "# mean cv (runs on train set)\n",
    "mse_cv_scores = - cross_val_score(dt, x_train, y_train, cv = 10, scoring = 'neg_mean_squared_error', n_jobs = -1)\n",
    "\n",
    "# compute the 10-folds CV rmse\n",
    "cv_rmse = (mse_cv_scores.mean())**(1/2)\n",
    "\n",
    "# print results\n",
    "print('Test set RMSE is {:.2f};'.format(test_rmse), 'the CV RMSE is {:.2f}'.format(cv_rmse))\n",
    "\n",
    "# find feature importance\n",
    "print(pd.Series(dt.feature_importances_, index = [\"RAD\", \"ZN\", \"CRIM\", \"AGE\"]).sort_values(ascending = False))\n",
    "\n",
    "# predict\n",
    "prediction = dt.predict(x_holdout)\n",
    "print(\"Prediction: {:.2f} vs. Actual: {:.2f}\".format(float(prediction), float(y_holdout)))"
   ]
  },
  {
   "cell_type": "markdown",
   "metadata": {},
   "source": [
    "#### Classification"
   ]
  },
  {
   "cell_type": "code",
   "execution_count": 14,
   "metadata": {},
   "outputs": [],
   "source": [
    "from sklearn.datasets import load_iris\n",
    "from sklearn.model_selection import train_test_split\n",
    "from sklearn.tree import DecisionTreeClassifier\n",
    "from sklearn.model_selection import cross_val_score\n",
    "from sklearn.metrics import mean_squared_error as MSE"
   ]
  },
  {
   "cell_type": "code",
   "execution_count": 66,
   "metadata": {},
   "outputs": [
    {
     "name": "stdout",
     "output_type": "stream",
     "text": [
      "Test set RMSE is 0.18; the CV RMSE is 0.22\n",
      "PetalWidthCm     0.884093\n",
      "PetalLengthCm    0.089412\n",
      "SepalWidthCm     0.018925\n",
      "SepalLengthCm    0.007570\n",
      "dtype: float64\n",
      "Prediction: 2.0 vs. Actual: 2.0\n"
     ]
    }
   ],
   "source": [
    "# load data\n",
    "iris = load_iris()\n",
    "iris = pd.concat([pd.DataFrame(iris['data'], columns = [\"SepalLengthCm\", \"SepalWidthCm\", \"PetalLengthCm\", \"PetalWidthCm\"]), pd.DataFrame(iris['target'], columns = ['Species'])],\n",
    "                axis = 1)\n",
    "y = iris['Species']\n",
    "y = y[:149]\n",
    "y_holdout = y[148:]\n",
    "x = iris[[\"SepalLengthCm\", \"SepalWidthCm\", \"PetalLengthCm\", \"PetalWidthCm\"]].values\n",
    "x = x[:149]\n",
    "x_holdout = x[148:]\n",
    "\n",
    "# split data into train and test \n",
    "(x_train, x_test, y_train, y_test) = train_test_split(x, y, test_size = 0.2, random_state = 3)\n",
    "\n",
    "# initialize decision tree\n",
    "dt = DecisionTreeClassifier(random_state = 3)\n",
    "\n",
    "# fit decision tree\n",
    "dt.fit(x_train, y_train)\n",
    "\n",
    "# make predictions on x_test\n",
    "y_pred_test = dt.predict(x_test)\n",
    "\n",
    "# make predictions on x_train\n",
    "y_pred_train = dt.predict(x_train)\n",
    "\n",
    "# test rmse\n",
    "test_rmse = MSE(y_test, y_pred_test)**(1/2)\n",
    "\n",
    "# mean cv (runs on train set)\n",
    "mse_cv_scores = - cross_val_score(dt, x_train, y_train, cv = 10, scoring = 'neg_mean_squared_error', n_jobs = -1)\n",
    "\n",
    "# compute the 10-folds CV rmse\n",
    "cv_rmse = (mse_cv_scores.mean())**(1/2)\n",
    "\n",
    "# print results\n",
    "print('Test set RMSE is {:.2f};'.format(test_rmse), 'the CV RMSE is {:.2f}'.format(cv_rmse))\n",
    "\n",
    "# find feature importance\n",
    "print(pd.Series(dt.feature_importances_, index = [\"SepalLengthCm\", \"SepalWidthCm\", \"PetalLengthCm\", \"PetalWidthCm\"]).sort_values(ascending = False))\n",
    "\n",
    "# predict\n",
    "prediction = dt.predict(x_holdout)\n",
    "print(\"Prediction: {} vs. Actual: {}\".format(float(prediction), float(y_holdout)))"
   ]
  },
  {
   "cell_type": "markdown",
   "metadata": {},
   "source": [
    "## 4.8 Random Forest\n",
    "- Application: Random Forests are used for classifiaction and regression problems.\n",
    "- Description: Random Forests are an ensemble learning method, training a multitude of decision trees on the same dataset and aggregating the predictions of the individual trees (i.e. mode of classes for classification, mean of predictions for regression)\n",
    "- Functionality:\n",
    "    * Esemble Learning: Fit a multitude of independent models on sampeled data from the same dataset and aggregate predictions by majority voting for classification and by averaging for regression\n",
    "    * Base model: Large number of individual and uncorrelated decision trees; all models must be of the same kind\n",
    "    * Bagging/Bootsrapping:\n",
    "        * We take a random sample of observations from the dataset with replacement: If we have a training set with N observations, we still feed each tree a training set of size N, but instead of the original training data, we randomly select N observations with replacement from the training data in order to to produce a bootstrap data set\n",
    "        * Rationale: This process allows us to emulate the process of obtaining new sample sets, so we can estimate the variablility without generating new samples in order to minimize the variance of the predictions\n",
    "    * Feature bagging: \n",
    "        * When splitting into a node, each decision tree in a random forest can only pick from a random subset of features without replacement, forcing more variation amongst the trees in the model and ultimately resulting in lower correlation across trees and more diversification\n",
    "        * Rationale: If one or a few features are very strong predictors for the target variable, these features will be selected in many decision trees; we decorrelate the trees\n",
    "    * We repeat this process multiple times based on the same training data to build different models that are then aggregated repsectively; each individual model has high variance, but averaging the models reduced variance\n",
    "- Limitations: Some features might get sampled often whereas others not so often; difficult to interpret "
   ]
  },
  {
   "cell_type": "markdown",
   "metadata": {},
   "source": [
    "#### Regression"
   ]
  },
  {
   "cell_type": "code",
   "execution_count": 111,
   "metadata": {},
   "outputs": [],
   "source": [
    "from sklearn.datasets import load_boston\n",
    "from sklearn.model_selection import train_test_split\n",
    "from sklearn.ensemble import RandomForestRegressor\n",
    "from sklearn.model_selection import cross_val_score\n",
    "from sklearn.metrics import mean_squared_error as MSE"
   ]
  },
  {
   "cell_type": "code",
   "execution_count": 128,
   "metadata": {},
   "outputs": [
    {
     "name": "stdout",
     "output_type": "stream",
     "text": [
      "Test set RMSE is 7.86; the CV RMSE is 7.90\n",
      "CRIM    0.479596\n",
      "ZN      0.220512\n",
      "AGE     0.216424\n",
      "RAD     0.083469\n",
      "dtype: float64\n",
      "Prediction: 21.17 vs. Actual: 22.00\n"
     ]
    }
   ],
   "source": [
    "# load data\n",
    "boston = load_boston()\n",
    "features = pd.DataFrame(boston[\"data\"], columns = boston[\"feature_names\"])\n",
    "y = boston[\"target\"]\n",
    "y = y[:505]\n",
    "y_holdout = y[504:]\n",
    "x = features[[\"RAD\", \"ZN\", \"CRIM\", \"AGE\"]].values\n",
    "x = x[:505]\n",
    "x_holdout = x[504:]\n",
    "\n",
    "# split data into train and test \n",
    "(x_train, x_test, y_train, y_test) = train_test_split(x, y, test_size = 0.2, random_state = 3)\n",
    "\n",
    "# initialize decision tree\n",
    "rf = RandomForestRegressor(max_depth = 10, min_samples_leaf = 5, random_state = 3)\n",
    "\n",
    "# fit decision tree\n",
    "rf.fit(x_train, y_train)\n",
    "\n",
    "# make predictions on x_test\n",
    "y_pred_test = rf.predict(x_test)\n",
    "\n",
    "# make predictions on x_train\n",
    "y_pred_train = rf.predict(x_train)\n",
    "\n",
    "# test rmse\n",
    "test_rmse = MSE(y_test, y_pred_test)**(1/2)\n",
    "\n",
    "# mean cv (runs on train set)\n",
    "mse_cv_scores = - cross_val_score(dt, x_train, y_train, cv = 10, scoring = 'neg_mean_squared_error', n_jobs = -1)\n",
    "\n",
    "# compute the 10-folds CV rmse\n",
    "cv_rmse = (mse_cv_scores.mean())**(1/2)\n",
    "\n",
    "# print results\n",
    "print('Test set RMSE is {:.2f};'.format(test_rmse), 'the CV RMSE is {:.2f}'.format(cv_rmse))\n",
    "\n",
    "# find feature importance\n",
    "print(pd.Series(rf.feature_importances_, index = [\"RAD\", \"ZN\", \"CRIM\", \"AGE\"]).sort_values(ascending = False))\n",
    "\n",
    "# predict\n",
    "prediction = rf.predict(x_holdout)\n",
    "print(\"Prediction: {:.2f} vs. Actual: {:.2f}\".format(float(prediction), float(y_holdout)))"
   ]
  },
  {
   "cell_type": "markdown",
   "metadata": {},
   "source": [
    "#### Classification"
   ]
  },
  {
   "cell_type": "code",
   "execution_count": 126,
   "metadata": {},
   "outputs": [],
   "source": [
    "from sklearn.datasets import load_iris\n",
    "from sklearn.model_selection import train_test_split\n",
    "from sklearn.ensemble import RandomForestClassifier\n",
    "from sklearn.model_selection import cross_val_score\n",
    "from sklearn.metrics import mean_squared_error as MSE"
   ]
  },
  {
   "cell_type": "code",
   "execution_count": 127,
   "metadata": {},
   "outputs": [
    {
     "name": "stdout",
     "output_type": "stream",
     "text": [
      "Test set RMSE is 0.26; the CV RMSE is 0.25\n",
      "PetalWidthCm     0.5\n",
      "SepalLengthCm    0.3\n",
      "PetalLengthCm    0.2\n",
      "SepalWidthCm     0.0\n",
      "dtype: float64\n",
      "Prediction: 2.0 vs. Actual: 2.0\n"
     ]
    }
   ],
   "source": [
    "# load data\n",
    "iris = load_iris()\n",
    "iris = pd.concat([pd.DataFrame(iris['data'], columns = [\"SepalLengthCm\", \"SepalWidthCm\", \"PetalLengthCm\", \"PetalWidthCm\"]), pd.DataFrame(iris['target'], columns = ['Species'])],\n",
    "                axis = 1)\n",
    "y = iris['Species']\n",
    "y = y[:149]\n",
    "y_holdout = y[148:]\n",
    "x = iris[[\"SepalLengthCm\", \"SepalWidthCm\", \"PetalLengthCm\", \"PetalWidthCm\"]].values\n",
    "x = x[:149]\n",
    "x_holdout = x[148:]\n",
    "\n",
    "# split data into train and test \n",
    "(x_train, x_test, y_train, y_test) = train_test_split(x, y, test_size = 0.2, random_state = 3)\n",
    "\n",
    "# initialize decision tree\n",
    "rf = RandomForestClassifier(max_depth = 1, min_samples_leaf = 10, random_state = 3)\n",
    "\n",
    "# fit decision tree\n",
    "rf.fit(x_train, y_train)\n",
    "\n",
    "# make predictions on x_test\n",
    "y_pred_test = rf.predict(x_test)\n",
    "\n",
    "# make predictions on x_train\n",
    "y_pred_train = rf.predict(x_train)\n",
    "\n",
    "# test rmse\n",
    "test_rmse = MSE(y_test, y_pred_test)**(1/2)\n",
    "\n",
    "# mean cv (runs on train set)\n",
    "mse_cv_scores = - cross_val_score(dt, x_train, y_train, cv = 10, scoring = 'neg_mean_squared_error', n_jobs = -1)\n",
    "\n",
    "# compute the 10-folds CV rmse\n",
    "cv_rmse = (mse_cv_scores.mean())**(1/2)\n",
    "\n",
    "# print results\n",
    "print('Test set RMSE is {:.2f};'.format(test_rmse), 'the CV RMSE is {:.2f}'.format(cv_rmse))\n",
    "\n",
    "# find feature importance\n",
    "print(pd.Series(rf.feature_importances_, index = [\"SepalLengthCm\", \"SepalWidthCm\", \"PetalLengthCm\", \"PetalWidthCm\"]).sort_values(ascending = False))\n",
    "\n",
    "# predict\n",
    "prediction = rf.predict(x_holdout)\n",
    "print(\"Prediction: {} vs. Actual: {}\".format(float(prediction), float(y_holdout)))"
   ]
  },
  {
   "cell_type": "markdown",
   "metadata": {},
   "source": [
    "## 4.9 Gradient Boosting\n",
    "- Application: Gradient Boosting is used for classification and regression problems\n",
    "- Description: Gradient Boosting is an ensemble learning method, building a multitude of decision trees sequentially with each model learning from the errors of its predecessors\n",
    "- Functionality:\n",
    "    * Boosting does not involve bootstrapping; instead each tree is fit on a modified version of the original data\n",
    "    * We start by fitting a simple model (i.e. decision tree)\n",
    "    * We then fit a new decision tree to the residuals of the model (we fit the tree using the residuals as the response)\n",
    "    * We then add this decision tree into the fitted function in order to update the residuals\n",
    "    * This way, we slowly improve the overall model in areas that it doesn't perform well yet\n",
    "- Limitations: Prone to overfitting, requires careful tuning of hyperparameters"
   ]
  },
  {
   "cell_type": "markdown",
   "metadata": {},
   "source": [
    "#### Regression"
   ]
  },
  {
   "cell_type": "code",
   "execution_count": 115,
   "metadata": {},
   "outputs": [],
   "source": [
    "from sklearn.datasets import load_boston\n",
    "from sklearn.model_selection import train_test_split\n",
    "from sklearn.ensemble import GradientBoostingRegressor\n",
    "from sklearn.model_selection import cross_val_score\n",
    "from sklearn.metrics import mean_squared_error as MSE"
   ]
  },
  {
   "cell_type": "code",
   "execution_count": 116,
   "metadata": {},
   "outputs": [
    {
     "name": "stdout",
     "output_type": "stream",
     "text": [
      "Test set RMSE is 8.14; the CV RMSE is 7.90\n",
      "CRIM    0.552882\n",
      "ZN      0.203198\n",
      "AGE     0.156695\n",
      "RAD     0.087225\n",
      "dtype: float64\n",
      "Prediction: 21.12 vs. Actual: 22.00\n"
     ]
    }
   ],
   "source": [
    "# load data\n",
    "boston = load_boston()\n",
    "features = pd.DataFrame(boston[\"data\"], columns = boston[\"feature_names\"])\n",
    "y = boston[\"target\"]\n",
    "y = y[:505]\n",
    "y_holdout = y[504:]\n",
    "x = features[[\"RAD\", \"ZN\", \"CRIM\", \"AGE\"]].values\n",
    "x = x[:505]\n",
    "x_holdout = x[504:]\n",
    "\n",
    "# split data into train and test \n",
    "(x_train, x_test, y_train, y_test) = train_test_split(x, y, test_size = 0.2, random_state = 3)\n",
    "\n",
    "# initialize decision tree\n",
    "gb = GradientBoostingRegressor(max_depth = 3, min_samples_leaf = 10, random_state = 3)\n",
    "\n",
    "# fit decision tree\n",
    "gb.fit(x_train, y_train)\n",
    "\n",
    "# make predictions on x_test\n",
    "y_pred_test = gb.predict(x_test)\n",
    "\n",
    "# make predictions on x_train\n",
    "y_pred_train = gb.predict(x_train)\n",
    "\n",
    "# test rmse\n",
    "test_rmse = MSE(y_test, y_pred_test)**(1/2)\n",
    "\n",
    "# mean cv (runs on train set)\n",
    "mse_cv_scores = - cross_val_score(dt, x_train, y_train, cv = 10, scoring = 'neg_mean_squared_error', n_jobs = -1)\n",
    "\n",
    "# compute the 10-folds CV rmse\n",
    "cv_rmse = (mse_cv_scores.mean())**(1/2)\n",
    "\n",
    "# print results\n",
    "print('Test set RMSE is {:.2f};'.format(test_rmse), 'the CV RMSE is {:.2f}'.format(cv_rmse))\n",
    "\n",
    "# find feature importance\n",
    "print(pd.Series(gb.feature_importances_, index = [\"RAD\", \"ZN\", \"CRIM\", \"AGE\"]).sort_values(ascending = False))\n",
    "\n",
    "# predict\n",
    "prediction = gb.predict(x_holdout)\n",
    "print(\"Prediction: {:.2f} vs. Actual: {:.2f}\".format(float(prediction), float(y_holdout)))"
   ]
  },
  {
   "cell_type": "markdown",
   "metadata": {},
   "source": [
    "#### Classification"
   ]
  },
  {
   "cell_type": "code",
   "execution_count": 82,
   "metadata": {},
   "outputs": [],
   "source": [
    "from sklearn.datasets import load_iris\n",
    "from sklearn.model_selection import train_test_split\n",
    "from sklearn.ensemble import GradientBoostingClassifier\n",
    "from sklearn.model_selection import cross_val_score\n",
    "from sklearn.metrics import mean_squared_error as MSE"
   ]
  },
  {
   "cell_type": "code",
   "execution_count": 117,
   "metadata": {},
   "outputs": [
    {
     "name": "stdout",
     "output_type": "stream",
     "text": [
      "Test set RMSE is 0.18; the CV RMSE is 0.25\n",
      "PetalWidthCm     0.576158\n",
      "PetalLengthCm    0.415946\n",
      "SepalWidthCm     0.006801\n",
      "SepalLengthCm    0.001095\n",
      "dtype: float64\n",
      "Prediction: 2.0 vs. Actual: 2.0\n"
     ]
    }
   ],
   "source": [
    "# load data\n",
    "iris = load_iris()\n",
    "iris = pd.concat([pd.DataFrame(iris['data'], columns = [\"SepalLengthCm\", \"SepalWidthCm\", \"PetalLengthCm\", \"PetalWidthCm\"]), pd.DataFrame(iris['target'], columns = ['Species'])],\n",
    "                axis = 1)\n",
    "y = iris['Species']\n",
    "y = y[:149]\n",
    "y_holdout = y[148:]\n",
    "x = iris[[\"SepalLengthCm\", \"SepalWidthCm\", \"PetalLengthCm\", \"PetalWidthCm\"]].values\n",
    "x = x[:149]\n",
    "x_holdout = x[148:]\n",
    "\n",
    "# split data into train and test \n",
    "(x_train, x_test, y_train, y_test) = train_test_split(x, y, test_size = 0.2, random_state = 3)\n",
    "\n",
    "# initialize decision tree\n",
    "gb = GradientBoostingClassifier(max_depth = 2, min_samples_leaf = 10, random_state = 3)\n",
    "\n",
    "# fit decision tree\n",
    "gb.fit(x_train, y_train)\n",
    "\n",
    "# make predictions on x_test\n",
    "y_pred_test = gb.predict(x_test)\n",
    "\n",
    "# make predictions on x_train\n",
    "y_pred_train = gb.predict(x_train)\n",
    "\n",
    "# test rmse\n",
    "test_rmse = MSE(y_test, y_pred_test)**(1/2)\n",
    "\n",
    "# mean cv (runs on train set)\n",
    "mse_cv_scores = - cross_val_score(dt, x_train, y_train, cv = 10, scoring = 'neg_mean_squared_error', n_jobs = -1)\n",
    "\n",
    "# compute the 10-folds CV rmse\n",
    "cv_rmse = (mse_cv_scores.mean())**(1/2)\n",
    "\n",
    "# print results\n",
    "print('Test set RMSE is {:.2f};'.format(test_rmse), 'the CV RMSE is {:.2f}'.format(cv_rmse))\n",
    "\n",
    "# find feature importance\n",
    "print(pd.Series(gb.feature_importances_, index = [\"SepalLengthCm\", \"SepalWidthCm\", \"PetalLengthCm\", \"PetalWidthCm\"]).sort_values(ascending = False))\n",
    "\n",
    "# predict\n",
    "prediction = gb.predict(x_holdout)\n",
    "print(\"Prediction: {} vs. Actual: {}\".format(float(prediction), float(y_holdout)))"
   ]
  },
  {
   "cell_type": "markdown",
   "metadata": {},
   "source": [
    "## 4.10 Graph Networks\n",
    "- Application: Graph Networks are used to analyze and visualize several real world datasets such as social networks, web link data, molecular structures, geographical maps, images and text.\n",
    "- Description: Graph Networks analyze the relationships and dependencies among a set of items.\n",
    "- Functionality:\n",
    "    * A graph consists of nodes (items) and edges (relationships)\n",
    "    * Types: Undirected networks (edges have no direction, directed networks (edges have direction), weighted networks (edges have an assigned weight), multi-graphs (nodes with multiple edges), signed networks (edges with positive or negative sign) \n",
    "    * Path finding:\n",
    "        * Breath First Search algorithm: Finds the minimum number of edges (shortes path) between two nodes\n",
    "        * Depth First Search algorithm: Visits all of the edges in a network while avoiding circles\n",
    "    * Centrality:\n",
    "        * Degree centrality: (# of node neighbors) / (# of potential node neighbors)\n",
    "        * Betweenness centrality: # of times a node is present in the shortest path of two nodes: (# shortest path through a node) / (all possible shortest paths)\n",
    "        * Eigenvector centrality: if its connected to other important nodes (i.e. Google page rank)\n",
    "- Limitations: Entire graph needs to be processed simultaneously, which can be impractical for large graphs"
   ]
  },
  {
   "cell_type": "code",
   "execution_count": 35,
   "metadata": {},
   "outputs": [],
   "source": [
    "import networkx as nx"
   ]
  },
  {
   "cell_type": "code",
   "execution_count": 46,
   "metadata": {},
   "outputs": [
    {
     "data": {
      "image/png": "[encoded data removed]",
      "text/plain": [
       "<Figure size 432x288 with 1 Axes>"
      ]
     },
     "metadata": {},
     "output_type": "display_data"
    },
    {
     "name": "stdout",
     "output_type": "stream",
     "text": [
      "Nodes: ['EWR', 'MEM', 'LGA', 'FLL', 'SEA', 'JFK', 'DEN', 'ORD', 'MIA', 'PBI', 'MCO', 'CMH', 'MSP', 'IAD', 'CLT', 'TPA', 'DCA', 'SJU', 'ATL', 'BHM', 'SRQ', 'MSY', 'DTW', 'LAX', 'JAX', 'RDU', 'MDW', 'DFW', 'IAH', 'SFO', 'STL', 'CVG', 'IND', 'RSW', 'BOS', 'CLE']\n",
      "Edges: [('EWR', 'MEM'), ('EWR', 'SEA'), ('EWR', 'MIA'), ('EWR', 'ORD'), ('EWR', 'MSP'), ('EWR', 'TPA'), ('EWR', 'MSY'), ('EWR', 'DFW'), ('EWR', 'IAH'), ('EWR', 'SFO'), ('EWR', 'CVG'), ('EWR', 'IND'), ('EWR', 'RDU'), ('EWR', 'IAD'), ('EWR', 'RSW'), ('EWR', 'BOS'), ('EWR', 'PBI'), ('EWR', 'LAX'), ('EWR', 'MCO'), ('EWR', 'SJU'), ('LGA', 'FLL'), ('LGA', 'ORD'), ('LGA', 'PBI'), ('LGA', 'CMH'), ('LGA', 'IAD'), ('LGA', 'CLT'), ('LGA', 'MIA'), ('LGA', 'DCA'), ('LGA', 'BHM'), ('LGA', 'RDU'), ('LGA', 'ATL'), ('LGA', 'TPA'), ('LGA', 'MDW'), ('LGA', 'DEN'), ('LGA', 'MSP'), ('LGA', 'DTW'), ('LGA', 'STL'), ('LGA', 'MCO'), ('LGA', 'CVG'), ('LGA', 'IAH'), ('FLL', 'JFK'), ('SEA', 'JFK'), ('JFK', 'DEN'), ('JFK', 'MCO'), ('JFK', 'TPA'), ('JFK', 'SJU'), ('JFK', 'ATL'), ('JFK', 'SRQ'), ('JFK', 'DCA'), ('JFK', 'DTW'), ('JFK', 'LAX'), ('JFK', 'JAX'), ('JFK', 'CLT'), ('JFK', 'PBI'), ('JFK', 'CLE'), ('JFK', 'IAD'), ('JFK', 'BOS')]\n",
      "Average Degree Centrality: 0.09047619047619045\n"
     ]
    }
   ],
   "source": [
    "# load data\n",
    "airlines = pd.read_csv('00_Data/Airlines.csv', index_col = 0)\n",
    "\n",
    "# initialize graph network\n",
    "FG = nx.from_pandas_edgelist(airlines, source = 'origin', target = 'dest', edge_attr = True)\n",
    "\n",
    "# draw the network\n",
    "nx.draw_networkx(FG)\n",
    "plt.show()\n",
    "\n",
    "# print nodes and edges\n",
    "print('Nodes:', FG.nodes())\n",
    "print('Edges:', FG.edges())\n",
    "\n",
    "# calculate average degree centrality\n",
    "print('Average Degree Centrality:', np.mean(np.asarray(list(nx.algorithms.degree_centrality(FG).values()))))"
   ]
  },
  {
   "cell_type": "markdown",
   "metadata": {},
   "source": [
    "# 5 Model Assessment"
   ]
  },
  {
   "cell_type": "markdown",
   "metadata": {},
   "source": [
    "## 5.1 Log Loss Function\n",
    "- Description: The Log Loss Function is used to measure the performance of a classification model where the prediction is a probability between 0 and 1.\n",
    "- Functionality:\n",
    "    * We penalize wrong predictions by adding to the loss function and do not increase the loss function if a correct prediction was made by the classification model.\n",
    "    * Formula: $logloss = \\frac{1}{N} \\sum_{i=1}^{N} \\sum_{i=1}^{M} y_{ij} ln(p_{ij})$ where $N$ is the number of objects to classify, $M$ is the number of classes, $y_{ij}$ is 1 if the object $i$ belongs the the class $j$ and 0 otherwise, and $p_{ij}$ is the predicted probability that object $i$ belongs to class $j$."
   ]
  },
  {
   "cell_type": "markdown",
   "metadata": {},
   "source": [
    "## 5.2 Accuracy, Precision, Recall, F1, R Squared Scores\n",
    "- Confusion Matrix:\n",
    "\n",
    "<img src=\"https://miro.medium.com/max/1594/1*CPnO_bcdbE8FXTejQiV2dg.png\"\n",
    "     width=\"500\" height=\"300\" />\n",
    "     \n",
    "- Accuracy:\n",
    "    * Fraction of predictions our model got right\n",
    "    * Good measure to report to senior leadership as its an intuitive way of measuring performance\n",
    "    * $Accuracy = \\frac{n~correct~predictions}{n~total~preductions}$\n",
    "- Recall:\n",
    "    * How many of the actual positive cases did we find\n",
    "    * Good measure to determine model accuracy, when the cost of False Negative is high (i.e. fraud detection)\n",
    "    * $Recall = \\frac{True~Positive}{True~Positive + False~Negative} = \\frac{True~Positive}{Total~Actual~Positive}$\n",
    "- Precision:\n",
    "    * Of all our predicted positive cases, how many of them are actual positive cases\n",
    "    * Good measure to determine model accuracy, when the costs of False Positive is high (i.e. email spam detection)\n",
    "    * $Precision = \\frac{True~Positive}{True~Positive + False~Positive} = \\frac{True~Positive}{Total~Predicted~Positive}$\n",
    "- F1: \n",
    "    * Weighed average of precision and recall\n",
    "    * Good measure when you want to seek a balance between Precision and Recall\n",
    "    * $F1 = 2 * \\frac{Precision * Recall}{Precision + Recall}$\n",
    "- R Squared:\n",
    "    * Provides a measure of how well observed outcomes are replicated by a model\n",
    "    * Measures the proportion of the variance in the target variable that is predictable from the model's features\n",
    "    * Adjusted R Squared takes into consideration the number of predictors, accounting for overfitting\n",
    "    * $ R^2 = 1 - \\frac{SSE}{SSE + SSR} = 1 - \\frac{SSR}{SST}$\n",
    "        * SSE (sum of squares of residuals): Measures the unexplained variance of the model, hence the standard deviation of the error $\\sum{(y_i - \\hat{y})}$\n",
    "        * SSR (sum of squares of regression): Meaures the explained variance of the model $\\sum{(\\hat{y_i} - \\bar{y})}$\n",
    "        * SST (total sum of squares): Measures the total variance of the data $\\sum{(y_i - \\bar{y})}$"
   ]
  },
  {
   "cell_type": "markdown",
   "metadata": {},
   "source": [
    "## 5.3 Root Mean Square Error\n",
    "- Description: The Root Mean Square Error (RMSE) is used to measure the performance of regression models.\n",
    "- Functionality: \n",
    "    * Measured the differences between predicted values by a model and the actual values\n",
    "    * The RMSE will have the the same unit as the dependent variable, meaning that there is no absolute good or bad value    \n",
    "    * The formulat to find the RMSE is: $RMSE = \\sqrt{\\sum_{i=1}^{N} \\frac{(\\hat{y_i} - y_i)^2}{N}}$\n",
    "    * There are different variations of this formula (i.e. Mean Squared Error)\n",
    "    * MSE consists of the summ of the variance of of the function, its squared bias and the irreducible error\n",
    "- Application:\n",
    "    * Training set: Use training dataset to train model, and apply model to test dataset to predict; then measure error between prediction and actual\n",
    "    * Test set: Use train dataset to train model and apply the model back to the train data for predictions; then measure error between prediction and actual\n",
    "    * Cross-Validation: See below"
   ]
  },
  {
   "cell_type": "markdown",
   "metadata": {},
   "source": [
    "## 5.4 Cross Validation\n",
    "- Description: Cross Validation is a resampling procedure used 1) to determine how well a model can be expected to perform on new data or 2) to find the minimum point of the training error to select the best hyperparameters or models\n",
    "- Functionality:\n",
    "    * We first split all our data into a training and test data set\n",
    "    * Random: Randomly divide training data into training and validation data\n",
    "    * K-fold:\n",
    "        * We then divide our training data into k-folds, with k being some arbitrary number\n",
    "        * Assume we have 5 folds, so we will train the model on 4 folds and evaluate its performance on the the last fold\n",
    "        * We repeat this process 4 more times (for the remaining folds), iterating over the 4 training and 1 test folds\n",
    "        * Once the 5 models were fit, we combine the validation results by i.e. averaging the results of the 5 rounds to give an estimate of the model's predictive performance\n",
    "        * Consider variance-bias trade-off when selecting k: the higher k the higher the variance and the lower the bias because the fitted models are very similar with higher k because the underlying data is almost the same"
   ]
  },
  {
   "cell_type": "markdown",
   "metadata": {},
   "source": [
    "## 5.5 Overfitting vs. Underfitting \n",
    "- Variance refers to the amount by which the model would change if we introduced it to new training data (how closely does our model model the data points) vs. Bias refers to the error by approximating a real-world problem with a much simpler model\n",
    "- In general, the more flexible/complicated a model is, the higher its variance and the lower its bias\n",
    "- Overfitting: \n",
    "    * Modeling error occuring when a model is too closely fit to the training set data points and hence captures its noise due to its high complexity\n",
    "    * The model suffers from high variance, meaning that the model will be inconsistent over different training/testing sets\n",
    "    * Identification: $training~error > test~error$ OR $CV~error > training~set~error$\n",
    "    * Counter-measure: Decrease the model complexity, increase the minimum samples per leaf\n",
    "- Underfitting:\n",
    "    * Modeling error occuring when a model cannot adequately capture the training data and hence does not fit the data well enough\n",
    "    * The model suffers from high bias, meaning that the model will not be predicting with high accuracy\n",
    "    * Identification: $CV~error = training~set~error > test~set~error$\n",
    "    * Counter-measure: Increase the model complexity, decrease the minimum samples per leaf"
   ]
  },
  {
   "cell_type": "markdown",
   "metadata": {},
   "source": [
    "# 6 Data Description\n",
    "\n",
    "This section presents the data that is used to showcase the functionality of the methodologies above."
   ]
  },
  {
   "cell_type": "markdown",
   "metadata": {},
   "source": [
    "## 6.1 Iris\n",
    "This dataset can be accessed through the sklearn package (https://scikit-learn.org/stable/modules/generated/sklearn.datasets.load_iris.html). It includes three iris species with 50 samples each as well as some properties about each flower. One flower species is linearly separable from the other two, but the other two are not linearly separable from each other. The columns in this dataset are: Id, SepalLengthCm, SepalWidthCm, PetalLengthCm, PetalWidthCm, Species."
   ]
  },
  {
   "cell_type": "markdown",
   "metadata": {},
   "source": [
    "## 6.2 Make Moons\n",
    "This dataset can be accessed through the sklearn package (https://scikit-learn.org/stable/modules/generated/sklearn.datasets.make_moons.html). It produces two interleaving half circles."
   ]
  },
  {
   "cell_type": "markdown",
   "metadata": {},
   "source": [
    "## 6.3 Boston\n",
    "This dataset can be accessed through the sklearn package (https://scikit-learn.org/stable/modules/generated/sklearn.datasets.load_boston.html). It includes data on housing prices in Boston."
   ]
  },
  {
   "cell_type": "markdown",
   "metadata": {},
   "source": [
    "## 6.4 Xclara\n",
    "This dataset can be downloaded from Kaggle (https://www.kaggle.com/hdriss/xclara). It includes two coordinates for datapoits that can relatively easily be clusterd into three clusters."
   ]
  },
  {
   "cell_type": "markdown",
   "metadata": {},
   "source": [
    "## 6.5 Movements\n",
    "This dataset includes daily stock movements on 60 S&P500 companies from 2010-01-04 until 2013-10-29."
   ]
  },
  {
   "cell_type": "markdown",
   "metadata": {},
   "source": [
    "## 6.6 Movies\n",
    "This dataset includes information such as release date, plot, and actors on 250 movies and can be accessed through this website: https://query.data.world/s/uikepcpffyo2nhig52xxeevdialfl7."
   ]
  },
  {
   "cell_type": "markdown",
   "metadata": {},
   "source": [
    "## 6.7 Music\n",
    "This dataset includes information on 100 songs and some of their audio features. The dataset was crawled from Spotify's Developers API."
   ]
  },
  {
   "cell_type": "markdown",
   "metadata": {},
   "source": [
    "## 6.8 Credit\n",
    "This dataset includes 10,000 credit card transactions. A small number of the transactions are fraudulent. The dataset comes with 25 features of the transactions."
   ]
  },
  {
   "cell_type": "markdown",
   "metadata": {},
   "source": [
    "## 6.9 Arilines\n",
    "This dataset includes 100 flights including 18 features about the flight, such as origin, destination, and distance."
   ]
  },
  {
   "cell_type": "markdown",
   "metadata": {},
   "source": [
    "# 7 Miscellaneous"
   ]
  },
  {
   "cell_type": "markdown",
   "metadata": {},
   "source": [
    "## 7.1 Grid Search\n",
    "- Application: Grid Search is used to find the optimal hyperparameters of a model which results in the most accurate predictions\n",
    "- Description:\n",
    "    * Parameters: Internal characteristic of a model, meaning it can be estimated from the data (i.e. beta coefficients for linear regression)\n",
    "    * Hyperparameters: Characteristic of a model that is external, meaning it cannot be estimated from the data. The hyperparameter needs to be determined when fitting the model (i.e. k for KNN)"
   ]
  },
  {
   "cell_type": "code",
   "execution_count": 105,
   "metadata": {},
   "outputs": [],
   "source": [
    "from sklearn.tree import DecisionTreeClassifier\n",
    "from sklearn.ensemble import RandomForestClassifier\n",
    "from sklearn.ensemble import GradientBoostingClassifier\n",
    "from sklearn.model_selection import GridSearchCV"
   ]
  },
  {
   "cell_type": "code",
   "execution_count": 124,
   "metadata": {},
   "outputs": [
    {
     "name": "stdout",
     "output_type": "stream",
     "text": [
      "best parameters are: DecisionTreeClassifier(class_weight=None, criterion='gini', max_depth=5,\n",
      "                       max_features=None, max_leaf_nodes=10,\n",
      "                       min_impurity_decrease=0.0, min_impurity_split=None,\n",
      "                       min_samples_leaf=1, min_samples_split=2,\n",
      "                       min_weight_fraction_leaf=0.0, presort=False,\n",
      "                       random_state=None, splitter='best')\n",
      "best parameters are: RandomForestClassifier(bootstrap=True, class_weight=None, criterion='gini',\n",
      "                       max_depth=5, max_features='auto', max_leaf_nodes=40,\n",
      "                       min_impurity_decrease=0.0, min_impurity_split=None,\n",
      "                       min_samples_leaf=1, min_samples_split=2,\n",
      "                       min_weight_fraction_leaf=0.0, n_estimators=10,\n",
      "                       n_jobs=None, oob_score=False, random_state=None,\n",
      "                       verbose=0, warm_start=False)\n",
      "best parameters are: GradientBoostingClassifier(criterion='friedman_mse', init=None,\n",
      "                           learning_rate=0.1, loss='deviance', max_depth=5,\n",
      "                           max_features=None, max_leaf_nodes=30,\n",
      "                           min_impurity_decrease=0.0, min_impurity_split=None,\n",
      "                           min_samples_leaf=1, min_samples_split=2,\n",
      "                           min_weight_fraction_leaf=0.0, n_estimators=100,\n",
      "                           n_iter_no_change=None, presort='auto',\n",
      "                           random_state=None, subsample=1.0, tol=0.0001,\n",
      "                           validation_fraction=0.1, verbose=0,\n",
      "                           warm_start=False)\n"
     ]
    }
   ],
   "source": [
    "# load data\n",
    "iris = load_iris()\n",
    "iris = pd.concat([pd.DataFrame(iris['data'], columns = [\"SepalLengthCm\", \"SepalWidthCm\", \"PetalLengthCm\", \"PetalWidthCm\"]), pd.DataFrame(iris['target'], columns = ['Species'])],\n",
    "                axis = 1)\n",
    "y = iris['Species']\n",
    "x = iris[[\"SepalLengthCm\", \"SepalWidthCm\", \"PetalLengthCm\", \"PetalWidthCm\"]].values\n",
    "\n",
    "# initialize models\n",
    "models = {'dt': DecisionTreeClassifier(), 'rf': RandomForestClassifier(), 'gb': GradientBoostingClassifier()}\n",
    "\n",
    "# set parameters for each model\n",
    "params = {'dt' : {'criterion':('gini', 'entropy'), 'max_depth':[5,7,9,11,13,15,None], 'max_leaf_nodes':list(range(10,100,5))},\n",
    "          'rf': {'criterion':('gini', 'entropy'), 'max_depth':[5,7,9,11,13,15,None], 'max_leaf_nodes':list(range(10,100,5))},\n",
    "          'gb': {'max_depth':[5,7,9,11,13,15,None], 'max_leaf_nodes':list(range(10,100,5))}}\n",
    "          \n",
    "# run grid search for each model\n",
    "def fit(x_train, y_train):\n",
    "    \"\"\"\n",
    "    fits the list of models to the training data, thereby obtaining in each case an evaluation score after GridSearchCV cross-validation\n",
    "    \"\"\"\n",
    "    for name in models.keys():\n",
    "        est = models[name]\n",
    "        est_params = params[name]\n",
    "        gscv = GridSearchCV(estimator = est, param_grid = est_params, cv = 5)\n",
    "        gscv.fit(x_train, y_train)\n",
    "        print(\"best parameters are: {}\".format(gscv.best_estimator_))\n",
    "\n",
    "# apply function\n",
    "fit(x, y)"
   ]
  },
  {
   "cell_type": "markdown",
   "metadata": {},
   "source": [
    "## 7.2 Newton-Raphson\n",
    "- Application: Newton-Rapshon is applied to approximate roots of a function (i.e. Log-Likelihood function)\n",
    "- Description: Newton-Raphson method approximates $f(x)$ with Taylor expansion in the vicinity of the previous iteration\n",
    "- Functionality:\n",
    "    * We choose an intitial value $x_0$ for the algorithm\n",
    "    * We write and adjust the Taylor expansion to be: $x_{i+1} = x_i - \\frac{f(x_i)}{f'(x_i)}$\n",
    "    * We check the stopping condition $|x_{i+1} - x_i| \\leq \\epsilon$, where $\\epsilon$ is a preselected small number\n",
    "    \n",
    "<img src=\"https://media.geeksforgeeks.org/wp-content/cdn-uploads/newtonRaphsonMethod.png\"\n",
    "     width=\"500\" height=\"300\" />   \n",
    "- Limitations: This method requires the derivative of the original function, which can be very complicated. Also the initial guess needs to be fairly accurate"
   ]
  },
  {
   "cell_type": "code",
   "execution_count": 101,
   "metadata": {},
   "outputs": [
    {
     "name": "stdout",
     "output_type": "stream",
     "text": [
      "The two roots are -0.81 and 2.47.\n"
     ]
    },
    {
     "data": {
      "image/png": "[encoded data removed]",
      "text/plain": [
       "<Figure size 432x288 with 1 Axes>"
      ]
     },
     "metadata": {
      "needs_background": "light"
     },
     "output_type": "display_data"
    }
   ],
   "source": [
    "# define newton raphson optimizer\n",
    "def newton_raphson(start_value, input_function, epsilon):\n",
    "    x0 = start_value\n",
    "    x1 = x0 - (input_function(x0) / ((input_function(x0 + 0.0000001) - input_function(x0)) / (0.0000001)))\n",
    "    while (abs(x1 - x0) > epsilon):\n",
    "        x0 = x1\n",
    "        x1 = x0 - (input_function(x0) / ((input_function(x0 + 0.0000001) - input_function(x0)) / (0.0000001)))\n",
    "    return x1\n",
    "\n",
    "# create test function\n",
    "def test_func(x_input):\n",
    "    return x_input**2 * 3 - x_input*5 - 6\n",
    "\n",
    "# plot test function\n",
    "x = np.arange(-5, 5, 0.1)\n",
    "plot = plt.plot(x, [test_func(i) for i in x])\n",
    "plot = plt.axhline(y=0, color='k')\n",
    "\n",
    "# calculate roots\n",
    "print('The two roots are {:.2f} and {:.2f}.'.format(newton_raphson(-2, test_func, 0.00001), newton_raphson(2, test_func, 0.00001)))"
   ]
  },
  {
   "cell_type": "markdown",
   "metadata": {},
   "source": [
    "## 7.3 Stats Background"
   ]
  },
  {
   "cell_type": "markdown",
   "metadata": {},
   "source": [
    "### 7.3.1 General\n",
    "- **Prediction**: Whats the price of the house given its features vs. **Inference**: How do certain features affect the price\n",
    "- **Parametric method**: Make assumption about the shape of our function, then find the best parameters for that function (i.e. $\\beta_i$ for linear regression) vs. **Non-Parametric method**: no assumption about the shape of our function so large number of observation is needed to obtain accurate estimate of the function (i.e. KNN)\n",
    "- **Joint probability**: Probability of two events occurring simultaneously vs. **Marginal probability**: Probability of an event irrespective of the outcome of another variable vs. **Conditional probability**: Probability of one event occurring in the presence of a second event\n",
    "- **Degrees of freedom**: Refer to the number of free parameters in i.e. a model\n",
    "- **Prospective sampling**: Fix the predictors first then observe the outpu vs. **Retrospective smapling**: Fix the outcome first then observe the predictors"
   ]
  },
  {
   "cell_type": "markdown",
   "metadata": {},
   "source": [
    "### 7.3.2 Distributions\n",
    "- Uniform:\n",
    "    * Description: All events are equally likely on an interval of [a, b]\n",
    "    * Parameters: $a$ - lower bound, $b$ - upper bound\n",
    "- Binomial:\n",
    "    * Description: Sequence of Bernoulli trials counting the number of successes in a sequence of n independent experiments\n",
    "    * Parameters: $n$ - number of trials, $p$ - success probability for each trial\n",
    "- Normal:\n",
    "    * Description: Bell shaped distribution without tails\n",
    "    * Parameters: $\\mu$ - mean, $\\sigma^2$ - variance\n",
    "- Student t-distribution:\n",
    "    * Description: Bell shaped distribution with fatter tails, meaning that it is more prone to producing values that fall far from its mean; standard deviation unknown\n",
    "    * Parameters: $v$ - degrees of freedom\n",
    "- Chi-Squared:\n",
    "    * Description: Right tail is fat, the higher the degrees of freedom, the colser we get to the normal distribution; used for hypothesis testing\n",
    "    * Parameters: $k$ - degrees of freedom = mean\n",
    "- Exponential:\n",
    "    * Description: Probability distribution of time between events, i.e. a process in which events occur continuously and independently at a constant average rate\n",
    "    * Parameters: $\\lambda$ - scale; mean = $\\frac{1}{\\lambda}$\n",
    "- Poisson:\n",
    "    * Description: Sequence of many Bernoulli trials where success becomes a rare event; if we increase lambda it quickly becomes a normal distribution\n",
    "    * Parameters: $\\lambda$ - expected number of events per unit of time = mean\n",
    "- Negative Binomial:\n",
    "    * Description: Sequence of many Bernoulli trials counting the number of failures before achieving a given number of successes \n",
    "    * Parameters: $r$ - number of successes until the trial is stopped\n",
    "- Gamma:\n",
    "    * Description:$\\chi^2$ and exponential distribution are special cases of the gamma distribution\n",
    "    * Parameters: $\\alpha$ - shape; $\\theta$ - scale or $\\beta$ - scale depending on probability density function"
   ]
  },
  {
   "cell_type": "markdown",
   "metadata": {},
   "source": [
    "### 7.3.3 Links\n",
    "- The link is a funciton $g()$ connecting the linear predictor $\\eta = \\beta_0 + \\sum{\\beta_iX_i}$ and the expected output $\\mu = E[Y]$: $g(\\mu)=\\eta$\n",
    "- In the classical linear model $g(\\mu)=\\mu=\\eta$; the linear predictor and expected outcome are identical, hence the link becomes identical function by construction as a result of least-squared method, since $\\mu$ and $\\eta$ are real numbers\n",
    "- When the output originates from i.e. counts and the distribution is no longer normal but Poisson; in order to still be able to match the domains of the expected outcome and the linear predictor, we use a link: i.e. $log(\\mu) = \\eta$\n",
    "- When the output is binomial the link is usually Logit, Probit, or Complementary log-log\n",
    "- The different transformations only have an impact on a given range\n",
    "- Once the transformation is complete, the relationship between the predictors and the response can be modeled with linear regression"
   ]
  },
  {
   "cell_type": "markdown",
   "metadata": {},
   "source": [
    "### 7.3.4 Maximum Likelihood Estimation\n",
    "- We apply the method of maximum log-likelihood (MLE) to estimate parameters of generalized models rather than the method of minimizing least squares (MLS)\n",
    "- For Gaussian distribution the MLE returns the same results as for MLS, this however is not true for other distributions\n",
    "- We start by assuming a distribution of our output variable (i.e. Gaussian, Poisson) to select the respective likelihood function, which differ for each distribution\n",
    "- We then need to find parameters (i.e. $\\mu$, $\\sigma$) that maximize the respective likelihood function, meaning that we can predict the output $Y$ with the highest likelihood:\n",
    "    * We can apply optimization methods such as $Newton$-$Raphson$ $Method$ that perform a direct search for the maximum of the function\n",
    "    * We can also solve the equation $L'(\\theta, Y) = 0$ with respect to $\\theta$ (all parameters that need to be estimated for that likelihood function)\n",
    "- We can use the likelihood ratio to perform Chi-Squared tests to test if the estimated $\\theta$ is likely to be the true parameter of the function: $-2(L(\\theta_0; Y) - L(\\hat{\\theta}; Y)) ~ Chi(1)$, where $\\theta_0$ - saturated model, $\\hat{\\theta}$ - MLE parameters\n",
    "- Measurement of the goodness of fit:\n",
    "    * The log-likelihood ratio statistic comparing the saturated model with the estimated model is called deviance: $Deviance = 2\\sigma^2(L(\\mu^{saturated}; Y) - L(\\mu^{MLE}; Y)$\n",
    "    * In order to determine whether the deviance is too large/small we compare the deviance against: $df +/- \\sqrt{2*df}$, where $df$ are degrees of freedom\n",
    "    * Null Deviance shows how well the response variable is predicted by a model that includes only the intercept"
   ]
  },
  {
   "cell_type": "markdown",
   "metadata": {},
   "source": [
    "### 7.3.5 Dispersion\n",
    "- Overdispersion: Presence of higher variability than would be expected based on a given model (variance > mean for Poisson) and vice versa for underdispersion\n",
    "- If in a Poisson process, there is over-dispersion, we can fit a negative binomial distribution instead as it then metamorphs into Poisson distribution \n",
    "- Reasons for overdispersion:\n",
    "    * Outliers in the data\n",
    "    * Violation of independent Bernoulli trials or Poisson events\n",
    "    * Time-dependent probability of success in case of binomial distribution or time-dependent intensity of a Poisson process\n",
    "    * Increased number of zeros in the sample\n",
    "- Methods for dealing with overdispersion due to an increase number of zeros:\n",
    "    * **Hurdle model**: Combination of 1) model producing only zeros and 2) model producing only positive counts (zero-truncated model); hurdle models can be based on Poisson or Negative Binomial models\n",
    "    * **Zero-inflated model**: Combination of 1) zero-producing model (logistic) and 2) regular Poisson or Negative Binomial model; $P(y_i = 0) = p_i + (1-p_i)e^{-\\lambda_i}$ and $P(y_i=k) = (1-p_i)\\frac{e^{-\\lambda_i}\\lambda_i^k}{k!}$"
   ]
  },
  {
   "cell_type": "markdown",
   "metadata": {},
   "source": [
    "### 7.3.6 Contingency Tables\n",
    "- Contingency tables are used for $\\chi^2$-test of independency of factors (i.e. is one variable affected be the other)\n",
    "- Contingency tables contain information about joint and marginal distributions\n",
    "- $Y$ needs to be the number of observations observed with the corresponding combinations of factors\n",
    "- We can then calculate the mean count of every cell to build the $\\chi^2$-statistic: $\\chi^2 = \\sum{\\frac{(y_{ij}-\\mu_{ij})^2}{\\mu_{ij}}}$\n",
    "- If this is distributed as $\\chi^2((I-1)(J-1))$, where $I$ and $J$ - number of levels of each factor, the factors are indeed independent \n",
    "- Generilzed linear model (glm) approach:\n",
    "    * If we want to fit a glm, we need to use traditional data tables\n",
    "    * We can also test for independency of features with the glm approach by fitting a saturated model (with interaction terms) and a model without interaction terms; if the two are the same, there is no interaction and the features are hence independent\n",
    "    * Which glm we fit depends on the underlying distribution of the data (i.e. Poisson, Negative Binomial, Multinomial)"
   ]
  },
  {
   "cell_type": "markdown",
   "metadata": {},
   "source": [
    "### 7.3.7 Fixed & Random Effects (lecture 8, 9)"
   ]
  },
  {
   "cell_type": "markdown",
   "metadata": {},
   "source": [
    "## 7.4 Other Notes\n",
    "- **Training MSE** is usually underestimating the test MSE, because we fit the model to the training data, minimizing the error; models with many parameter will explain more variance in the training data, but might be unstable on the test data, hence we measure their performance including the price paid for additional predictors in order to eliminate noisy predictors (i.e. AIC, adjusted $R^2$, BIC)\n",
    "- **Bayes decision boundary**: Classifies an observation to the class for which $p(x)$ is largest; for 2 points the boundary is where the probability is equal to 50%; in general Bayes classifier produces the lowest possible error rate\n",
    "- Regularization:\n",
    "    * **Subset Selection**:\n",
    "        * Fit $p^2$ separate least squared linear regression models for each possible combination of the $p$ predictors and then select the best model\n",
    "        * Selection is based on i.e. CV error, test set error or adjusted $R^2$ to account for the increase in predictors\n",
    "        * This approach is computationally intensive esp. for large $p$ and alternative approaches are: Forward (claculate null model, then calculate all models that contain one additional predictor, choose models with smallest RSS, select best model using cross validation/AIC/BIC) and Backward (claculate full model, then calculate all models that contain all but one predictor, choose models with smallest RSS, select best model using cross validation/AIC/BIC) Selection\n",
    "    * **Shrinkage**:\n",
    "        * See chapters on lasso and ridge regression models\n",
    "    * **Dimension Reduction**:\n",
    "        * Above approach is focused on selecting the right predictors, this approach is focused on transforming the predictors; for more details see section on dimension reduction\n",
    "- Problem of **high-dimensionality data** ($p >> n$): We can perfectly fit our data without any error\n",
    "- Methods to make linear models non-linear:\n",
    "    * **Polynomial regression**: Rasining each of the predictor to a power; i.e. cubic regression uses three variables $X, X^2, X^3$\n",
    "    * **Step functions**: Cut range of a predictor into $K$ distinct regions, producing a qualitative variable to then fit a piecewise constant function\n",
    "    * **Regression splines**: Divide range of predictor into $K$ distinct regions, fit polynomial function within each region, functions are constrained so that they join smoothly at the region boundaries/knots\n",
    "    * **Smoothing splines**: Result from minimizing least squares subject only to a smoothness penalty (second derivative of function/roughness)\n",
    "    * **Local regression**: Divide data into regions based on their neighbors in which unique regressions are built and merged in a smooth way\n",
    "    * **Generalized additive models**: Add different models of multiple predictors; be aware of missing interaction if not specified separately"
   ]
  }
 ],
 "metadata": {
  "kernelspec": {
   "display_name": "Python 3",
   "language": "python",
   "name": "python3"
  },
  "language_info": {
   "codemirror_mode": {
    "name": "ipython",
    "version": 3
   },
   "file_extension": ".py",
   "mimetype": "text/x-python",
   "name": "python",
   "nbconvert_exporter": "python",
   "pygments_lexer": "ipython3",
   "version": "3.7.3"
  }
 },
 "nbformat": 4,
 "nbformat_minor": 4
}
