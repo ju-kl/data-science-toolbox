{
 "cells": [
  {
   "cell_type": "code",
   "execution_count": 3,
   "metadata": {},
   "outputs": [
    {
     "name": "stderr",
     "output_type": "stream",
     "text": [
      "/Users/juliankleindiek/anaconda3/lib/python3.7/site-packages/statsmodels/tools/_testing.py:19: FutureWarning: pandas.util.testing is deprecated. Use the functions in the public API at pandas.testing instead.\n",
      "  import pandas.util.testing as tm\n"
     ]
    }
   ],
   "source": [
    "import pandas as pd\n",
    "import numpy as np\n",
    "import seaborn as sns\n",
    "from matplotlib import pyplot as plt\n",
    "from sklearn import datasets"
   ]
  },
  {
   "cell_type": "markdown",
   "metadata": {},
   "source": [
    "# 5 Deep Learning\n",
    "This section presents several deep learning algorithms in the following way:\n",
    "- Application: When should this algorithm be used?\n",
    "- Description: What does this algorithm do (high-level)?\n",
    "- Functionality: How does this algorithm work (drill-down)?\n",
    "- Limitations: What does one have to keep in mind when using this algorithm?\n",
    "- Example: How is this algorithm applied?"
   ]
  },
  {
   "cell_type": "markdown",
   "metadata": {},
   "source": [
    "## 5.1 Artificial Neural Networks\n",
    "- Application: An Artificial Neural Network (also called neural network) is used for non-linear regression and classification tasks\n",
    "- Description: Inspired by the human brain, neurons are connected in a network structure with a customizable width (number of neurons in a layer) and depth (number of layers)\n",
    "- Functionality:\n",
    "    * A **neuron** is a function that maps an input vector to a scalar output via a weight vector, the summation of the input vectors multiplied with the weight vectors, and a nonlinear activation function\n",
    "    * Randomly initialized weights are updated in the iterative learning process via **forward-** and **backpropagation**:\n",
    "        * The goal is to find the point where the cost function is the lowest\n",
    "        * Hence, the backbones of backpropagation are **gradient descent** and the **chain rule**:\n",
    "            1. Find the sum of inputs multiplied with the randomly initialized weights, $u$\n",
    "            2. $u$ is the input to the non-linear activiation function\n",
    "            3. Make a prediction (forward propagation) and claculate the error using a cost function $J$\n",
    "            4. Take the partial derivatives of $J$ by each parameter of the model (weights, biases, activations), using the chain rule\n",
    "            5. Gradients for all parameters are multiplied with the learning rate to update the weights; the error is distributed stepwise from the end of the network to its beginning; the weights that contributed to the error the most will be changed the most\n",
    "            6. Steps 1.-5. are repeated until the minimum of the error function $J$ is found\n",
    "            ![title](img/backpropagation_algorithm.png)\n",
    "    * There are different **activation functions**:\n",
    "        * Step function: Simplest thresholding function, i.e. 0 if $x$ < 0.5 and 1 if $x$ > 0.5\n",
    "        * Sigmoid: Squashes input space to (0,1); advantage: derivatives are easy to compute; con: tends to vanish gradient (very small updates to weights) because its derivative is a normal distribution whose values are close to 0 most of the time; used for binary classification\n",
    "        * Tanh: Converges faster than sigmoid due to symmetry around 0\n",
    "        * ReLU: Converges faster than Tanh or sigmoid, but is non-differentiable in the origin\n",
    "        * Softplus: Smooth version of ReLU, which is differentiable everywhere\n",
    "        * Softmax: Converts raw scores into probabilities and is hence used for multiclass classification at the output layer\n",
    "    * Other design options:\n",
    "        * Dropout: USed for regularization; randomly drops neurons in each layer so that network is trained on remaining neurons only for one batch; in the next batch neurons are dropped again while assuming the weights that were calculated before they were dropped for the previously dropped neurons\n",
    "        * Batch normalizeation: Normalize input data for each layer in order to fight the covariance shift (changing distribution of input data due to parameter changes during training), assuring that all input data is in the same range of values; resulting input has zero mean and unit variance; quicker learning and resistance against vanishing gradients\n",
    "- Limitations: The number of parameters in the network quickly explode for problems such as image recognition; gradients tend to vanish/explode as number of layers increase for some activation functions; require lot of data; prone to overfitting"
   ]
  },
  {
   "cell_type": "code",
   "execution_count": 15,
   "metadata": {},
   "outputs": [],
   "source": [
    "from sklearn.datasets import load_iris\n",
    "from sklearn.model_selection import train_test_split\n",
    "from tensorflow.keras.models import Sequential\n",
    "from tensorflow.keras.layers import Dense, Activation\n",
    "from tensorflow.keras.utils import to_categorical"
   ]
  },
  {
   "cell_type": "code",
   "execution_count": 17,
   "metadata": {},
   "outputs": [],
   "source": [
    "# load data\n",
    "iris = load_iris()\n",
    "\n",
    "# create table\n",
    "df = pd.DataFrame(data=iris.data)\n",
    "df.columns = [iris.feature_names]\n",
    "df['Class'] = iris.target\n",
    "df['Name'] = iris.target_names[iris.target]\n",
    "\n",
    "# take features and target\n",
    "X = iris.data[:, :2]\n",
    "Y = iris.target\n",
    "\n",
    "# train/test split\n",
    "X_train, X_test, y_train, y_test = train_test_split(iris.data, iris.target, test_size=0.3, random_state=0)\n",
    "\n",
    "# one hot encoding for categorical data\n",
    "def one_hot_encode_object_array(arr):\n",
    "    '''One hot encode a numpy array of objects (e.g. strings)'''\n",
    "    uniques, ids = np.unique(arr, return_inverse=True)\n",
    "    return to_categorical(ids, len(uniques))\n",
    "y_train_ohe = one_hot_encode_object_array(y_train)\n",
    "y_test_ohe= one_hot_encode_object_array(y_test)"
   ]
  },
  {
   "cell_type": "code",
   "execution_count": 19,
   "metadata": {},
   "outputs": [
    {
     "name": "stdout",
     "output_type": "stream",
     "text": [
      "Model: \"sequential_1\"\n",
      "_________________________________________________________________\n",
      "Layer (type)                 Output Shape              Param #   \n",
      "=================================================================\n",
      "dense_2 (Dense)              (None, 16)                80        \n",
      "_________________________________________________________________\n",
      "activation_2 (Activation)    (None, 16)                0         \n",
      "_________________________________________________________________\n",
      "dense_3 (Dense)              (None, 3)                 51        \n",
      "_________________________________________________________________\n",
      "activation_3 (Activation)    (None, 3)                 0         \n",
      "=================================================================\n",
      "Total params: 131\n",
      "Trainable params: 131\n",
      "Non-trainable params: 0\n",
      "_________________________________________________________________\n"
     ]
    }
   ],
   "source": [
    "# build model\n",
    "model = Sequential()\n",
    "model.add(Dense(16, input_shape=(4,)))\n",
    "model.add(Activation('sigmoid'))\n",
    "model.add(Dense(3))\n",
    "model.add(Activation('softmax'))\n",
    "\n",
    "# show model\n",
    "model.summary()"
   ]
  },
  {
   "cell_type": "code",
   "execution_count": 25,
   "metadata": {},
   "outputs": [
    {
     "name": "stdout",
     "output_type": "stream",
     "text": [
      "Train on 105 samples\n",
      "Epoch 1/20\n",
      "105/105 - 0s - loss: 0.0479 - accuracy: 0.9714\n",
      "Epoch 2/20\n",
      "105/105 - 0s - loss: 0.0469 - accuracy: 0.9810\n",
      "Epoch 3/20\n",
      "105/105 - 0s - loss: 0.0467 - accuracy: 0.9714\n",
      "Epoch 4/20\n",
      "105/105 - 0s - loss: 0.0517 - accuracy: 0.9810\n",
      "Epoch 5/20\n",
      "105/105 - 0s - loss: 0.0463 - accuracy: 0.9810\n",
      "Epoch 6/20\n",
      "105/105 - 0s - loss: 0.0446 - accuracy: 0.9810\n",
      "Epoch 7/20\n",
      "105/105 - 0s - loss: 0.0464 - accuracy: 0.9619\n",
      "Epoch 8/20\n",
      "105/105 - 0s - loss: 0.0479 - accuracy: 0.9810\n",
      "Epoch 9/20\n",
      "105/105 - 0s - loss: 0.0450 - accuracy: 0.9810\n",
      "Epoch 10/20\n",
      "105/105 - 0s - loss: 0.0500 - accuracy: 0.9714\n",
      "Epoch 11/20\n",
      "105/105 - 0s - loss: 0.0497 - accuracy: 0.9714\n",
      "Epoch 12/20\n",
      "105/105 - 0s - loss: 0.0475 - accuracy: 0.9810\n",
      "Epoch 13/20\n",
      "105/105 - 0s - loss: 0.0483 - accuracy: 0.9714\n",
      "Epoch 14/20\n",
      "105/105 - 0s - loss: 0.0485 - accuracy: 0.9714\n",
      "Epoch 15/20\n",
      "105/105 - 0s - loss: 0.0486 - accuracy: 0.9714\n",
      "Epoch 16/20\n",
      "105/105 - 0s - loss: 0.0446 - accuracy: 0.9810\n",
      "Epoch 17/20\n",
      "105/105 - 0s - loss: 0.0451 - accuracy: 0.9810\n",
      "Epoch 18/20\n",
      "105/105 - 0s - loss: 0.0481 - accuracy: 0.9714\n",
      "Epoch 19/20\n",
      "105/105 - 0s - loss: 0.0453 - accuracy: 0.9810\n",
      "Epoch 20/20\n",
      "105/105 - 0s - loss: 0.0477 - accuracy: 0.9905\n"
     ]
    },
    {
     "data": {
      "text/plain": [
       "<tensorflow.python.keras.callbacks.History at 0x141cad2b0>"
      ]
     },
     "execution_count": 25,
     "metadata": {},
     "output_type": "execute_result"
    }
   ],
   "source": [
    "# compile model\n",
    "model.compile(optimizer='adam', loss='categorical_crossentropy', metrics=[\"accuracy\"])\n",
    "\n",
    "# train model\n",
    "model.fit(X_train, y_train_ohe, epochs=20, batch_size=1, verbose=2)"
   ]
  },
  {
   "cell_type": "code",
   "execution_count": 26,
   "metadata": {},
   "outputs": [
    {
     "name": "stdout",
     "output_type": "stream",
     "text": [
      "Accuracy = 0.98\n"
     ]
    }
   ],
   "source": [
    "# evaluate model\n",
    "loss, accuracy = model.evaluate(X_test, y_test_ohe, verbose=0)\n",
    "print(\"Accuracy = {:.2f}\".format(accuracy))"
   ]
  },
  {
   "cell_type": "markdown",
   "metadata": {},
   "source": [
    "## 5.2 Convolutional Neural Network\n",
    "- Application: Convolutional Neural Networks (CNN) are used for computer vision (i.e. object detection, image classification) and NLP\n",
    "- Description: In contrast to an ANN, a CNN doesn't have fully connected layers but rather sparse connections via kernels\n",
    "- Functionality:\n",
    "    * The key principles are **sparse connections** and **parameter sharing**:\n",
    "        1. Apply a randomly initialized kernel to input image\n",
    "        2. Kernel acts as a filter that is convoluted with the input image, resulting in a new output referred to as feature map; a filter can output multiple feature maps called channels depending on the configuration of the network; this step extracts features from the input image\n",
    "        3. The feature map will serve as input to the next layer, meaning that trasnformed features are carried along in the network\n",
    "        4. There can be multiple layers of kernels in a CNN that each create their own feature map; the output may shrink and the number of channels may grow as more convolutions are applied to original input\n",
    "        5. The kernels are trained via feedforward and backpropagation and get better in extracting relevant information from an image\n",
    "        6. Dense layer with softmax activiation can be used to output probabilities\n",
    "    * Sparse connections solve the problem of dimensionality for ANNs and the earlier layers preserve spatial information, which is however not maintained throughout the network\n",
    "    * Stride: Amount of pixels by which the filter shifts; controls how the filter convolves over the original image (i.e. stride of 1, the filter moves around the input image by shifting one unit at a time); controls the size of the resulting image (the higher the stride, the smaller the output)\n",
    "    * Padding: Add values around the input to have a desired output\n",
    "    * Pooling: Downsizes feature maps to make computations more efficient; take max/min of subregions; doesn't affect the number of feature maps, but their pixel size \n",
    "- Limitations: CNNs do not encode the position and orientation of the object into their predictions; challenge to classify if images are rotated"
   ]
  },
  {
   "cell_type": "code",
   "execution_count": 38,
   "metadata": {},
   "outputs": [],
   "source": [
    "import keras\n",
    "import tensorflow\n",
    "from tensorflow.keras import backend as K\n",
    "from tensorflow.keras.datasets import mnist\n",
    "from tensorflow.keras.models import Sequential\n",
    "from tensorflow.keras.layers import Dense, Dropout, Flatten, BatchNormalization\n",
    "from tensorflow.keras.layers import Conv2D, MaxPooling2D"
   ]
  },
  {
   "cell_type": "code",
   "execution_count": 39,
   "metadata": {},
   "outputs": [
    {
     "name": "stdout",
     "output_type": "stream",
     "text": [
      "x_train shape: (60000, 28, 28, 1)\n",
      "60000 train samples\n",
      "10000 test samples\n"
     ]
    }
   ],
   "source": [
    "# load data\n",
    "(x_train, y_train), (x_test, y_test) = mnist.load_data()\n",
    "\n",
    "# input image dimensions\n",
    "img_rows, img_cols = 28, 28\n",
    "\n",
    "# number of classes\n",
    "num_classes = 10\n",
    "\n",
    "# define input shape\n",
    "if K.image_data_format() == 'channels_first':\n",
    "    x_train = x_train.reshape(x_train.shape[0], 1, img_rows, img_cols)\n",
    "    x_test = x_test.reshape(x_test.shape[0], 1, img_rows, img_cols)\n",
    "    input_shape = (1, img_rows, img_cols)\n",
    "else:\n",
    "    x_train = x_train.reshape(x_train.shape[0], img_rows, img_cols, 1)\n",
    "    x_test = x_test.reshape(x_test.shape[0], img_rows, img_cols, 1)\n",
    "    input_shape = (img_rows, img_cols, 1)\n",
    "\n",
    "# change type\n",
    "x_train = x_train.astype('float32')\n",
    "x_test = x_test.astype('float32')\n",
    "\n",
    "# normalization (255 is max value)\n",
    "x_train /= 255\n",
    "x_test /= 255\n",
    "print('x_train shape:', x_train.shape)\n",
    "print(x_train.shape[0], 'train samples')\n",
    "print(x_test.shape[0], 'test samples')\n",
    "\n",
    "# convert class vectors to binary class matrices\n",
    "y_train = keras.utils.to_categorical(y_train, num_classes)\n",
    "y_test = keras.utils.to_categorical(y_test, num_classes)"
   ]
  },
  {
   "cell_type": "code",
   "execution_count": 40,
   "metadata": {},
   "outputs": [
    {
     "name": "stdout",
     "output_type": "stream",
     "text": [
      "Model: \"sequential_4\"\n",
      "_________________________________________________________________\n",
      "Layer (type)                 Output Shape              Param #   \n",
      "=================================================================\n",
      "conv2d_4 (Conv2D)            (None, 26, 26, 32)        320       \n",
      "_________________________________________________________________\n",
      "batch_normalization_2 (Batch (None, 26, 26, 32)        128       \n",
      "_________________________________________________________________\n",
      "conv2d_5 (Conv2D)            (None, 24, 24, 64)        18496     \n",
      "_________________________________________________________________\n",
      "max_pooling2d_2 (MaxPooling2 (None, 12, 12, 64)        0         \n",
      "_________________________________________________________________\n",
      "dropout_4 (Dropout)          (None, 12, 12, 64)        0         \n",
      "_________________________________________________________________\n",
      "flatten_2 (Flatten)          (None, 9216)              0         \n",
      "_________________________________________________________________\n",
      "dense_8 (Dense)              (None, 128)               1179776   \n",
      "_________________________________________________________________\n",
      "dropout_5 (Dropout)          (None, 128)               0         \n",
      "_________________________________________________________________\n",
      "dense_9 (Dense)              (None, 10)                1290      \n",
      "=================================================================\n",
      "Total params: 1,200,010\n",
      "Trainable params: 1,199,946\n",
      "Non-trainable params: 64\n",
      "_________________________________________________________________\n"
     ]
    }
   ],
   "source": [
    "# build model\n",
    "model = Sequential()\n",
    "model.add(Conv2D(32, kernel_size=(3,3), activation=\"relu\", input_shape=input_shape))\n",
    "model.add(BatchNormalization())\n",
    "model.add(Conv2D(64, (3, 3), activation=\"relu\"))\n",
    "model.add(MaxPooling2D(pool_size=(2, 2)))\n",
    "model.add(Dropout(0.25))\n",
    "model.add(Flatten())\n",
    "model.add(Dense(128, activation=\"relu\"))\n",
    "model.add(Dropout(0.5))\n",
    "model.add(Dense(num_classes, activation=\"softmax\"))\n",
    "\n",
    "# compile model\n",
    "model.compile(loss=keras.losses.categorical_crossentropy,\n",
    "              optimizer=tensorflow.keras.optimizers.Adadelta(),\n",
    "              metrics=['accuracy'])\n",
    "\n",
    "# model summary\n",
    "model.summary()"
   ]
  },
  {
   "cell_type": "code",
   "execution_count": 41,
   "metadata": {},
   "outputs": [
    {
     "name": "stdout",
     "output_type": "stream",
     "text": [
      "Train on 60000 samples, validate on 10000 samples\n",
      "Epoch 1/12\n",
      "60000/60000 [==============================] - 117s 2ms/sample - loss: 2.4696 - accuracy: 0.1848 - val_loss: 2.0005 - val_accuracy: 0.4948\n",
      "Epoch 2/12\n",
      "60000/60000 [==============================] - 116s 2ms/sample - loss: 1.8689 - accuracy: 0.3617 - val_loss: 1.3938 - val_accuracy: 0.7177\n",
      "Epoch 3/12\n",
      "60000/60000 [==============================] - 148s 2ms/sample - loss: 1.5353 - accuracy: 0.4938 - val_loss: 1.0563 - val_accuracy: 0.7981\n",
      "Epoch 4/12\n",
      "60000/60000 [==============================] - 121s 2ms/sample - loss: 1.2960 - accuracy: 0.5807 - val_loss: 0.8307 - val_accuracy: 0.8311\n",
      "Epoch 5/12\n",
      "60000/60000 [==============================] - 170s 3ms/sample - loss: 1.1176 - accuracy: 0.6425 - val_loss: 0.6797 - val_accuracy: 0.8524\n",
      "Epoch 6/12\n",
      "60000/60000 [==============================] - 127s 2ms/sample - loss: 0.9952 - accuracy: 0.6792 - val_loss: 0.5814 - val_accuracy: 0.8678\n",
      "Epoch 7/12\n",
      "60000/60000 [==============================] - 126s 2ms/sample - loss: 0.8980 - accuracy: 0.7138 - val_loss: 0.5139 - val_accuracy: 0.8802\n",
      "Epoch 8/12\n",
      "60000/60000 [==============================] - 156s 3ms/sample - loss: 0.8251 - accuracy: 0.7361 - val_loss: 0.4648 - val_accuracy: 0.8887\n",
      "Epoch 9/12\n",
      "60000/60000 [==============================] - 222s 4ms/sample - loss: 0.7697 - accuracy: 0.7548 - val_loss: 0.4273 - val_accuracy: 0.8947\n",
      "Epoch 10/12\n",
      "60000/60000 [==============================] - 142s 2ms/sample - loss: 0.7197 - accuracy: 0.7727 - val_loss: 0.3974 - val_accuracy: 0.9006\n",
      "Epoch 11/12\n",
      "60000/60000 [==============================] - 151s 3ms/sample - loss: 0.6860 - accuracy: 0.7839 - val_loss: 0.3740 - val_accuracy: 0.9066\n",
      "Epoch 12/12\n",
      "60000/60000 [==============================] - 132s 2ms/sample - loss: 0.6427 - accuracy: 0.7990 - val_loss: 0.3536 - val_accuracy: 0.9101\n"
     ]
    }
   ],
   "source": [
    "# train model\n",
    "batch_size = 128\n",
    "epochs = 12\n",
    "history = model.fit(x_train, y_train,\n",
    "          batch_size=batch_size,\n",
    "          epochs=epochs,\n",
    "          verbose=1,\n",
    "          validation_data=(x_test, y_test))"
   ]
  },
  {
   "cell_type": "code",
   "execution_count": 42,
   "metadata": {},
   "outputs": [
    {
     "name": "stdout",
     "output_type": "stream",
     "text": [
      "Test loss: [0.3535574447274208, 0.9101]\n"
     ]
    },
    {
     "data": {
      "text/plain": [
       "Text(0.5, 1.0, 'Loss Curves')"
      ]
     },
     "execution_count": 42,
     "metadata": {},
     "output_type": "execute_result"
    },
    {
     "data": {
      "image/png": "[encoded data removed]",
      "text/plain": [
       "<Figure size 576x432 with 1 Axes>"
      ]
     },
     "metadata": {
      "needs_background": "light"
     },
     "output_type": "display_data"
    }
   ],
   "source": [
    "# score\n",
    "score = model.evaluate(x_test, y_test, verbose=0)\n",
    "print('Test loss:', score)\n",
    "\n",
    "# loss curve\n",
    "plt.figure(figsize=[8,6])\n",
    "plt.plot(history.history['loss'],'r',linewidth=3.0)\n",
    "plt.plot(history.history['val_loss'],'b',linewidth=3.0)\n",
    "plt.legend(['Training loss', 'Validation Loss'],fontsize=18)\n",
    "plt.xlabel('Epochs ',fontsize=16)\n",
    "plt.ylabel('Loss',fontsize=16)\n",
    "plt.title('Loss Curves',fontsize=16)"
   ]
  },
  {
   "cell_type": "markdown",
   "metadata": {},
   "source": [
    "## 5.3 Recurrent Neural Network\n",
    "- Application: Recurrent Neural Networks (RNNs) are used for sequence data that is not i.i.d (i.e. language, finance)\n",
    "- Description: RNNs have hidden states that are able to keep track of previous events, enabling them to remember things that happened in the past in order to find patterns accross time when making predictions\n",
    "- Functionality:\n",
    "    * RNNs are neural networks with loops that take information from previous timesteps and add them to the information of the current timestep\n",
    "    * Output of RNNs depend on the hidden states produced by previous inputs/timesteps and the current input/timestep\n",
    "    * Information that is stored in hidden states is called the **memory** of an RNN\n",
    "    * Training steps:\n",
    "        1. A single timestep of the input is provided to the RNN\n",
    "        2. Calculate its current state using the set of current input and the previous state if existing\n",
    "        3. The current $t$ becomes $t-1$ for the next timestep; you can go as many timesteps according to the problem and join the information from all the previous timesteps\n",
    "        4. Once all timesteps are completed the final current state is used to calculate the output\n",
    "        5. Output is then compared to the actual output i.e the target output and the error is calculated\n",
    "        6. The error is then backpropagated to the network to update the weights and hence the network is trained\n",
    "    * Similar to CNNs, parameters are shared in an RNN, so it learns by **backpropagation** of errors through all timesteps across the RNN\n",
    "        * If we calculate the error given our output at each timestep, we need to go back to all prior timesteps in the network that contributed to the calculation of the output of the current timestep (recurrent connections)\n",
    "        * To minimize the error of the output, we have to update the weights of all recurrent connections\n",
    "        * If we have multiple timesteps, we have to multiply the weights of the prior timesteps several times, causing **vanishing gradinets**\n",
    "    * **LSTM** is a special kind of RNN capable of learning long-term dependencies:\n",
    "        * While LSTMs also have recurrent connections, they introduce gates (forget, input, output gates) that controll the flow of information between the timesteps during forward propagation\n",
    "        * This means that they manage how much information of the previous timesteps should be passed on to the current timestep\n",
    "        * In backward propagation, those gates are responsible for controlling the flow of gradients; in that case only the gradients of timesteps that didn't contribute to the output of the current timestep vanish while the other ones don't\n",
    "        * Hence the flow of gradients in backpropagation is allocated the same as the information flow in forwardpropagation\n",
    "- Limitations: Vanishing gradients; training an RNN is very difficult"
   ]
  },
  {
   "cell_type": "code",
   "execution_count": 1,
   "metadata": {},
   "outputs": [],
   "source": [
    "from tensorflow.keras.models import Sequential\n",
    "from tensorflow.keras.layers import Dense, LSTM \n",
    "from sklearn.model_selection import train_test_split"
   ]
  },
  {
   "cell_type": "code",
   "execution_count": 16,
   "metadata": {},
   "outputs": [
    {
     "name": "stdout",
     "output_type": "stream",
     "text": [
      "Features: {} [[0.  ]\n",
      " [0.01]\n",
      " [0.02]\n",
      " [0.03]\n",
      " [0.04]] Target: 0.05\n"
     ]
    }
   ],
   "source": [
    "# generate data\n",
    "data = np.array([[[(i+j)/100] for i in range (5)] for j in range(100)], dtype=float)\n",
    "target = np.array([(i+5)/100 for i in range(100)], dtype=float)\n",
    "\n",
    "# print data\n",
    "print(\"Features: {}\", data[0], \"Target:\", target[0])\n",
    "\n",
    "# train test split\n",
    "x_train, x_test, y_train, y_test = train_test_split (data, target, test_size = 0.2, random_state=4)"
   ]
  },
  {
   "cell_type": "code",
   "execution_count": 17,
   "metadata": {},
   "outputs": [
    {
     "name": "stdout",
     "output_type": "stream",
     "text": [
      "Model: \"sequential_4\"\n",
      "_________________________________________________________________\n",
      "Layer (type)                 Output Shape              Param #   \n",
      "=================================================================\n",
      "lstm_8 (LSTM)                (None, 5, 1)              12        \n",
      "_________________________________________________________________\n",
      "lstm_9 (LSTM)                (None, 1)                 12        \n",
      "=================================================================\n",
      "Total params: 24\n",
      "Trainable params: 24\n",
      "Non-trainable params: 0\n",
      "_________________________________________________________________\n"
     ]
    }
   ],
   "source": [
    "# build model (input shape: no batch size (SGD), input sequence is 5 (5 timesteps), size of prediction is 1)\n",
    "model = Sequential()\n",
    "model.add(LSTM(units=1, batch_input_shape=(None, 5, 1), return_sequences=True))\n",
    "model.add(LSTM(units=1, return_sequences=False))\n",
    "\n",
    "# complie model\n",
    "model.compile (loss='mean_absolute_error', optimizer ='adam', metrics =['accuracy'])\n",
    "\n",
    "# print model summary\n",
    "model.summary()"
   ]
  },
  {
   "cell_type": "code",
   "execution_count": 18,
   "metadata": {},
   "outputs": [],
   "source": [
    "# train\n",
    "history = model.fit(x_train, y_train, epochs=500, validation_data=(x_test, y_test), verbose=0)\n",
    "\n",
    "# predict\n",
    "results = model.predict(x_test)"
   ]
  },
  {
   "cell_type": "code",
   "execution_count": 19,
   "metadata": {},
   "outputs": [
    {
     "data": {
      "image/png": "[encoded data removed]",
      "text/plain": [
       "<Figure size 1440x720 with 2 Axes>"
      ]
     },
     "metadata": {
      "needs_background": "light"
     },
     "output_type": "display_data"
    }
   ],
   "source": [
    "# plot results\n",
    "fig = plt.figure(figsize=(20,10))\n",
    "\n",
    "fig.add_subplot(231)\n",
    "plt.scatter(range(20), results, c='r')\n",
    "plt.scatter(range(20), y_test, c='g')\n",
    "plt.title(\"LSTM Model\")\n",
    "\n",
    "fig.add_subplot(232)\n",
    "plt.plot(history.history['loss'])\n",
    "plt.title(\"Loss\")\n",
    "\n",
    "plt.show()"
   ]
  },
  {
   "cell_type": "markdown",
   "metadata": {},
   "source": [
    "## 5.4 Autoencoder\n",
    "- Application: An autoencoder is used for dimension reduction, image processing, and anomaly detection\n",
    "- Description: An autoencoder is a neural network that learns to copy input to output by training a network that ignores noise\n",
    "- Functionality:\n",
    "    * An autoencoder has a hidden layer that describes a code used to represent the input and comprises two parts: Encoder mapping the input into the code, decoder mapping the code to a reconstruction of the original input\n",
    "    * Copying the input perfectly would just duplicate it, therefore autoencoders usually are restricted in ways that force them to reconstruct the input approximately, preserving only the most relevant aspects of the data\n",
    "    * Anomaly detection use case:\n",
    "        * We can either train the model on normal instances only, or on a dataset with low frequency of anomalies (since their contribution to the representation learnt by the model can be neglected)\n",
    "        * The model is encouraged to learn how to reproduce the most requent characteristics of observations\n",
    "        * When faced with anomalies, the reproduction performance of the model decreases\n",
    "        * After training, the model will be able to reconstruct normal data very well, while failing to do so with anomaly data\n",
    "        * In order to detect anomalies, we calculate the reconstruction error (anomaly scores) of a data point, representing the error between the original data point and its reconstruction by the model\n",
    "- Limitations: An autoencode is not able to identify which information is relevant because it learns to capture as much information as possible rather than as much relevant information as possible"
   ]
  },
  {
   "cell_type": "code",
   "execution_count": 3,
   "metadata": {},
   "outputs": [
    {
     "name": "stderr",
     "output_type": "stream",
     "text": [
      "Using TensorFlow backend.\n"
     ]
    }
   ],
   "source": [
    "from pyod.utils.data import generate_data\n",
    "from pyod.models.auto_encoder import AutoEncoder"
   ]
  },
  {
   "cell_type": "code",
   "execution_count": 4,
   "metadata": {},
   "outputs": [
    {
     "name": "stderr",
     "output_type": "stream",
     "text": [
      "/Users/juliankleindiek/anaconda3/lib/python3.7/site-packages/pyod/utils/data.py:190: FutureWarning: behaviour=\"old\" is deprecated and will be removed in version 0.8.0. Please use behaviour=\"new\", which makes the returned datasets in the order of X_train, X_test, y_train, y_test.\n",
      "  FutureWarning)\n"
     ]
    },
    {
     "name": "stdout",
     "output_type": "stream",
     "text": [
      "Model: \"sequential_1\"\n",
      "_________________________________________________________________\n",
      "Layer (type)                 Output Shape              Param #   \n",
      "=================================================================\n",
      "dense_1 (Dense)              (None, 10)                110       \n",
      "_________________________________________________________________\n",
      "dropout_1 (Dropout)          (None, 10)                0         \n",
      "_________________________________________________________________\n",
      "dense_2 (Dense)              (None, 10)                110       \n",
      "_________________________________________________________________\n",
      "dropout_2 (Dropout)          (None, 10)                0         \n",
      "_________________________________________________________________\n",
      "dense_3 (Dense)              (None, 25)                275       \n",
      "_________________________________________________________________\n",
      "dropout_3 (Dropout)          (None, 25)                0         \n",
      "_________________________________________________________________\n",
      "dense_4 (Dense)              (None, 2)                 52        \n",
      "_________________________________________________________________\n",
      "dropout_4 (Dropout)          (None, 2)                 0         \n",
      "_________________________________________________________________\n",
      "dense_5 (Dense)              (None, 2)                 6         \n",
      "_________________________________________________________________\n",
      "dropout_5 (Dropout)          (None, 2)                 0         \n",
      "_________________________________________________________________\n",
      "dense_6 (Dense)              (None, 25)                75        \n",
      "_________________________________________________________________\n",
      "dropout_6 (Dropout)          (None, 25)                0         \n",
      "_________________________________________________________________\n",
      "dense_7 (Dense)              (None, 10)                260       \n",
      "=================================================================\n",
      "Total params: 888\n",
      "Trainable params: 888\n",
      "Non-trainable params: 0\n",
      "_________________________________________________________________\n",
      "None\n",
      "Train on 450 samples, validate on 50 samples\n",
      "Epoch 1/100\n",
      "450/450 [==============================] - 1s 3ms/step - loss: 34.8802 - val_loss: 22.6650\n",
      "Epoch 2/100\n",
      "450/450 [==============================] - 0s 120us/step - loss: 30.0211 - val_loss: 20.0599\n",
      "Epoch 3/100\n",
      "450/450 [==============================] - 0s 109us/step - loss: 25.4573 - val_loss: 18.1005\n",
      "Epoch 4/100\n",
      "450/450 [==============================] - 0s 92us/step - loss: 23.4964 - val_loss: 16.4037\n",
      "Epoch 5/100\n",
      "450/450 [==============================] - 0s 91us/step - loss: 20.3055 - val_loss: 15.0610\n",
      "Epoch 6/100\n",
      "450/450 [==============================] - 0s 94us/step - loss: 18.7842 - val_loss: 13.8445\n",
      "Epoch 7/100\n",
      "450/450 [==============================] - 0s 156us/step - loss: 16.8528 - val_loss: 12.7546\n",
      "Epoch 8/100\n",
      "450/450 [==============================] - 0s 201us/step - loss: 15.6750 - val_loss: 11.8019\n",
      "Epoch 9/100\n",
      "450/450 [==============================] - 0s 218us/step - loss: 14.4598 - val_loss: 10.9510\n",
      "Epoch 10/100\n",
      "450/450 [==============================] - 0s 233us/step - loss: 13.2859 - val_loss: 10.1904\n",
      "Epoch 11/100\n",
      "450/450 [==============================] - 0s 267us/step - loss: 12.3843 - val_loss: 9.5178\n",
      "Epoch 12/100\n",
      "450/450 [==============================] - 0s 182us/step - loss: 11.6007 - val_loss: 8.8950\n",
      "Epoch 13/100\n",
      "450/450 [==============================] - 0s 225us/step - loss: 10.7859 - val_loss: 8.3698\n",
      "Epoch 14/100\n",
      "450/450 [==============================] - 0s 227us/step - loss: 10.1797 - val_loss: 7.8957\n",
      "Epoch 15/100\n",
      "450/450 [==============================] - 0s 113us/step - loss: 9.6228 - val_loss: 7.4621\n",
      "Epoch 16/100\n",
      "450/450 [==============================] - 0s 228us/step - loss: 9.1033 - val_loss: 7.0781\n",
      "Epoch 17/100\n",
      "450/450 [==============================] - 0s 272us/step - loss: 8.6007 - val_loss: 6.7320\n",
      "Epoch 18/100\n",
      "450/450 [==============================] - 0s 199us/step - loss: 8.1316 - val_loss: 6.4188\n",
      "Epoch 19/100\n",
      "450/450 [==============================] - 0s 145us/step - loss: 7.8797 - val_loss: 6.1300\n",
      "Epoch 20/100\n",
      "450/450 [==============================] - 0s 238us/step - loss: 7.4373 - val_loss: 5.8675\n",
      "Epoch 21/100\n",
      "450/450 [==============================] - 0s 251us/step - loss: 7.0652 - val_loss: 5.6344\n",
      "Epoch 22/100\n",
      "450/450 [==============================] - 0s 189us/step - loss: 6.8358 - val_loss: 5.4178\n",
      "Epoch 23/100\n",
      "450/450 [==============================] - 0s 171us/step - loss: 6.6066 - val_loss: 5.2121\n",
      "Epoch 24/100\n",
      "450/450 [==============================] - 0s 98us/step - loss: 6.3755 - val_loss: 5.0258\n",
      "Epoch 25/100\n",
      "450/450 [==============================] - 0s 229us/step - loss: 6.1339 - val_loss: 4.8525\n",
      "Epoch 26/100\n",
      "450/450 [==============================] - 0s 265us/step - loss: 5.9485 - val_loss: 4.6922\n",
      "Epoch 27/100\n",
      "450/450 [==============================] - 0s 246us/step - loss: 5.7498 - val_loss: 4.5413\n",
      "Epoch 28/100\n",
      "450/450 [==============================] - 0s 196us/step - loss: 5.5624 - val_loss: 4.3974\n",
      "Epoch 29/100\n",
      "450/450 [==============================] - 0s 116us/step - loss: 5.3905 - val_loss: 4.2692\n",
      "Epoch 30/100\n",
      "450/450 [==============================] - 0s 237us/step - loss: 5.1682 - val_loss: 4.1469\n",
      "Epoch 31/100\n",
      "450/450 [==============================] - 0s 95us/step - loss: 5.0932 - val_loss: 4.0303\n",
      "Epoch 32/100\n",
      "450/450 [==============================] - 0s 243us/step - loss: 4.9490 - val_loss: 3.9212\n",
      "Epoch 33/100\n",
      "450/450 [==============================] - 0s 269us/step - loss: 4.8298 - val_loss: 3.8193\n",
      "Epoch 34/100\n",
      "450/450 [==============================] - 0s 136us/step - loss: 4.6092 - val_loss: 3.7231\n",
      "Epoch 35/100\n",
      "450/450 [==============================] - 0s 103us/step - loss: 4.5551 - val_loss: 3.6316\n",
      "Epoch 36/100\n",
      "450/450 [==============================] - 0s 78us/step - loss: 4.4952 - val_loss: 3.5454\n",
      "Epoch 37/100\n",
      "450/450 [==============================] - 0s 81us/step - loss: 4.3610 - val_loss: 3.4630\n",
      "Epoch 38/100\n",
      "450/450 [==============================] - 0s 77us/step - loss: 4.2793 - val_loss: 3.3841\n",
      "Epoch 39/100\n",
      "450/450 [==============================] - 0s 82us/step - loss: 4.2189 - val_loss: 3.3120\n",
      "Epoch 40/100\n",
      "450/450 [==============================] - 0s 81us/step - loss: 4.0777 - val_loss: 3.2413\n",
      "Epoch 41/100\n",
      "450/450 [==============================] - 0s 79us/step - loss: 4.0083 - val_loss: 3.1747\n",
      "Epoch 42/100\n",
      "450/450 [==============================] - 0s 79us/step - loss: 3.9149 - val_loss: 3.1131\n",
      "Epoch 43/100\n",
      "450/450 [==============================] - 0s 80us/step - loss: 3.8141 - val_loss: 3.0525\n",
      "Epoch 44/100\n",
      "450/450 [==============================] - 0s 82us/step - loss: 3.8294 - val_loss: 2.9933\n",
      "Epoch 45/100\n",
      "450/450 [==============================] - 0s 81us/step - loss: 3.7031 - val_loss: 2.9382\n",
      "Epoch 46/100\n",
      "450/450 [==============================] - 0s 81us/step - loss: 3.6321 - val_loss: 2.8853\n",
      "Epoch 47/100\n",
      "450/450 [==============================] - 0s 82us/step - loss: 3.5634 - val_loss: 2.8366\n",
      "Epoch 48/100\n",
      "450/450 [==============================] - 0s 82us/step - loss: 3.5226 - val_loss: 2.7884\n",
      "Epoch 49/100\n",
      "450/450 [==============================] - 0s 85us/step - loss: 3.4843 - val_loss: 2.7419\n",
      "Epoch 50/100\n",
      "450/450 [==============================] - 0s 104us/step - loss: 3.4330 - val_loss: 2.6972\n",
      "Epoch 51/100\n",
      "450/450 [==============================] - 0s 104us/step - loss: 3.3622 - val_loss: 2.6552\n",
      "Epoch 52/100\n",
      "450/450 [==============================] - 0s 133us/step - loss: 3.2906 - val_loss: 2.6141\n",
      "Epoch 53/100\n",
      "450/450 [==============================] - 0s 104us/step - loss: 3.2629 - val_loss: 2.5753\n",
      "Epoch 54/100\n",
      "450/450 [==============================] - 0s 181us/step - loss: 3.2630 - val_loss: 2.5375\n",
      "Epoch 55/100\n",
      "450/450 [==============================] - 0s 244us/step - loss: 3.1943 - val_loss: 2.5003\n",
      "Epoch 56/100\n",
      "450/450 [==============================] - 0s 180us/step - loss: 3.1652 - val_loss: 2.4660\n",
      "Epoch 57/100\n",
      "450/450 [==============================] - 0s 175us/step - loss: 3.0927 - val_loss: 2.4325\n",
      "Epoch 58/100\n",
      "450/450 [==============================] - 0s 227us/step - loss: 3.0557 - val_loss: 2.3998\n",
      "Epoch 59/100\n",
      "450/450 [==============================] - 0s 210us/step - loss: 2.9980 - val_loss: 2.3693\n",
      "Epoch 60/100\n",
      "450/450 [==============================] - 0s 212us/step - loss: 2.9718 - val_loss: 2.3397\n",
      "Epoch 61/100\n",
      "450/450 [==============================] - 0s 213us/step - loss: 2.9439 - val_loss: 2.3109\n",
      "Epoch 62/100\n",
      "450/450 [==============================] - 0s 229us/step - loss: 2.8983 - val_loss: 2.2832\n",
      "Epoch 63/100\n",
      "450/450 [==============================] - 0s 249us/step - loss: 2.8759 - val_loss: 2.2567\n",
      "Epoch 64/100\n",
      "450/450 [==============================] - 0s 138us/step - loss: 2.8441 - val_loss: 2.2300\n",
      "Epoch 65/100\n",
      "450/450 [==============================] - 0s 227us/step - loss: 2.8077 - val_loss: 2.2053\n",
      "Epoch 66/100\n",
      "450/450 [==============================] - 0s 198us/step - loss: 2.7657 - val_loss: 2.1807\n",
      "Epoch 67/100\n",
      "450/450 [==============================] - 0s 268us/step - loss: 2.7610 - val_loss: 2.1573\n",
      "Epoch 68/100\n",
      "450/450 [==============================] - 0s 102us/step - loss: 2.7107 - val_loss: 2.1342\n",
      "Epoch 69/100\n",
      "450/450 [==============================] - 0s 278us/step - loss: 2.6881 - val_loss: 2.1121\n",
      "Epoch 70/100\n",
      "450/450 [==============================] - 0s 230us/step - loss: 2.6653 - val_loss: 2.0907\n",
      "Epoch 71/100\n",
      "450/450 [==============================] - 0s 285us/step - loss: 2.6210 - val_loss: 2.0703\n",
      "Epoch 72/100\n",
      "450/450 [==============================] - 0s 187us/step - loss: 2.6275 - val_loss: 2.0497\n",
      "Epoch 73/100\n",
      "450/450 [==============================] - 0s 97us/step - loss: 2.5851 - val_loss: 2.0301\n",
      "Epoch 74/100\n",
      "450/450 [==============================] - 0s 216us/step - loss: 2.5658 - val_loss: 2.0111\n",
      "Epoch 75/100\n",
      "450/450 [==============================] - 0s 235us/step - loss: 2.5560 - val_loss: 1.9923\n",
      "Epoch 76/100\n",
      "450/450 [==============================] - 0s 201us/step - loss: 2.5355 - val_loss: 1.9743\n",
      "Epoch 77/100\n",
      "450/450 [==============================] - 0s 177us/step - loss: 2.4861 - val_loss: 1.9565\n",
      "Epoch 78/100\n",
      "450/450 [==============================] - 0s 214us/step - loss: 2.4676 - val_loss: 1.9393\n",
      "Epoch 79/100\n",
      "450/450 [==============================] - 0s 213us/step - loss: 2.4763 - val_loss: 1.9227\n",
      "Epoch 80/100\n",
      "450/450 [==============================] - 0s 122us/step - loss: 2.4668 - val_loss: 1.9066\n",
      "Epoch 81/100\n",
      "450/450 [==============================] - 0s 93us/step - loss: 2.4164 - val_loss: 1.8906\n",
      "Epoch 82/100\n",
      "450/450 [==============================] - 0s 121us/step - loss: 2.4234 - val_loss: 1.8747\n",
      "Epoch 83/100\n",
      "450/450 [==============================] - 0s 97us/step - loss: 2.3794 - val_loss: 1.8598\n",
      "Epoch 84/100\n",
      "450/450 [==============================] - 0s 91us/step - loss: 2.3786 - val_loss: 1.8453\n",
      "Epoch 85/100\n",
      "450/450 [==============================] - 0s 88us/step - loss: 2.3482 - val_loss: 1.8310\n",
      "Epoch 86/100\n",
      "450/450 [==============================] - 0s 92us/step - loss: 2.3490 - val_loss: 1.8169\n",
      "Epoch 87/100\n",
      "450/450 [==============================] - 0s 91us/step - loss: 2.3075 - val_loss: 1.8032\n",
      "Epoch 88/100\n",
      "450/450 [==============================] - 0s 94us/step - loss: 2.3038 - val_loss: 1.7898\n",
      "Epoch 89/100\n",
      "450/450 [==============================] - 0s 94us/step - loss: 2.2995 - val_loss: 1.7768\n",
      "Epoch 90/100\n",
      "450/450 [==============================] - 0s 92us/step - loss: 2.2733 - val_loss: 1.7638\n",
      "Epoch 91/100\n",
      "450/450 [==============================] - 0s 86us/step - loss: 2.2597 - val_loss: 1.7515\n",
      "Epoch 92/100\n",
      "450/450 [==============================] - 0s 95us/step - loss: 2.2339 - val_loss: 1.7395\n",
      "Epoch 93/100\n",
      "450/450 [==============================] - 0s 92us/step - loss: 2.2261 - val_loss: 1.7278\n",
      "Epoch 94/100\n",
      "450/450 [==============================] - 0s 143us/step - loss: 2.2054 - val_loss: 1.7159\n",
      "Epoch 95/100\n",
      "450/450 [==============================] - 0s 98us/step - loss: 2.1938 - val_loss: 1.7046\n",
      "Epoch 96/100\n",
      "450/450 [==============================] - 0s 94us/step - loss: 2.1865 - val_loss: 1.6937\n",
      "Epoch 97/100\n",
      "450/450 [==============================] - 0s 97us/step - loss: 2.1894 - val_loss: 1.6826\n",
      "Epoch 98/100\n",
      "450/450 [==============================] - 0s 98us/step - loss: 2.1530 - val_loss: 1.6720\n",
      "Epoch 99/100\n",
      "450/450 [==============================] - 0s 97us/step - loss: 2.1390 - val_loss: 1.6615\n",
      "Epoch 100/100\n",
      "450/450 [==============================] - 0s 83us/step - loss: 2.1237 - val_loss: 1.6514\n"
     ]
    },
    {
     "data": {
      "image/png": "[encoded data removed]",
      "text/plain": [
       "<Figure size 432x288 with 1 Axes>"
      ]
     },
     "metadata": {
      "needs_background": "light"
     },
     "output_type": "display_data"
    }
   ],
   "source": [
    "# create data\n",
    "noise = 0.1\n",
    "n_train = 500\n",
    "n_test = 500\n",
    "n_features = 10\n",
    "X_train, y_train, X_test, y_test = generate_data(n_train = n_train, n_test = n_test, n_features = n_features, contamination= noise)\n",
    "X_train = pd.DataFrame(X_train)\n",
    "X_test = pd.DataFrame(X_test)\n",
    "\n",
    "# initialize autoencoder (input and output layer has 25 neurons each, there are two hidden layers with each two neurons)\n",
    "ae = AutoEncoder(hidden_neurons = [25, 2, 2, 25])\n",
    "\n",
    "# fit autoencoder\n",
    "ae.fit(X_train)\n",
    "\n",
    "# find outliers in train data\n",
    "anomaly_Scores_train = ae.decision_scores_\n",
    "\n",
    "# apply trained model to predict anomaly score for each observation in test data (high socres relate to low frequence, hence outliers)\n",
    "anomaly_scores_test = ae.decision_function(X_test)\n",
    "anomaly_scores_test = pd.Series(anomaly_scores_test)\n",
    "\n",
    "# plot the result\n",
    "plt.hist(anomaly_scores_test, bins = 'auto')\n",
    "plt.title(\"Histogram for Anomaly Scores\")\n",
    "plt.show()"
   ]
  },
  {
   "cell_type": "code",
   "execution_count": null,
   "metadata": {},
   "outputs": [],
   "source": []
  }
 ],
 "metadata": {
  "kernelspec": {
   "display_name": "Python 3",
   "language": "python",
   "name": "python3"
  },
  "language_info": {
   "codemirror_mode": {
    "name": "ipython",
    "version": 3
   },
   "file_extension": ".py",
   "mimetype": "text/x-python",
   "name": "python",
   "nbconvert_exporter": "python",
   "pygments_lexer": "ipython3",
   "version": "3.7.3"
  }
 },
 "nbformat": 4,
 "nbformat_minor": 4
}
