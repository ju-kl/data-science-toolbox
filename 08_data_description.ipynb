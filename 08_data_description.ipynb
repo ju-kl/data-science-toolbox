{
 "cells": [
  {
   "cell_type": "code",
   "execution_count": 2,
   "metadata": {},
   "outputs": [],
   "source": [
    "import pandas as pd\n",
    "import numpy as np\n",
    "import seaborn as sns\n",
    "from matplotlib import pyplot as plt"
   ]
  },
  {
   "cell_type": "markdown",
   "metadata": {},
   "source": [
    "# 8 Data Description\n",
    "\n",
    "This section presents the data that is used to showcase the functionality of the methodologies above."
   ]
  },
  {
   "cell_type": "markdown",
   "metadata": {},
   "source": [
    "## 6.1 Iris\n",
    "This dataset can be accessed through the sklearn package (https://scikit-learn.org/stable/modules/generated/sklearn.datasets.load_iris.html). It includes three iris species with 50 samples each as well as some properties about each flower. One flower species is linearly separable from the other two, but the other two are not linearly separable from each other. The columns in this dataset are: Id, SepalLengthCm, SepalWidthCm, PetalLengthCm, PetalWidthCm, Species."
   ]
  },
  {
   "cell_type": "markdown",
   "metadata": {},
   "source": [
    "## 6.2 Make Moons\n",
    "This dataset can be accessed through the sklearn package (https://scikit-learn.org/stable/modules/generated/sklearn.datasets.make_moons.html). It produces two interleaving half circles."
   ]
  },
  {
   "cell_type": "markdown",
   "metadata": {},
   "source": [
    "## 6.3 Boston\n",
    "This dataset can be accessed through the sklearn package (https://scikit-learn.org/stable/modules/generated/sklearn.datasets.load_boston.html). It includes data on housing prices in Boston."
   ]
  },
  {
   "cell_type": "markdown",
   "metadata": {},
   "source": [
    "## 6.4 Xclara\n",
    "This dataset can be downloaded from Kaggle (https://www.kaggle.com/hdriss/xclara). It includes two coordinates for datapoits that can relatively easily be clusterd into three clusters."
   ]
  },
  {
   "cell_type": "markdown",
   "metadata": {},
   "source": [
    "## 6.5 Movements\n",
    "This dataset includes daily stock movements on 60 S&P500 companies from 2010-01-04 until 2013-10-29."
   ]
  },
  {
   "cell_type": "markdown",
   "metadata": {},
   "source": [
    "## 6.6 Movies\n",
    "This dataset includes information such as release date, plot, and actors on 250 movies and can be accessed through this website: https://query.data.world/s/uikepcpffyo2nhig52xxeevdialfl7."
   ]
  },
  {
   "cell_type": "markdown",
   "metadata": {},
   "source": [
    "## 6.7 Music\n",
    "This dataset includes information on 100 songs and some of their audio features. The dataset was crawled from Spotify's Developers API."
   ]
  },
  {
   "cell_type": "markdown",
   "metadata": {},
   "source": [
    "## 6.8 Credit\n",
    "This dataset includes 10,000 credit card transactions. A small number of the transactions are fraudulent. The dataset comes with 25 features of the transactions."
   ]
  },
  {
   "cell_type": "markdown",
   "metadata": {},
   "source": [
    "## 6.9 Arilines\n",
    "This dataset includes 100 flights including 18 features about the flight, such as origin, destination, and distance."
   ]
  }
 ],
 "metadata": {
  "kernelspec": {
   "display_name": "Python 3",
   "language": "python",
   "name": "python3"
  },
  "language_info": {
   "codemirror_mode": {
    "name": "ipython",
    "version": 3
   },
   "file_extension": ".py",
   "mimetype": "text/x-python",
   "name": "python",
   "nbconvert_exporter": "python",
   "pygments_lexer": "ipython3",
   "version": "3.7.3"
  }
 },
 "nbformat": 4,
 "nbformat_minor": 4
}
