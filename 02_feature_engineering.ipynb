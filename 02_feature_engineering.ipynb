{
 "cells": [
  {
   "cell_type": "code",
   "execution_count": 2,
   "metadata": {},
   "outputs": [],
   "source": [
    "import pandas as pd\n",
    "import numpy as np\n",
    "import seaborn as sns\n",
    "from matplotlib import pyplot as plt\n",
    "import warnings\n",
    "warnings.filterwarnings(action = 'ignore')"
   ]
  },
  {
   "cell_type": "markdown",
   "metadata": {},
   "source": [
    "# 2 Feature Engineering"
   ]
  },
  {
   "cell_type": "markdown",
   "metadata": {},
   "source": [
    "## 2.1 Standardization"
   ]
  },
  {
   "cell_type": "markdown",
   "metadata": {},
   "source": [
    "### 2.1.1 StandardScalar()\n",
    "- Application: StandardScalar is applied to data columns and hence only one feature\n",
    "- Description: StandardScalar standardizes features individually by removing the mean and scaling to unit variance ($ z = \\frac{x - \\mu}{\\sigma} $). Unit variance means that the standard deviation of a sample as well as the variance will tend towards 1 as the sample size tends towards infinity"
   ]
  },
  {
   "cell_type": "code",
   "execution_count": 23,
   "metadata": {},
   "outputs": [],
   "source": [
    "from sklearn.datasets import load_iris\n",
    "from sklearn.preprocessing import StandardScaler"
   ]
  },
  {
   "cell_type": "code",
   "execution_count": 24,
   "metadata": {},
   "outputs": [
    {
     "name": "stdout",
     "output_type": "stream",
     "text": [
      "       SepalLengthCm  SepalWidthCm  PetalLengthCm  PetalWidthCm\n",
      "count     150.000000    150.000000     150.000000    150.000000\n",
      "mean        5.843333      3.057333       3.758000      1.199333\n",
      "std         0.828066      0.435866       1.765298      0.762238\n",
      "min         4.300000      2.000000       1.000000      0.100000\n",
      "25%         5.100000      2.800000       1.600000      0.300000\n",
      "50%         5.800000      3.000000       4.350000      1.300000\n",
      "75%         6.400000      3.300000       5.100000      1.800000\n",
      "max         7.900000      4.400000       6.900000      2.500000\n",
      "       SepalLengthCm  SepalWidthCm  PetalLengthCm  PetalWidthCm\n",
      "count   1.500000e+02  1.500000e+02   1.500000e+02  1.500000e+02\n",
      "mean   -1.690315e-15 -1.842970e-15  -1.698641e-15 -1.409243e-15\n",
      "std     1.003350e+00  1.003350e+00   1.003350e+00  1.003350e+00\n",
      "min    -1.870024e+00 -2.433947e+00  -1.567576e+00 -1.447076e+00\n",
      "25%    -9.006812e-01 -5.923730e-01  -1.226552e+00 -1.183812e+00\n",
      "50%    -5.250608e-02 -1.319795e-01   3.364776e-01  1.325097e-01\n",
      "75%     6.745011e-01  5.586108e-01   7.627583e-01  7.906707e-01\n",
      "max     2.492019e+00  3.090775e+00   1.785832e+00  1.712096e+00\n"
     ]
    }
   ],
   "source": [
    "# load data\n",
    "iris = load_iris()\n",
    "iris = pd.DataFrame(iris['data'], columns = [\"SepalLengthCm\", \"SepalWidthCm\", \"PetalLengthCm\", \"PetalWidthCm\"])\n",
    "print(iris.describe())\n",
    "\n",
    "# initiate StandardScaler()\n",
    "scaler = StandardScaler()\n",
    "\n",
    "# fit scaler and transform iris data\n",
    "iris_standard_scaler = scaler.fit_transform(iris)\n",
    "\n",
    "# print standardized data\n",
    "print(pd.DataFrame(iris_standard_scaler, columns = [\"SepalLengthCm\", \"SepalWidthCm\", \"PetalLengthCm\", \"PetalWidthCm\"]).describe())"
   ]
  },
  {
   "cell_type": "markdown",
   "metadata": {},
   "source": [
    "### 2.1.2 Normalizer()\n",
    "- Application: Normalizer is applied to data rows and hence across features\n",
    "- Description: Normalizer rescales each row, meaning that it adjusts the value of each feature relative to the value of the other features in each row to a realative scale; this preserves the dispersion ($n = \\frac{x-x_{min}}{x_{max}-x_{min}}$)"
   ]
  },
  {
   "cell_type": "code",
   "execution_count": 25,
   "metadata": {},
   "outputs": [],
   "source": [
    "from sklearn.datasets import load_iris\n",
    "from sklearn.preprocessing import Normalizer"
   ]
  },
  {
   "cell_type": "code",
   "execution_count": 26,
   "metadata": {},
   "outputs": [
    {
     "name": "stdout",
     "output_type": "stream",
     "text": [
      "   SepalLengthCm  SepalWidthCm  PetalLengthCm  PetalWidthCm\n",
      "0            5.1           3.5            1.4           0.2\n",
      "1            4.9           3.0            1.4           0.2\n",
      "2            4.7           3.2            1.3           0.2\n",
      "3            4.6           3.1            1.5           0.2\n",
      "4            5.0           3.6            1.4           0.2\n",
      "   SepalLengthCm  SepalWidthCm  PetalLengthCm  PetalWidthCm\n",
      "0       0.803773      0.551609       0.220644      0.031521\n",
      "1       0.828133      0.507020       0.236609      0.033801\n",
      "2       0.805333      0.548312       0.222752      0.034269\n",
      "3       0.800030      0.539151       0.260879      0.034784\n",
      "4       0.790965      0.569495       0.221470      0.031639\n"
     ]
    }
   ],
   "source": [
    "# load data\n",
    "iris = load_iris()\n",
    "iris = pd.DataFrame(iris['data'], columns = [\"SepalLengthCm\", \"SepalWidthCm\", \"PetalLengthCm\", \"PetalWidthCm\"])\n",
    "print(iris.head())\n",
    "\n",
    "# initiate StandardScaler()\n",
    "scaler = Normalizer()\n",
    "\n",
    "# fit scaler and transform iris data\n",
    "iris_normlized = scaler.fit_transform(iris)\n",
    "\n",
    "# print standardized data\n",
    "print(pd.DataFrame(iris_normlized,  columns = [\"SepalLengthCm\", \"SepalWidthCm\", \"PetalLengthCm\", \"PetalWidthCm\"]).head())"
   ]
  },
  {
   "cell_type": "markdown",
   "metadata": {},
   "source": [
    "## 2.2 Variance"
   ]
  },
  {
   "cell_type": "markdown",
   "metadata": {},
   "source": [
    "### 2.2.1 VarianceThreshold()\n",
    "- Application: VarianceThreshold() is applied for feature selection and identifies low variance features that won't be significant in predicting the target variable\n",
    "- Description: VarianceThreshold() is a feature selector that removes all low-variance features"
   ]
  },
  {
   "cell_type": "code",
   "execution_count": 27,
   "metadata": {},
   "outputs": [],
   "source": [
    "from sklearn.feature_selection import VarianceThreshold"
   ]
  },
  {
   "cell_type": "code",
   "execution_count": 28,
   "metadata": {},
   "outputs": [
    {
     "name": "stdout",
     "output_type": "stream",
     "text": [
      "These are the infos on the original data frame: \n",
      "          a         b         c    d\n",
      "count  3.0  3.000000  3.000000  3.0\n",
      "mean   0.0  1.333333  1.666667  3.0\n",
      "std    0.0  0.577350  2.081666  0.0\n",
      "min    0.0  1.000000  0.000000  3.0\n",
      "25%    0.0  1.000000  0.500000  3.0\n",
      "50%    0.0  1.000000  1.000000  3.0\n",
      "75%    0.0  1.500000  2.500000  3.0\n",
      "max    0.0  2.000000  4.000000  3.0\n",
      "This is how the transformed data frame looks like: \n",
      "    b  c\n",
      "0  2  0\n",
      "1  1  4\n",
      "2  1  1\n"
     ]
    }
   ],
   "source": [
    "# create data frame\n",
    "x = [[0, 2, 0, 3], [0, 1, 4, 3], [0, 1, 1, 3]]\n",
    "df = pd.DataFrame(x, columns = [\"a\", \"b\", \"c\", \"d\"])\n",
    "\n",
    "# initialize VarianceThreshold\n",
    "selector = VarianceThreshold()\n",
    "\n",
    "# fit model and transform data frame\n",
    "df_new = selector.fit_transform(df)\n",
    "\n",
    "# print results\n",
    "print(\"These are the infos on the original data frame:\", \"\\n\", df.describe())\n",
    "print(\"This is how the transformed data frame looks like:\", \"\\n\", \n",
    "      pd.DataFrame(df_new, columns = df.columns[selector.get_support()]))"
   ]
  },
  {
   "cell_type": "markdown",
   "metadata": {},
   "source": [
    "## 2.3 Correlation"
   ]
  },
  {
   "cell_type": "markdown",
   "metadata": {},
   "source": [
    "### 2.3.1 Correlation Matrix\n",
    "- Application: Correlation matrix is applied for feature selection and identifies highly correlated features that should be removed\n",
    "- Description: Find the correlation matrix and remove features that are highly correlated"
   ]
  },
  {
   "cell_type": "code",
   "execution_count": null,
   "metadata": {},
   "outputs": [],
   "source": [
    "from sklearn.datasets import load_iris"
   ]
  },
  {
   "cell_type": "code",
   "execution_count": 22,
   "metadata": {},
   "outputs": [
    {
     "data": {
      "text/html": [
       "<div>\n",
       "<style scoped>\n",
       "    .dataframe tbody tr th:only-of-type {\n",
       "        vertical-align: middle;\n",
       "    }\n",
       "\n",
       "    .dataframe tbody tr th {\n",
       "        vertical-align: top;\n",
       "    }\n",
       "\n",
       "    .dataframe thead th {\n",
       "        text-align: right;\n",
       "    }\n",
       "</style>\n",
       "<table border=\"1\" class=\"dataframe\">\n",
       "  <thead>\n",
       "    <tr style=\"text-align: right;\">\n",
       "      <th></th>\n",
       "      <th>SepalLengthCm</th>\n",
       "      <th>SepalWidthCm</th>\n",
       "      <th>PetalLengthCm</th>\n",
       "      <th>PetalWidthCm</th>\n",
       "    </tr>\n",
       "  </thead>\n",
       "  <tbody>\n",
       "    <tr>\n",
       "      <th>SepalLengthCm</th>\n",
       "      <td>NaN</td>\n",
       "      <td>NaN</td>\n",
       "      <td>NaN</td>\n",
       "      <td>NaN</td>\n",
       "    </tr>\n",
       "    <tr>\n",
       "      <th>SepalWidthCm</th>\n",
       "      <td>NaN</td>\n",
       "      <td>NaN</td>\n",
       "      <td>NaN</td>\n",
       "      <td>NaN</td>\n",
       "    </tr>\n",
       "    <tr>\n",
       "      <th>PetalLengthCm</th>\n",
       "      <td>NaN</td>\n",
       "      <td>NaN</td>\n",
       "      <td>NaN</td>\n",
       "      <td>0.962865</td>\n",
       "    </tr>\n",
       "    <tr>\n",
       "      <th>PetalWidthCm</th>\n",
       "      <td>NaN</td>\n",
       "      <td>NaN</td>\n",
       "      <td>0.962865</td>\n",
       "      <td>NaN</td>\n",
       "    </tr>\n",
       "  </tbody>\n",
       "</table>\n",
       "</div>"
      ],
      "text/plain": [
       "               SepalLengthCm  SepalWidthCm  PetalLengthCm  PetalWidthCm\n",
       "SepalLengthCm            NaN           NaN            NaN           NaN\n",
       "SepalWidthCm             NaN           NaN            NaN           NaN\n",
       "PetalLengthCm            NaN           NaN            NaN      0.962865\n",
       "PetalWidthCm             NaN           NaN       0.962865           NaN"
      ]
     },
     "execution_count": 22,
     "metadata": {},
     "output_type": "execute_result"
    }
   ],
   "source": [
    "# load data\n",
    "iris = load_iris()\n",
    "iris = pd.DataFrame(iris['data'], columns = [\"SepalLengthCm\", \"SepalWidthCm\", \"PetalLengthCm\", \"PetalWidthCm\"])\n",
    "\n",
    "# run correlation matrix\n",
    "iris.corr(method = \"pearson\")[(iris.corr(method = \"pearson\") > 0.9) & (iris.corr(method = \"pearson\") != 1)]"
   ]
  },
  {
   "cell_type": "markdown",
   "metadata": {},
   "source": [
    "## 2.4 Text"
   ]
  },
  {
   "cell_type": "markdown",
   "metadata": {},
   "source": [
    "### 2.4.1 TfidfVectorizer()\n",
    "- Application: TfidfVectorizer is applied to convert text (documents) into numerical values, namely a matrix of tf-idf features\n",
    "- Description: \n",
    "    * Tf–idf is short for term frequency–inverse document frequency and represents a numerical statistic that is intended to reflect how important a word is to a document\n",
    "    * The tf–idf value increases proportionally to the number of times a word appears in the document and is offset by the number of documents in the corpus that contain the word, helping to adjust for the fact that some words appear more frequently in general"
   ]
  },
  {
   "cell_type": "code",
   "execution_count": 29,
   "metadata": {},
   "outputs": [],
   "source": [
    "from sklearn.feature_extraction.text import TfidfVectorizer"
   ]
  },
  {
   "cell_type": "code",
   "execution_count": 30,
   "metadata": {},
   "outputs": [
    {
     "name": "stdout",
     "output_type": "stream",
     "text": [
      "The unique words in the corpus are: \n",
      " ['cats', 'chase', 'dogs', 'greet', 'say', 'to', 'woof']\n",
      "The resulting matrix looks like this: \n",
      " [[0.83559154 0.         0.         0.54935123 0.         0.\n",
      "  0.        ]\n",
      " [0.         0.         0.65985664 0.         0.43381609 0.43381609\n",
      "  0.43381609]\n",
      " [0.51785612 0.68091856 0.51785612 0.         0.         0.\n",
      "  0.        ]]\n"
     ]
    }
   ],
   "source": [
    "# create list of text documents\n",
    "corpus = [\"cats greet cats\", \"dogs say woof to dogs\", \"dogs chase cats\"]\n",
    "\n",
    "# initialize TfidfVectorizer\n",
    "vectorizer = TfidfVectorizer()\n",
    "\n",
    "# fit vectorizer\n",
    "vectorizer.fit(corpus)\n",
    "\n",
    "# transform the document\n",
    "corpus_vectorized = vectorizer.transform(corpus)\n",
    "\n",
    "# print results\n",
    "print(\"The unique words in the corpus are:\", \"\\n\", vectorizer.get_feature_names())\n",
    "print(\"The resulting matrix looks like this:\", \"\\n\", corpus_vectorized.toarray())"
   ]
  },
  {
   "cell_type": "markdown",
   "metadata": {},
   "source": [
    "### 2.4.2 CountVectorizer()\n",
    "- Application: CountVectorizer is applied to count the number of times a word appears in a document\n",
    "- Description:\n",
    "    * Returns a vector with a length of the entire vocabulary of the document and an integer count for the number of times each word (token) appeared in the document\n",
    "    * The output is presented as a sparse matrix"
   ]
  },
  {
   "cell_type": "code",
   "execution_count": 31,
   "metadata": {},
   "outputs": [],
   "source": [
    "from sklearn.feature_extraction.text import CountVectorizer"
   ]
  },
  {
   "cell_type": "code",
   "execution_count": 32,
   "metadata": {},
   "outputs": [
    {
     "name": "stdout",
     "output_type": "stream",
     "text": [
      "The unique words in the corpus are: \n",
      " {'cats': 0, 'greet': 3, 'dogs': 2, 'say': 4, 'woof': 6, 'to': 5, 'chase': 1}\n",
      "The resulting matrix looks like this: \n",
      " [[2 0 0 1 0 0 0]\n",
      " [0 0 2 0 1 1 1]\n",
      " [1 1 1 0 0 0 0]]\n"
     ]
    }
   ],
   "source": [
    "# create list of text documents\n",
    "corpus = [\"cats greet cats\", \"dogs say woof to dogs\", \"dogs chase cats\"]\n",
    "\n",
    "# initialize the CountVectorizer\n",
    "vectorizer = CountVectorizer()\n",
    "\n",
    "# fit the vectorizer\n",
    "vectorizer.fit(corpus)\n",
    "\n",
    "# transform the document\n",
    "corpus_vectorized = vectorizer.transform(corpus)\n",
    "\n",
    "# print results\n",
    "print(\"The unique words in the corpus are:\", \"\\n\", vectorizer.vocabulary_)\n",
    "print(\"The resulting matrix looks like this:\", \"\\n\", corpus_vectorized.toarray())"
   ]
  },
  {
   "cell_type": "markdown",
   "metadata": {},
   "source": [
    "### 2.4.3 Keyword Extraction\n",
    "- Application: Keyword extraction is used for text mining, information retrieval, and natrual language processing\n",
    "- Description:\n",
    "    * Keyword extraction automatically identifies terms that best describe the subject of a document\n",
    "    * It determines key phrases in a body of text by analyzing the frequency of word appearance and its co-occurance with other words in the text"
   ]
  },
  {
   "cell_type": "code",
   "execution_count": 64,
   "metadata": {},
   "outputs": [],
   "source": [
    "from rake_nltk import Rake"
   ]
  },
  {
   "cell_type": "code",
   "execution_count": 88,
   "metadata": {},
   "outputs": [
    {
     "name": "stdout",
     "output_type": "stream",
     "text": [
      "The keywords from the plot of the movie The Dark Knight are: [['mysterious', 'past', 'people', 'menace', 'known', 'chaos', 'gotham', 'ability', 'wreaks', 'havoc', 'dark', 'knight', 'must', 'accept', 'one', 'physical', 'tests', 'joker', 'emerges', 'greatest', 'psychological', 'fight', 'injustice']]\n"
     ]
    }
   ],
   "source": [
    "# load data\n",
    "movies = pd.read_csv('datasets/Movies.csv', index_col = 0)\n",
    "movies_plot = movies.loc[:, ['Title', 'Plot']]\n",
    "\n",
    "# extracting keywords from plots\n",
    "movies_plot['Keywords'] = ''\n",
    "for index, row in movies_plot.iterrows():\n",
    "    plot = row['Plot']\n",
    "    # instantiating Rake, by default it uses english stopwords from nltk and discards puntuation\n",
    "    r = Rake()\n",
    "    # extracting the words by passing the text\n",
    "    r.extract_keywords_from_text(plot)\n",
    "    # getting the dictionary whith key words as keys and their scores as values\n",
    "    keywords_dict_scores = r.get_word_degrees()\n",
    "    # assigning the key words to the new column for the corresponding movie\n",
    "    row['Keywords'] = list(keywords_dict_scores.keys())\n",
    "\n",
    "# print one example\n",
    "print('The keywords from the plot of the movie The Dark Knight are:', list(movies_plot[movies_plot['Title'] == 'The Dark Knight']['Keywords']))"
   ]
  },
  {
   "cell_type": "markdown",
   "metadata": {},
   "source": [
    "### 2.4.4 Word Embeddings\n",
    "- Application: Word embeddings are used to capture context of a word in a document and are hence applied for sentiment analysis\n",
    "- Description:\n",
    "    * Word embeddings are word representations (words are mapped to vectors of real numbers) that allow words with similar meaning to have a similar representation\n",
    "    * There are several algorithms to perform this task, for example Word2Vec, which again consists of two learning models:\n",
    "        * Continuous Bag-of-Words (CBOW): Learns the embedding by predicting the current word based on its context\n",
    "        * Continuous Skip-Gram-Model: Learns by predicting the surrounding words given a current word\n",
    "    * Pre-trained embeddings allow one to identify words in a document that are related to a given input word"
   ]
  },
  {
   "cell_type": "code",
   "execution_count": 142,
   "metadata": {},
   "outputs": [],
   "source": [
    "# import gensim\n",
    "\n",
    "# initialize model\n",
    "#model_gn = gensim.models.KeyedVectors.load_word2vec_format('GoogleNews-vectors-negative300.bin', binary=True)\n",
    "\n",
    "# define keys to create embeddings for\n",
    "#keys = ['love', 'hate', 'stocks']\n",
    "\n",
    "# create embeddings\n",
    "#embedding_clusters = []\n",
    "#word_clusters = []\n",
    "#for word in keys:\n",
    "#    embeddings = []\n",
    "#    words = []\n",
    "#    for similar_word, _ in model_gn.most_similar(word, topn=30):\n",
    "#        words.append(similar_word)\n",
    "#        embeddings.append(model_gn[similar_word])\n",
    "#    embedding_clusters.append(embeddings)\n",
    "#    word_clusters.append(words)"
   ]
  },
  {
   "cell_type": "markdown",
   "metadata": {},
   "source": [
    "## 2.5 Oversampling"
   ]
  },
  {
   "cell_type": "markdown",
   "metadata": {},
   "source": [
    "### 2.5.1 Synthetic Minority Oversampling Technique\n",
    "- Application: Synthetic Minority Oversampling Technique (SMOTE) is used to adjust the distribution of classes in a dataset if we have imbalanced data that needs to be classified\n",
    "- Description:\n",
    "    * We differentiate between undersampling, where we have to reduce the number of majority cases, and oversampling, where we have to increase the number of minority cases\n",
    "    * SMOTE is applied to oversample the minority class\n",
    "    * We randomly select a minority point, find the k-nearest neighbors for the point (typically $k=5$) and add synthetic points between the chosen point and one randomly selected neighbor"
   ]
  },
  {
   "cell_type": "code",
   "execution_count": 12,
   "metadata": {},
   "outputs": [],
   "source": [
    "from imblearn.over_sampling import SMOTE"
   ]
  },
  {
   "cell_type": "code",
   "execution_count": 11,
   "metadata": {},
   "outputs": [
    {
     "data": {
      "image/png": "[encoded data removed]",
      "text/plain": [
       "<Figure size 432x288 with 2 Axes>"
      ]
     },
     "metadata": {
      "needs_background": "light"
     },
     "output_type": "display_data"
    }
   ],
   "source": [
    "# load data\n",
    "credit = pd.read_csv('datasets/Credit.csv',index_col=0)\n",
    "y = credit.iloc[:,-1].values\n",
    "x = credit.iloc[:, :-1].values\n",
    "\n",
    "# initialize method\n",
    "method = SMOTE()\n",
    "\n",
    "# create resampled feature set\n",
    "x_resampled, y_resampled = method.fit_sample(x, y)\n",
    "\n",
    "# plot cases along first two features\n",
    "fig, (ax1, ax2) = plt.subplots(1, 2)\n",
    "ax1.scatter(x[y == 0, 0], x[y == 0, 1], label=\"Not Fraudulent\", alpha=0.5, linewidth=0.15)\n",
    "ax1.scatter(x[y == 1, 0], x[y == 1, 1], label=\"Fraudulent\", alpha=0.5, linewidth=0.15, c='y')\n",
    "ax1.legend()\n",
    "ax1.set_title('Original Data')\n",
    "ax2.scatter(x_resampled[y_resampled == 0, 0], x_resampled[y_resampled == 0, 1], label=\"Not Fraudulent\", alpha=0.5, linewidth=0.15)\n",
    "ax2.scatter(x_resampled[y_resampled == 1, 0], x_resampled[y_resampled == 1, 1], label=\"Fraudulent\", alpha=0.5, linewidth=0.15, c='y')\n",
    "ax2.legend()\n",
    "ax2.set_title('SMOTE Data')\n",
    "plt.show()"
   ]
  },
  {
   "cell_type": "markdown",
   "metadata": {},
   "source": [
    "## 2.6 Dimension Reduction"
   ]
  },
  {
   "cell_type": "markdown",
   "metadata": {},
   "source": [
    "### 2.6.1 Principle Component Analysis\n",
    "- Application: PCA is applied to reduce the dimensionality of data and to find patterns in data of high dimension\n",
    "- Desciption: PCA represents the original data in a smaller number of components. The number of components should be reduced as much as possible, while still describing >85% of the data's variance\n",
    "- Functionality:\n",
    "    * Standardize the features, otherwise variables with relatively higher variance outweigh other features\n",
    "    * We have a point cloud and want to find its major/minor direction\n",
    "    * This point cloud is centered at $\\mu$, but we want to re-center it at the origin (subtract the column means)\n",
    "    * We then rotate the matrix to be more axis-aligned by multiplying it with an orthogonal matrix and make the columns orthonormal; mathematically, the columns of our matrix are now uncorrelated, meaning that the resulting components will also be uncorrelated\n",
    "    * We then perform matrix singular value decomposition on the above described matrix into eigenvectors and eigenvalues (this can also be performed on the covariance matrix between columns)\n",
    "    * The eigenvalues represent the variance described by the corresponding eigenvector\n",
    "    * We now sort the eigenvalues in descending order in order to select as many eigenvector necessary to describe our original data well enough\n",
    "    * The eigenvectors can be used to represent the loadings:\n",
    "        * They can be thought of as the directions in the feature space along which the data vary the most\n",
    "        * They can be used to determine the contribution of each feature to each of the component\n",
    "        * The resulting vectors fit the data, minimizing the distance between each observation and the vector\n",
    "    * The principal component scores are derived multiplying the loadings by the feature values\n",
    "    * Biplot are used to displays the principle component scores as well as the principle component loadings\n",
    "- Limitations: PCA assumes linear relationships between data points and is usually just a pre-processing step"
   ]
  },
  {
   "cell_type": "code",
   "execution_count": 123,
   "metadata": {},
   "outputs": [],
   "source": [
    "from sklearn.datasets import load_iris\n",
    "from sklearn.decomposition import PCA"
   ]
  },
  {
   "cell_type": "code",
   "execution_count": 176,
   "metadata": {},
   "outputs": [
    {
     "name": "stdout",
     "output_type": "stream",
     "text": [
      "The cummulative explained variance by each component is: [0.92461872 0.97768521 0.99478782 1.        ]\n",
      "   pca_inverse  original\n",
      "0     4.873326       4.9\n",
      "1     3.284202       3.0\n",
      "2     1.458588       1.4\n",
      "3     0.237640       0.2\n",
      "The shape of the iris_reduced is: (150, 1)\n"
     ]
    }
   ],
   "source": [
    "# load data\n",
    "iris = load_iris()\n",
    "iris = pd.DataFrame(iris['data'], columns = [\"SepalLengthCm\", \"SepalWidthCm\", \"PetalLengthCm\", \"PetalWidthCm\"])\n",
    "\n",
    "# fit pca without specifying n_components\n",
    "pca = PCA().fit(iris)\n",
    "\n",
    "# find optimal number of components\n",
    "print('The cummulative explained variance by each component is:', np.cumsum(pca.explained_variance_ratio_))\n",
    "\n",
    "# fit pca with n_components = 1\n",
    "pca = PCA(n_components = 1).fit(iris)\n",
    "\n",
    "# reduce dimensionality of iris\n",
    "iris_reduced = pca.fit_transform(iris)\n",
    "\n",
    "# transform data back to its original shape\n",
    "iris_inverse = pca.inverse_transform(iris_reduced)\n",
    "print(pd.DataFrame({'pca_inverse': iris_inverse[0], 'original': iris.values[1]}))\n",
    "\n",
    "# print new data\n",
    "print('The shape of the iris_reduced is:', iris_reduced.shape)"
   ]
  },
  {
   "cell_type": "markdown",
   "metadata": {},
   "source": [
    "### 2.6.2 Truncated Singular Value Decomposition\n",
    "- Application: Truncated Singular Value Decomposition (SVD) is applied for text mining. It reduces dimensions of text data and is a pre-preparation tool for the clustering of text data\n",
    "- Description: Contrary to PCA, Truncated SVD does not center the data before computing the singular value decomposition, meaning that it can work with sparse matrices efficiently\n",
    "- Functionality:\n",
    "    * We first have to transform text into features with numerical values: There are several techniques such as CountVectorizer or TfidfVectorizer\n",
    "    * We then perform SVD on the numerical matrix like we do in PCA\n",
    "    * Only the column and row vectors corresponding to the largest eigenvalues are calculated and the rest of the matrix is discarded\n",
    "- Limitations: Text data needs to be vectorized before Truncated SVD can be applied to it. Truncated SVD is usually just a pre-processing setp"
   ]
  },
  {
   "cell_type": "code",
   "execution_count": 20,
   "metadata": {},
   "outputs": [],
   "source": [
    "from scipy.sparse import random as sparse_random\n",
    "from sklearn.decomposition import TruncatedSVD"
   ]
  },
  {
   "cell_type": "code",
   "execution_count": 33,
   "metadata": {},
   "outputs": [
    {
     "name": "stdout",
     "output_type": "stream",
     "text": [
      "The cummulative explained variance by each component is: [0.01342521 0.05961285 0.10155722 0.13995647 0.17480073 0.20896208\n",
      " 0.24148441 0.27200877 0.30147327 0.33037641 0.35709628 0.38327579\n",
      " 0.40810268 0.43237488 0.4558951  0.47848363 0.50058471 0.52205071\n",
      " 0.54178362 0.56130295 0.57953759 0.59744854 0.61443092 0.63087268\n",
      " 0.64704028 0.66271213 0.67809192 0.69276143 0.707133   0.72123466\n",
      " 0.73478017 0.74729161 0.75945563 0.7715399  0.78292753 0.79406602\n",
      " 0.80469552 0.81498795 0.82436963 0.83366938 0.84273691 0.85121777]\n",
      "         0         1         2         3         4         5         6   \\\n",
      "0  0.934004  1.115706  0.300979  0.590796  0.551706  0.065915 -0.033311   \n",
      "\n",
      "        7         8         9   ...        32        33        34        35  \\\n",
      "0 -0.70139  0.491412  0.203077  ... -0.010019 -0.135218  0.150626 -0.008025   \n",
      "\n",
      "         36        37        38        39        40        41  \n",
      "0 -0.234909  0.013812 -0.185425 -0.119091  0.135215 -0.133744  \n",
      "\n",
      "[1 rows x 42 columns]\n"
     ]
    }
   ],
   "source": [
    "# load random sparse matrix (i.e. representing tf-idf matrix)\n",
    "x = sparse_random(100, 100, density = 0.1, random_state = 42)\n",
    "\n",
    "# initialize and fit svd\n",
    "svd = TruncatedSVD(n_components = 42).fit(x)\n",
    "\n",
    "# find optimal number of components\n",
    "print('The cummulative explained variance by each component is:', np.cumsum(svd.explained_variance_ratio_))\n",
    "\n",
    "# transform data\n",
    "x_svd = svd.fit_transform(x)\n",
    "\n",
    "# print results\n",
    "print(pd.DataFrame(x_svd[:1]))"
   ]
  }
 ],
 "metadata": {
  "kernelspec": {
   "display_name": "Python 3",
   "language": "python",
   "name": "python3"
  },
  "language_info": {
   "codemirror_mode": {
    "name": "ipython",
    "version": 3
   },
   "file_extension": ".py",
   "mimetype": "text/x-python",
   "name": "python",
   "nbconvert_exporter": "python",
   "pygments_lexer": "ipython3",
   "version": "3.7.3"
  }
 },
 "nbformat": 4,
 "nbformat_minor": 4
}
